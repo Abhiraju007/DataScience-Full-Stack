{
 "cells": [
  {
   "cell_type": "code",
   "execution_count": 1,
   "id": "23c3a05c",
   "metadata": {},
   "outputs": [],
   "source": [
    "import pandas as pd\n",
    "import numpy as np\n",
    "import seaborn as sns"
   ]
  },
  {
   "cell_type": "code",
   "execution_count": 2,
   "id": "0bff2516",
   "metadata": {},
   "outputs": [],
   "source": [
    "df = pd.read_csv('train.csv')"
   ]
  },
  {
   "cell_type": "code",
   "execution_count": 3,
   "id": "e033b1d9",
   "metadata": {},
   "outputs": [
    {
     "data": {
      "text/html": [
       "<div>\n",
       "<style scoped>\n",
       "    .dataframe tbody tr th:only-of-type {\n",
       "        vertical-align: middle;\n",
       "    }\n",
       "\n",
       "    .dataframe tbody tr th {\n",
       "        vertical-align: top;\n",
       "    }\n",
       "\n",
       "    .dataframe thead th {\n",
       "        text-align: right;\n",
       "    }\n",
       "</style>\n",
       "<table border=\"1\" class=\"dataframe\">\n",
       "  <thead>\n",
       "    <tr style=\"text-align: right;\">\n",
       "      <th></th>\n",
       "      <th>label</th>\n",
       "      <th>pixel0</th>\n",
       "      <th>pixel1</th>\n",
       "      <th>pixel2</th>\n",
       "      <th>pixel3</th>\n",
       "      <th>pixel4</th>\n",
       "      <th>pixel5</th>\n",
       "      <th>pixel6</th>\n",
       "      <th>pixel7</th>\n",
       "      <th>pixel8</th>\n",
       "      <th>...</th>\n",
       "      <th>pixel774</th>\n",
       "      <th>pixel775</th>\n",
       "      <th>pixel776</th>\n",
       "      <th>pixel777</th>\n",
       "      <th>pixel778</th>\n",
       "      <th>pixel779</th>\n",
       "      <th>pixel780</th>\n",
       "      <th>pixel781</th>\n",
       "      <th>pixel782</th>\n",
       "      <th>pixel783</th>\n",
       "    </tr>\n",
       "  </thead>\n",
       "  <tbody>\n",
       "    <tr>\n",
       "      <th>0</th>\n",
       "      <td>1</td>\n",
       "      <td>0</td>\n",
       "      <td>0</td>\n",
       "      <td>0</td>\n",
       "      <td>0</td>\n",
       "      <td>0</td>\n",
       "      <td>0</td>\n",
       "      <td>0</td>\n",
       "      <td>0</td>\n",
       "      <td>0</td>\n",
       "      <td>...</td>\n",
       "      <td>0</td>\n",
       "      <td>0</td>\n",
       "      <td>0</td>\n",
       "      <td>0</td>\n",
       "      <td>0</td>\n",
       "      <td>0</td>\n",
       "      <td>0</td>\n",
       "      <td>0</td>\n",
       "      <td>0</td>\n",
       "      <td>0</td>\n",
       "    </tr>\n",
       "    <tr>\n",
       "      <th>1</th>\n",
       "      <td>0</td>\n",
       "      <td>0</td>\n",
       "      <td>0</td>\n",
       "      <td>0</td>\n",
       "      <td>0</td>\n",
       "      <td>0</td>\n",
       "      <td>0</td>\n",
       "      <td>0</td>\n",
       "      <td>0</td>\n",
       "      <td>0</td>\n",
       "      <td>...</td>\n",
       "      <td>0</td>\n",
       "      <td>0</td>\n",
       "      <td>0</td>\n",
       "      <td>0</td>\n",
       "      <td>0</td>\n",
       "      <td>0</td>\n",
       "      <td>0</td>\n",
       "      <td>0</td>\n",
       "      <td>0</td>\n",
       "      <td>0</td>\n",
       "    </tr>\n",
       "    <tr>\n",
       "      <th>2</th>\n",
       "      <td>1</td>\n",
       "      <td>0</td>\n",
       "      <td>0</td>\n",
       "      <td>0</td>\n",
       "      <td>0</td>\n",
       "      <td>0</td>\n",
       "      <td>0</td>\n",
       "      <td>0</td>\n",
       "      <td>0</td>\n",
       "      <td>0</td>\n",
       "      <td>...</td>\n",
       "      <td>0</td>\n",
       "      <td>0</td>\n",
       "      <td>0</td>\n",
       "      <td>0</td>\n",
       "      <td>0</td>\n",
       "      <td>0</td>\n",
       "      <td>0</td>\n",
       "      <td>0</td>\n",
       "      <td>0</td>\n",
       "      <td>0</td>\n",
       "    </tr>\n",
       "    <tr>\n",
       "      <th>3</th>\n",
       "      <td>4</td>\n",
       "      <td>0</td>\n",
       "      <td>0</td>\n",
       "      <td>0</td>\n",
       "      <td>0</td>\n",
       "      <td>0</td>\n",
       "      <td>0</td>\n",
       "      <td>0</td>\n",
       "      <td>0</td>\n",
       "      <td>0</td>\n",
       "      <td>...</td>\n",
       "      <td>0</td>\n",
       "      <td>0</td>\n",
       "      <td>0</td>\n",
       "      <td>0</td>\n",
       "      <td>0</td>\n",
       "      <td>0</td>\n",
       "      <td>0</td>\n",
       "      <td>0</td>\n",
       "      <td>0</td>\n",
       "      <td>0</td>\n",
       "    </tr>\n",
       "    <tr>\n",
       "      <th>4</th>\n",
       "      <td>0</td>\n",
       "      <td>0</td>\n",
       "      <td>0</td>\n",
       "      <td>0</td>\n",
       "      <td>0</td>\n",
       "      <td>0</td>\n",
       "      <td>0</td>\n",
       "      <td>0</td>\n",
       "      <td>0</td>\n",
       "      <td>0</td>\n",
       "      <td>...</td>\n",
       "      <td>0</td>\n",
       "      <td>0</td>\n",
       "      <td>0</td>\n",
       "      <td>0</td>\n",
       "      <td>0</td>\n",
       "      <td>0</td>\n",
       "      <td>0</td>\n",
       "      <td>0</td>\n",
       "      <td>0</td>\n",
       "      <td>0</td>\n",
       "    </tr>\n",
       "  </tbody>\n",
       "</table>\n",
       "<p>5 rows × 785 columns</p>\n",
       "</div>"
      ],
      "text/plain": [
       "   label  pixel0  pixel1  pixel2  pixel3  pixel4  pixel5  pixel6  pixel7  \\\n",
       "0      1       0       0       0       0       0       0       0       0   \n",
       "1      0       0       0       0       0       0       0       0       0   \n",
       "2      1       0       0       0       0       0       0       0       0   \n",
       "3      4       0       0       0       0       0       0       0       0   \n",
       "4      0       0       0       0       0       0       0       0       0   \n",
       "\n",
       "   pixel8  ...  pixel774  pixel775  pixel776  pixel777  pixel778  pixel779  \\\n",
       "0       0  ...         0         0         0         0         0         0   \n",
       "1       0  ...         0         0         0         0         0         0   \n",
       "2       0  ...         0         0         0         0         0         0   \n",
       "3       0  ...         0         0         0         0         0         0   \n",
       "4       0  ...         0         0         0         0         0         0   \n",
       "\n",
       "   pixel780  pixel781  pixel782  pixel783  \n",
       "0         0         0         0         0  \n",
       "1         0         0         0         0  \n",
       "2         0         0         0         0  \n",
       "3         0         0         0         0  \n",
       "4         0         0         0         0  \n",
       "\n",
       "[5 rows x 785 columns]"
      ]
     },
     "execution_count": 3,
     "metadata": {},
     "output_type": "execute_result"
    }
   ],
   "source": [
    "df.head()"
   ]
  },
  {
   "cell_type": "code",
   "execution_count": 4,
   "id": "70dd94c5",
   "metadata": {},
   "outputs": [],
   "source": [
    "X = df.iloc[:,1:]\n",
    "y =df.iloc[:,0]"
   ]
  },
  {
   "cell_type": "code",
   "execution_count": 5,
   "id": "60279337",
   "metadata": {},
   "outputs": [
    {
     "data": {
      "text/plain": [
       "<AxesSubplot:>"
      ]
     },
     "execution_count": 5,
     "metadata": {},
     "output_type": "execute_result"
    },
    {
     "data": {
      "image/png": "[encoded data removed]",
      "text/plain": [
       "<Figure size 432x288 with 2 Axes>"
      ]
     },
     "metadata": {
      "needs_background": "light"
     },
     "output_type": "display_data"
    }
   ],
   "source": [
    "sns.heatmap(X.iloc[5].values.reshape(28,28))"
   ]
  },
  {
   "cell_type": "code",
   "execution_count": 6,
   "id": "0bebd564",
   "metadata": {},
   "outputs": [
    {
     "data": {
      "text/html": [
       "<style>#sk-container-id-1 {color: black;background-color: white;}#sk-container-id-1 pre{padding: 0;}#sk-container-id-1 div.sk-toggleable {background-color: white;}#sk-container-id-1 label.sk-toggleable__label {cursor: pointer;display: block;width: 100%;margin-bottom: 0;padding: 0.3em;box-sizing: border-box;text-align: center;}#sk-container-id-1 label.sk-toggleable__label-arrow:before {content: \"▸\";float: left;margin-right: 0.25em;color: #696969;}#sk-container-id-1 label.sk-toggleable__label-arrow:hover:before {color: black;}#sk-container-id-1 div.sk-estimator:hover label.sk-toggleable__label-arrow:before {color: black;}#sk-container-id-1 div.sk-toggleable__content {max-height: 0;max-width: 0;overflow: hidden;text-align: left;background-color: #f0f8ff;}#sk-container-id-1 div.sk-toggleable__content pre {margin: 0.2em;color: black;border-radius: 0.25em;background-color: #f0f8ff;}#sk-container-id-1 input.sk-toggleable__control:checked~div.sk-toggleable__content {max-height: 200px;max-width: 100%;overflow: auto;}#sk-container-id-1 input.sk-toggleable__control:checked~label.sk-toggleable__label-arrow:before {content: \"▾\";}#sk-container-id-1 div.sk-estimator input.sk-toggleable__control:checked~label.sk-toggleable__label {background-color: #d4ebff;}#sk-container-id-1 div.sk-label input.sk-toggleable__control:checked~label.sk-toggleable__label {background-color: #d4ebff;}#sk-container-id-1 input.sk-hidden--visually {border: 0;clip: rect(1px 1px 1px 1px);clip: rect(1px, 1px, 1px, 1px);height: 1px;margin: -1px;overflow: hidden;padding: 0;position: absolute;width: 1px;}#sk-container-id-1 div.sk-estimator {font-family: monospace;background-color: #f0f8ff;border: 1px dotted black;border-radius: 0.25em;box-sizing: border-box;margin-bottom: 0.5em;}#sk-container-id-1 div.sk-estimator:hover {background-color: #d4ebff;}#sk-container-id-1 div.sk-parallel-item::after {content: \"\";width: 100%;border-bottom: 1px solid gray;flex-grow: 1;}#sk-container-id-1 div.sk-label:hover label.sk-toggleable__label {background-color: #d4ebff;}#sk-container-id-1 div.sk-serial::before {content: \"\";position: absolute;border-left: 1px solid gray;box-sizing: border-box;top: 0;bottom: 0;left: 50%;z-index: 0;}#sk-container-id-1 div.sk-serial {display: flex;flex-direction: column;align-items: center;background-color: white;padding-right: 0.2em;padding-left: 0.2em;position: relative;}#sk-container-id-1 div.sk-item {position: relative;z-index: 1;}#sk-container-id-1 div.sk-parallel {display: flex;align-items: stretch;justify-content: center;background-color: white;position: relative;}#sk-container-id-1 div.sk-item::before, #sk-container-id-1 div.sk-parallel-item::before {content: \"\";position: absolute;border-left: 1px solid gray;box-sizing: border-box;top: 0;bottom: 0;left: 50%;z-index: -1;}#sk-container-id-1 div.sk-parallel-item {display: flex;flex-direction: column;z-index: 1;position: relative;background-color: white;}#sk-container-id-1 div.sk-parallel-item:first-child::after {align-self: flex-end;width: 50%;}#sk-container-id-1 div.sk-parallel-item:last-child::after {align-self: flex-start;width: 50%;}#sk-container-id-1 div.sk-parallel-item:only-child::after {width: 0;}#sk-container-id-1 div.sk-dashed-wrapped {border: 1px dashed gray;margin: 0 0.4em 0.5em 0.4em;box-sizing: border-box;padding-bottom: 0.4em;background-color: white;}#sk-container-id-1 div.sk-label label {font-family: monospace;font-weight: bold;display: inline-block;line-height: 1.2em;}#sk-container-id-1 div.sk-label-container {text-align: center;}#sk-container-id-1 div.sk-container {/* jupyter's `normalize.less` sets `[hidden] { display: none; }` but bootstrap.min.css set `[hidden] { display: none !important; }` so we also need the `!important` here to be able to override the default hidden behavior on the sphinx rendered scikit-learn.org. See: https://github.com/scikit-learn/scikit-learn/issues/21755 */display: inline-block !important;position: relative;}#sk-container-id-1 div.sk-text-repr-fallback {display: none;}</style><div id=\"sk-container-id-1\" class=\"sk-top-container\"><div class=\"sk-text-repr-fallback\"><pre>RandomForestClassifier()</pre><b>In a Jupyter environment, please rerun this cell to show the HTML representation or trust the notebook. <br />On GitHub, the HTML representation is unable to render, please try loading this page with nbviewer.org.</b></div><div class=\"sk-container\" hidden><div class=\"sk-item\"><div class=\"sk-estimator sk-toggleable\"><input class=\"sk-toggleable__control sk-hidden--visually\" id=\"sk-estimator-id-1\" type=\"checkbox\" checked><label for=\"sk-estimator-id-1\" class=\"sk-toggleable__label sk-toggleable__label-arrow\">RandomForestClassifier</label><div class=\"sk-toggleable__content\"><pre>RandomForestClassifier()</pre></div></div></div></div></div>"
      ],
      "text/plain": [
       "RandomForestClassifier()"
      ]
     },
     "execution_count": 6,
     "metadata": {},
     "output_type": "execute_result"
    }
   ],
   "source": [
    "from sklearn.ensemble import RandomForestClassifier\n",
    "\n",
    "rf = RandomForestClassifier()\n",
    "\n",
    "rf.fit(X,y)"
   ]
  },
  {
   "cell_type": "code",
   "execution_count": 7,
   "id": "7016991c",
   "metadata": {},
   "outputs": [
    {
     "data": {
      "text/plain": [
       "array([0.00000000e+00, 0.00000000e+00, 0.00000000e+00, 0.00000000e+00,\n",
       "       0.00000000e+00, 0.00000000e+00, 0.00000000e+00, 0.00000000e+00,\n",
       "       0.00000000e+00, 0.00000000e+00, 0.00000000e+00, 0.00000000e+00,\n",
       "       0.00000000e+00, 0.00000000e+00, 0.00000000e+00, 0.00000000e+00,\n",
       "       0.00000000e+00, 0.00000000e+00, 0.00000000e+00, 0.00000000e+00,\n",
       "       0.00000000e+00, 0.00000000e+00, 0.00000000e+00, 0.00000000e+00,\n",
       "       0.00000000e+00, 0.00000000e+00, 0.00000000e+00, 0.00000000e+00,\n",
       "       0.00000000e+00, 0.00000000e+00, 0.00000000e+00, 0.00000000e+00,\n",
       "       0.00000000e+00, 0.00000000e+00, 5.14851067e-07, 1.02381713e-06,\n",
       "       1.41662532e-06, 4.22641609e-06, 1.35426289e-05, 3.44230500e-06,\n",
       "       3.19683055e-06, 2.39974525e-06, 2.98638427e-06, 3.72934499e-06,\n",
       "       5.50240995e-06, 2.66457138e-06, 1.42441217e-06, 2.64616981e-07,\n",
       "       1.71118992e-06, 5.21282974e-07, 0.00000000e+00, 0.00000000e+00,\n",
       "       0.00000000e+00, 0.00000000e+00, 0.00000000e+00, 0.00000000e+00,\n",
       "       0.00000000e+00, 0.00000000e+00, 0.00000000e+00, 0.00000000e+00,\n",
       "       0.00000000e+00, 2.64635322e-07, 3.53062605e-06, 7.27345785e-06,\n",
       "       1.35395180e-05, 2.12172654e-05, 3.02993438e-05, 1.14736155e-04,\n",
       "       1.43781465e-04, 1.94749944e-04, 1.83101000e-04, 1.30076593e-04,\n",
       "       1.27974602e-04, 7.41277078e-05, 9.51656777e-05, 7.48517167e-05,\n",
       "       4.04925539e-05, 1.65660065e-05, 5.95209265e-06, 2.08843221e-06,\n",
       "       0.00000000e+00, 0.00000000e+00, 0.00000000e+00, 0.00000000e+00,\n",
       "       0.00000000e+00, 0.00000000e+00, 0.00000000e+00, 2.64609021e-07,\n",
       "       0.00000000e+00, 9.67454060e-07, 1.02092413e-05, 2.30740589e-05,\n",
       "       6.71039880e-05, 2.18542292e-04, 1.41858874e-04, 5.11703036e-04,\n",
       "       7.03471269e-04, 8.05851320e-04, 2.00914262e-03, 1.97100316e-03,\n",
       "       1.44020923e-03, 1.46201166e-03, 1.26478212e-03, 6.32262405e-04,\n",
       "       3.27783148e-04, 1.50929742e-04, 6.12170490e-05, 2.54487602e-05,\n",
       "       1.69708739e-05, 3.36099206e-06, 0.00000000e+00, 0.00000000e+00,\n",
       "       0.00000000e+00, 0.00000000e+00, 0.00000000e+00, 0.00000000e+00,\n",
       "       4.15632426e-06, 3.92912738e-06, 2.83560563e-05, 6.26743180e-05,\n",
       "       1.64336301e-04, 2.62986132e-04, 5.90135685e-04, 9.75924989e-04,\n",
       "       1.59208653e-03, 1.97111324e-03, 2.96664933e-03, 2.36493817e-03,\n",
       "       1.63219905e-03, 9.01827829e-04, 8.54682329e-04, 5.14154302e-04,\n",
       "       3.75616920e-04, 2.36510551e-04, 1.43823913e-04, 7.21375272e-05,\n",
       "       3.52989003e-05, 6.73764197e-06, 1.39615095e-06, 0.00000000e+00,\n",
       "       0.00000000e+00, 0.00000000e+00, 0.00000000e+00, 1.35427852e-06,\n",
       "       1.56847030e-05, 5.34203362e-05, 1.04298322e-04, 2.78806566e-04,\n",
       "       5.09387062e-04, 1.36810009e-03, 1.99399012e-03, 3.15500339e-03,\n",
       "       3.36338037e-03, 5.33051103e-03, 4.92300706e-03, 6.35261416e-03,\n",
       "       4.95745613e-03, 3.76432557e-03, 2.03267281e-03, 1.79626884e-03,\n",
       "       8.74921745e-04, 8.68507913e-04, 6.31328193e-04, 2.98231248e-04,\n",
       "       8.83866506e-05, 3.47252145e-05, 3.29805417e-06, 0.00000000e+00,\n",
       "       0.00000000e+00, 0.00000000e+00, 4.91474651e-07, 9.74629743e-06,\n",
       "       4.67001703e-05, 9.77281062e-05, 2.35584732e-04, 5.86703135e-04,\n",
       "       9.66574092e-04, 1.68720148e-03, 2.74505756e-03, 2.96656435e-03,\n",
       "       2.56497319e-03, 2.54000767e-03, 4.17023278e-03, 4.33747293e-03,\n",
       "       3.21468178e-03, 2.65653454e-03, 1.93556213e-03, 1.79847567e-03,\n",
       "       1.21379079e-03, 1.28551852e-03, 1.01390311e-03, 7.89374060e-04,\n",
       "       3.84796017e-04, 6.62000898e-05, 1.01618507e-05, 8.82075437e-07,\n",
       "       0.00000000e+00, 0.00000000e+00, 5.67889676e-06, 1.24239260e-05,\n",
       "       6.96783019e-05, 1.61653115e-04, 4.07008521e-04, 7.12643224e-04,\n",
       "       1.41273982e-03, 1.57950947e-03, 2.40915018e-03, 2.36066925e-03,\n",
       "       2.34478176e-03, 3.38108591e-03, 6.21784751e-03, 6.88946906e-03,\n",
       "       4.84142726e-03, 2.42957866e-03, 1.89884460e-03, 2.21640503e-03,\n",
       "       1.91108894e-03, 1.34829259e-03, 1.63106402e-03, 1.13558701e-03,\n",
       "       9.54485538e-04, 8.41970207e-05, 9.90428493e-06, 9.77040795e-07,\n",
       "       5.21434864e-07, 1.31984688e-06, 3.89308383e-06, 2.75994990e-05,\n",
       "       1.37832044e-04, 1.67482138e-04, 4.22459201e-04, 6.36012069e-04,\n",
       "       1.24540482e-03, 2.19113077e-03, 2.68030106e-03, 3.46362618e-03,\n",
       "       3.25974251e-03, 3.63822946e-03, 5.55252798e-03, 6.38551164e-03,\n",
       "       4.71052748e-03, 3.54877195e-03, 3.62870544e-03, 2.23388244e-03,\n",
       "       2.52085097e-03, 1.30233624e-03, 9.98264657e-04, 1.15493076e-03,\n",
       "       7.00925511e-04, 1.21052571e-04, 1.26115338e-05, 1.49942506e-06,\n",
       "       0.00000000e+00, 6.35189320e-07, 2.01977933e-05, 4.76615169e-05,\n",
       "       1.80824774e-04, 2.93888028e-04, 5.15761308e-04, 7.24791863e-04,\n",
       "       1.28354953e-03, 1.89283415e-03, 4.09078175e-03, 4.72969048e-03,\n",
       "       3.59983839e-03, 3.10891262e-03, 3.08627372e-03, 3.44103084e-03,\n",
       "       3.81389921e-03, 3.51946133e-03, 3.64754416e-03, 3.68595444e-03,\n",
       "       2.93393102e-03, 1.55507660e-03, 9.34288649e-04, 6.01618880e-04,\n",
       "       5.01831238e-04, 1.05829547e-04, 1.56101339e-05, 5.05218316e-07,\n",
       "       0.00000000e+00, 0.00000000e+00, 4.87340832e-06, 3.63742991e-05,\n",
       "       9.69414125e-05, 2.08387793e-04, 5.03314892e-04, 8.85276705e-04,\n",
       "       1.58277760e-03, 3.63351983e-03, 5.39744879e-03, 4.83091026e-03,\n",
       "       2.81913783e-03, 2.83088805e-03, 3.26504110e-03, 3.37644815e-03,\n",
       "       3.18580222e-03, 4.20616369e-03, 4.75701472e-03, 3.56085974e-03,\n",
       "       2.61887815e-03, 1.60739043e-03, 1.42527862e-03, 7.19687668e-04,\n",
       "       2.33368643e-04, 6.50849450e-05, 1.09463834e-05, 7.70250532e-07,\n",
       "       0.00000000e+00, 9.74916481e-07, 4.87849939e-06, 3.88900407e-05,\n",
       "       1.05900474e-04, 3.24928242e-04, 5.96299738e-04, 1.18584097e-03,\n",
       "       2.40372739e-03, 3.71345733e-03, 6.44272996e-03, 4.54478580e-03,\n",
       "       3.76362315e-03, 2.95021281e-03, 3.95649082e-03, 5.60213904e-03,\n",
       "       3.36581990e-03, 3.63221368e-03, 3.09460494e-03, 3.00838451e-03,\n",
       "       1.96858204e-03, 1.87976957e-03, 1.75726657e-03, 8.81169017e-04,\n",
       "       1.25180523e-04, 2.27998009e-05, 8.55577164e-06, 3.28814978e-06,\n",
       "       0.00000000e+00, 0.00000000e+00, 4.08753718e-06, 2.47244442e-05,\n",
       "       7.35199077e-05, 2.85544664e-04, 8.15936699e-04, 1.80093438e-03,\n",
       "       1.95537630e-03, 6.11931158e-03, 5.01700548e-03, 5.99717641e-03,\n",
       "       4.40086846e-03, 4.13239203e-03, 8.81223286e-03, 5.06686822e-03,\n",
       "       3.25214940e-03, 3.90542571e-03, 4.72846650e-03, 2.29700709e-03,\n",
       "       1.23987541e-03, 1.83172582e-03, 2.69494983e-03, 6.62569003e-04,\n",
       "       1.55214480e-04, 2.42363067e-05, 5.69033199e-06, 3.32719848e-06,\n",
       "       0.00000000e+00, 0.00000000e+00, 4.61170718e-06, 1.85838343e-05,\n",
       "       8.87816950e-05, 3.90831324e-04, 8.43876634e-04, 1.96133987e-03,\n",
       "       2.33576702e-03, 4.83976843e-03, 4.72505347e-03, 6.86462810e-03,\n",
       "       5.00193046e-03, 6.80645049e-03, 8.75039859e-03, 4.00099533e-03,\n",
       "       3.73172578e-03, 5.75879336e-03, 4.58715149e-03, 2.21352167e-03,\n",
       "       1.28185996e-03, 1.71380388e-03, 3.01578700e-03, 4.96501618e-04,\n",
       "       2.03394162e-04, 3.09445827e-05, 1.12259385e-05, 0.00000000e+00,\n",
       "       0.00000000e+00, 0.00000000e+00, 1.50709352e-06, 1.81720405e-05,\n",
       "       8.49089880e-05, 3.49145104e-04, 1.22316821e-03, 1.92780777e-03,\n",
       "       4.12968394e-03, 6.05947698e-03, 3.93434797e-03, 4.77027949e-03,\n",
       "       3.98814808e-03, 6.80598030e-03, 8.64958865e-03, 5.48048955e-03,\n",
       "       4.39313857e-03, 9.11150302e-03, 2.60780504e-03, 1.34260961e-03,\n",
       "       1.05726271e-03, 1.96167196e-03, 1.21618166e-03, 7.84085019e-04,\n",
       "       2.28656070e-04, 4.32636941e-05, 9.58064574e-06, 2.35427038e-06,\n",
       "       0.00000000e+00, 0.00000000e+00, 3.50426501e-06, 1.59022146e-05,\n",
       "       9.80713215e-05, 4.86842114e-04, 1.55131030e-03, 2.67120825e-03,\n",
       "       3.89606803e-03, 5.09992509e-03, 3.89952847e-03, 5.06093694e-03,\n",
       "       4.50877038e-03, 5.86845844e-03, 7.56548287e-03, 5.31162753e-03,\n",
       "       3.22316772e-03, 5.69644759e-03, 2.46842075e-03, 1.83016389e-03,\n",
       "       1.32116195e-03, 1.68973605e-03, 1.17242365e-03, 4.26778562e-04,\n",
       "       1.64351221e-04, 3.68305576e-05, 9.58777535e-06, 9.41857150e-07,\n",
       "       0.00000000e+00, 0.00000000e+00, 4.67636340e-06, 2.65441343e-05,\n",
       "       8.50335704e-05, 3.54341293e-04, 1.26652907e-03, 3.98419409e-03,\n",
       "       4.46876119e-03, 3.70518961e-03, 4.38201880e-03, 4.27761862e-03,\n",
       "       5.64891320e-03, 8.17659297e-03, 5.84971812e-03, 3.79028726e-03,\n",
       "       3.37532349e-03, 4.20654134e-03, 2.89288240e-03, 1.56572208e-03,\n",
       "       2.36042486e-03, 1.62968157e-03, 5.67416046e-04, 3.71567068e-04,\n",
       "       1.63145599e-04, 5.81279483e-05, 1.70652542e-05, 4.39885679e-06,\n",
       "       0.00000000e+00, 0.00000000e+00, 6.27729832e-06, 4.25831623e-05,\n",
       "       1.11612521e-04, 4.96261658e-04, 1.04960455e-03, 2.97528023e-03,\n",
       "       2.69617253e-03, 4.52440190e-03, 6.49066649e-03, 5.10399784e-03,\n",
       "       5.64107116e-03, 6.78568561e-03, 4.49477710e-03, 2.30114893e-03,\n",
       "       1.83522691e-03, 3.40606655e-03, 2.37753575e-03, 1.86022426e-03,\n",
       "       1.51702733e-03, 8.50299642e-04, 6.05031516e-04, 3.29874745e-04,\n",
       "       2.07669943e-04, 5.34437830e-05, 2.01969197e-05, 3.08751165e-06,\n",
       "       0.00000000e+00, 0.00000000e+00, 4.99320788e-06, 7.62524737e-05,\n",
       "       1.57278855e-04, 6.18096100e-04, 1.04079294e-03, 2.60511689e-03,\n",
       "       2.20733727e-03, 3.41092725e-03, 6.11788303e-03, 5.54143456e-03,\n",
       "       3.63061690e-03, 4.24500844e-03, 2.61974643e-03, 1.95641654e-03,\n",
       "       1.65277481e-03, 2.13812802e-03, 3.02886935e-03, 2.41069634e-03,\n",
       "       2.21714470e-03, 1.00901310e-03, 6.69567740e-04, 3.03961229e-04,\n",
       "       2.02555704e-04, 4.45043054e-05, 1.47984806e-05, 8.96487614e-07,\n",
       "       0.00000000e+00, 0.00000000e+00, 6.96651177e-06, 8.24047643e-05,\n",
       "       2.28259546e-04, 7.09095665e-04, 1.91372324e-03, 2.77124596e-03,\n",
       "       3.52509866e-03, 5.22481026e-03, 6.82875453e-03, 5.72514042e-03,\n",
       "       3.44397346e-03, 2.60244351e-03, 1.75441225e-03, 1.28392027e-03,\n",
       "       1.50038005e-03, 1.98371685e-03, 2.03243596e-03, 2.43170680e-03,\n",
       "       1.31506100e-03, 1.20211387e-03, 8.58744572e-04, 2.99883199e-04,\n",
       "       1.67208935e-04, 2.38759220e-05, 6.51268031e-06, 5.22304126e-07,\n",
       "       0.00000000e+00, 4.88589972e-07, 7.80181674e-06, 6.72219873e-05,\n",
       "       2.28432898e-04, 5.15823011e-04, 1.56783736e-03, 3.70805904e-03,\n",
       "       3.96176867e-03, 4.35564486e-03, 4.17984935e-03, 3.55891137e-03,\n",
       "       3.04598316e-03, 1.88466391e-03, 1.89996414e-03, 1.56653682e-03,\n",
       "       1.45304841e-03, 2.45055420e-03, 1.57473628e-03, 2.08447977e-03,\n",
       "       1.54821286e-03, 1.09091589e-03, 7.30511516e-04, 2.15560473e-04,\n",
       "       9.77980382e-05, 1.93404489e-05, 2.02152343e-06, 0.00000000e+00,\n",
       "       0.00000000e+00, 8.14125716e-07, 4.84352406e-06, 8.86461908e-05,\n",
       "       2.44617636e-04, 4.64888468e-04, 9.43498977e-04, 2.67848234e-03,\n",
       "       4.91850613e-03, 3.66614942e-03, 2.21943217e-03, 2.28272150e-03,\n",
       "       1.56943119e-03, 1.45441569e-03, 1.36529218e-03, 1.38594610e-03,\n",
       "       1.06774994e-03, 1.50559731e-03, 1.58089332e-03, 1.52337168e-03,\n",
       "       6.23477547e-04, 4.99311147e-04, 4.76322808e-04, 1.43967660e-04,\n",
       "       5.00364347e-05, 1.15341935e-05, 2.33179307e-06, 0.00000000e+00,\n",
       "       0.00000000e+00, 0.00000000e+00, 8.93324074e-07, 2.06635607e-05,\n",
       "       1.12154888e-04, 3.79913052e-04, 6.82302389e-04, 1.71191705e-03,\n",
       "       2.49027752e-03, 4.14772669e-03, 3.22360865e-03, 2.50023925e-03,\n",
       "       1.98941150e-03, 2.02207111e-03, 2.12217836e-03, 1.65656362e-03,\n",
       "       1.36361706e-03, 1.07769069e-03, 8.23252010e-04, 6.21296088e-04,\n",
       "       4.76665506e-04, 2.49305506e-04, 1.97993342e-04, 4.82469032e-05,\n",
       "       1.63377553e-05, 4.56155353e-06, 2.20583479e-06, 0.00000000e+00,\n",
       "       0.00000000e+00, 0.00000000e+00, 3.30790177e-06, 1.98504122e-05,\n",
       "       7.44363254e-05, 1.48788536e-04, 4.97457431e-04, 7.02847343e-04,\n",
       "       1.18400649e-03, 2.20034851e-03, 2.42706123e-03, 4.03941332e-03,\n",
       "       4.68488688e-03, 4.97426263e-03, 3.17890458e-03, 3.03947494e-03,\n",
       "       1.68285596e-03, 1.14966529e-03, 6.39839987e-04, 4.77410331e-04,\n",
       "       2.90181929e-04, 1.57282027e-04, 7.13888548e-05, 3.45290214e-05,\n",
       "       1.05612418e-05, 7.89457491e-06, 6.56763211e-07, 0.00000000e+00,\n",
       "       0.00000000e+00, 0.00000000e+00, 8.93239958e-07, 1.21151024e-05,\n",
       "       5.17463379e-05, 1.21183529e-04, 2.13492915e-04, 3.34993211e-04,\n",
       "       5.39168335e-04, 6.85531895e-04, 8.99998513e-04, 1.40409703e-03,\n",
       "       1.68933723e-03, 1.22793164e-03, 1.06428667e-03, 7.94474102e-04,\n",
       "       5.13402351e-04, 4.75187463e-04, 3.59013092e-04, 2.33900600e-04,\n",
       "       1.93258252e-04, 8.08554008e-05, 3.40454560e-05, 2.05568049e-05,\n",
       "       3.52222583e-06, 0.00000000e+00, 5.14840208e-07, 0.00000000e+00,\n",
       "       0.00000000e+00, 0.00000000e+00, 9.28092456e-07, 2.89515601e-06,\n",
       "       2.15135541e-05, 3.61188713e-05, 9.61351848e-05, 2.21754121e-04,\n",
       "       5.62146859e-04, 6.64624507e-04, 6.76280876e-04, 1.50882281e-03,\n",
       "       1.23784885e-03, 7.92405423e-04, 8.57369078e-04, 6.25987398e-04,\n",
       "       5.46438182e-04, 3.44664512e-04, 2.40648946e-04, 1.61522430e-04,\n",
       "       8.13555430e-05, 3.27138467e-05, 1.74053868e-05, 1.30917181e-05,\n",
       "       1.82536280e-06, 1.04377255e-06, 0.00000000e+00, 0.00000000e+00,\n",
       "       0.00000000e+00, 0.00000000e+00, 0.00000000e+00, 0.00000000e+00,\n",
       "       6.47157032e-06, 8.70206995e-06, 2.10658317e-05, 2.66874700e-05,\n",
       "       6.64906738e-05, 8.72936015e-05, 2.98247741e-04, 1.26230781e-04,\n",
       "       3.73304326e-04, 3.27391316e-04, 2.49246089e-04, 1.21346937e-04,\n",
       "       1.46778379e-04, 1.23114307e-04, 6.44955484e-05, 3.55482999e-05,\n",
       "       1.33687560e-05, 7.38326055e-06, 4.84530005e-06, 5.23613840e-07,\n",
       "       0.00000000e+00, 0.00000000e+00, 0.00000000e+00, 0.00000000e+00,\n",
       "       0.00000000e+00, 0.00000000e+00, 0.00000000e+00, 0.00000000e+00,\n",
       "       0.00000000e+00, 0.00000000e+00, 3.96993325e-07, 0.00000000e+00,\n",
       "       1.05016791e-06, 8.50950650e-07, 1.10048660e-06, 6.84436793e-06,\n",
       "       2.64608737e-07, 1.63240637e-06, 4.00079514e-06, 3.36150037e-06,\n",
       "       5.37132006e-06, 4.35402199e-06, 7.18310313e-07, 6.89070217e-06,\n",
       "       3.26800569e-06, 2.00224528e-06, 2.64617233e-07, 9.65547796e-07,\n",
       "       0.00000000e+00, 0.00000000e+00, 0.00000000e+00, 0.00000000e+00])"
      ]
     },
     "execution_count": 7,
     "metadata": {},
     "output_type": "execute_result"
    }
   ],
   "source": [
    " rf.feature_importances_"
   ]
  },
  {
   "cell_type": "code",
   "execution_count": 8,
   "id": "bd2ef813",
   "metadata": {},
   "outputs": [
    {
     "data": {
      "text/plain": [
       "(784,)"
      ]
     },
     "execution_count": 8,
     "metadata": {},
     "output_type": "execute_result"
    }
   ],
   "source": [
    "rf.feature_importances_.shape"
   ]
  },
  {
   "cell_type": "code",
   "execution_count": 9,
   "id": "3715d26e",
   "metadata": {},
   "outputs": [
    {
     "data": {
      "text/plain": [
       "<AxesSubplot:>"
      ]
     },
     "execution_count": 9,
     "metadata": {},
     "output_type": "execute_result"
    },
    {
     "data": {
      "image/png": "[encoded data removed]",
      "text/plain": [
       "<Figure size 432x288 with 2 Axes>"
      ]
     },
     "metadata": {
      "needs_background": "light"
     },
     "output_type": "display_data"
    }
   ],
   "source": [
    "sns.heatmap(rf.feature_importances_.reshape(28,28))"
   ]
  },
  {
   "cell_type": "markdown",
   "id": "cf170a45",
   "metadata": {},
   "source": [
    "# How feature importance is calculated"
   ]
  },
  {
   "cell_type": "code",
   "execution_count": 10,
   "id": "d92b1f29",
   "metadata": {},
   "outputs": [],
   "source": [
    "from sklearn.datasets import make_classification"
   ]
  },
  {
   "cell_type": "code",
   "execution_count": 11,
   "id": "ff46ca7d",
   "metadata": {},
   "outputs": [],
   "source": [
    "from sklearn.tree import DecisionTreeClassifier"
   ]
  },
  {
   "cell_type": "code",
   "execution_count": 12,
   "id": "f66b6052",
   "metadata": {},
   "outputs": [],
   "source": [
    "X,y = make_classification(n_samples=5, n_classes=2,\n",
    "                         n_features=2, n_informative=2, n_redundant=0,\n",
    "                         random_state=0)"
   ]
  },
  {
   "cell_type": "code",
   "execution_count": 13,
   "id": "6807bf8e",
   "metadata": {},
   "outputs": [],
   "source": [
    "clf = DecisionTreeClassifier()"
   ]
  },
  {
   "cell_type": "code",
   "execution_count": 14,
   "id": "073e1951",
   "metadata": {},
   "outputs": [
    {
     "data": {
      "text/html": [
       "<style>#sk-container-id-2 {color: black;background-color: white;}#sk-container-id-2 pre{padding: 0;}#sk-container-id-2 div.sk-toggleable {background-color: white;}#sk-container-id-2 label.sk-toggleable__label {cursor: pointer;display: block;width: 100%;margin-bottom: 0;padding: 0.3em;box-sizing: border-box;text-align: center;}#sk-container-id-2 label.sk-toggleable__label-arrow:before {content: \"▸\";float: left;margin-right: 0.25em;color: #696969;}#sk-container-id-2 label.sk-toggleable__label-arrow:hover:before {color: black;}#sk-container-id-2 div.sk-estimator:hover label.sk-toggleable__label-arrow:before {color: black;}#sk-container-id-2 div.sk-toggleable__content {max-height: 0;max-width: 0;overflow: hidden;text-align: left;background-color: #f0f8ff;}#sk-container-id-2 div.sk-toggleable__content pre {margin: 0.2em;color: black;border-radius: 0.25em;background-color: #f0f8ff;}#sk-container-id-2 input.sk-toggleable__control:checked~div.sk-toggleable__content {max-height: 200px;max-width: 100%;overflow: auto;}#sk-container-id-2 input.sk-toggleable__control:checked~label.sk-toggleable__label-arrow:before {content: \"▾\";}#sk-container-id-2 div.sk-estimator input.sk-toggleable__control:checked~label.sk-toggleable__label {background-color: #d4ebff;}#sk-container-id-2 div.sk-label input.sk-toggleable__control:checked~label.sk-toggleable__label {background-color: #d4ebff;}#sk-container-id-2 input.sk-hidden--visually {border: 0;clip: rect(1px 1px 1px 1px);clip: rect(1px, 1px, 1px, 1px);height: 1px;margin: -1px;overflow: hidden;padding: 0;position: absolute;width: 1px;}#sk-container-id-2 div.sk-estimator {font-family: monospace;background-color: #f0f8ff;border: 1px dotted black;border-radius: 0.25em;box-sizing: border-box;margin-bottom: 0.5em;}#sk-container-id-2 div.sk-estimator:hover {background-color: #d4ebff;}#sk-container-id-2 div.sk-parallel-item::after {content: \"\";width: 100%;border-bottom: 1px solid gray;flex-grow: 1;}#sk-container-id-2 div.sk-label:hover label.sk-toggleable__label {background-color: #d4ebff;}#sk-container-id-2 div.sk-serial::before {content: \"\";position: absolute;border-left: 1px solid gray;box-sizing: border-box;top: 0;bottom: 0;left: 50%;z-index: 0;}#sk-container-id-2 div.sk-serial {display: flex;flex-direction: column;align-items: center;background-color: white;padding-right: 0.2em;padding-left: 0.2em;position: relative;}#sk-container-id-2 div.sk-item {position: relative;z-index: 1;}#sk-container-id-2 div.sk-parallel {display: flex;align-items: stretch;justify-content: center;background-color: white;position: relative;}#sk-container-id-2 div.sk-item::before, #sk-container-id-2 div.sk-parallel-item::before {content: \"\";position: absolute;border-left: 1px solid gray;box-sizing: border-box;top: 0;bottom: 0;left: 50%;z-index: -1;}#sk-container-id-2 div.sk-parallel-item {display: flex;flex-direction: column;z-index: 1;position: relative;background-color: white;}#sk-container-id-2 div.sk-parallel-item:first-child::after {align-self: flex-end;width: 50%;}#sk-container-id-2 div.sk-parallel-item:last-child::after {align-self: flex-start;width: 50%;}#sk-container-id-2 div.sk-parallel-item:only-child::after {width: 0;}#sk-container-id-2 div.sk-dashed-wrapped {border: 1px dashed gray;margin: 0 0.4em 0.5em 0.4em;box-sizing: border-box;padding-bottom: 0.4em;background-color: white;}#sk-container-id-2 div.sk-label label {font-family: monospace;font-weight: bold;display: inline-block;line-height: 1.2em;}#sk-container-id-2 div.sk-label-container {text-align: center;}#sk-container-id-2 div.sk-container {/* jupyter's `normalize.less` sets `[hidden] { display: none; }` but bootstrap.min.css set `[hidden] { display: none !important; }` so we also need the `!important` here to be able to override the default hidden behavior on the sphinx rendered scikit-learn.org. See: https://github.com/scikit-learn/scikit-learn/issues/21755 */display: inline-block !important;position: relative;}#sk-container-id-2 div.sk-text-repr-fallback {display: none;}</style><div id=\"sk-container-id-2\" class=\"sk-top-container\"><div class=\"sk-text-repr-fallback\"><pre>DecisionTreeClassifier()</pre><b>In a Jupyter environment, please rerun this cell to show the HTML representation or trust the notebook. <br />On GitHub, the HTML representation is unable to render, please try loading this page with nbviewer.org.</b></div><div class=\"sk-container\" hidden><div class=\"sk-item\"><div class=\"sk-estimator sk-toggleable\"><input class=\"sk-toggleable__control sk-hidden--visually\" id=\"sk-estimator-id-2\" type=\"checkbox\" checked><label for=\"sk-estimator-id-2\" class=\"sk-toggleable__label sk-toggleable__label-arrow\">DecisionTreeClassifier</label><div class=\"sk-toggleable__content\"><pre>DecisionTreeClassifier()</pre></div></div></div></div></div>"
      ],
      "text/plain": [
       "DecisionTreeClassifier()"
      ]
     },
     "execution_count": 14,
     "metadata": {},
     "output_type": "execute_result"
    }
   ],
   "source": [
    "clf.fit(X,y)"
   ]
  },
  {
   "cell_type": "code",
   "execution_count": 15,
   "id": "34501b69",
   "metadata": {},
   "outputs": [
    {
     "data": {
      "text/plain": [
       "[Text(0.4, 0.8333333333333334, 'X[0] <= -0.875\\ngini = 0.48\\nsamples = 5\\nvalue = [3, 2]'),\n",
       " Text(0.2, 0.5, 'gini = 0.0\\nsamples = 1\\nvalue = [0, 1]'),\n",
       " Text(0.6, 0.5, 'X[0] <= 1.01\\ngini = 0.375\\nsamples = 4\\nvalue = [3, 1]'),\n",
       " Text(0.4, 0.16666666666666666, 'gini = 0.0\\nsamples = 3\\nvalue = [3, 0]'),\n",
       " Text(0.8, 0.16666666666666666, 'gini = 0.0\\nsamples = 1\\nvalue = [0, 1]')]"
      ]
     },
     "execution_count": 15,
     "metadata": {},
     "output_type": "execute_result"
    },
    {
     "data": {
      "image/png": "[encoded data removed]",
      "text/plain": [
       "<Figure size 432x288 with 1 Axes>"
      ]
     },
     "metadata": {
      "needs_background": "light"
     },
     "output_type": "display_data"
    }
   ],
   "source": [
    "from sklearn.tree import plot_tree\n",
    "plot_tree(clf)"
   ]
  },
  {
   "cell_type": "code",
   "execution_count": 16,
   "id": "004cb614",
   "metadata": {},
   "outputs": [
    {
     "data": {
      "text/plain": [
       "array([1., 0.])"
      ]
     },
     "execution_count": 16,
     "metadata": {},
     "output_type": "execute_result"
    }
   ],
   "source": [
    "clf.feature_importances_"
   ]
  },
  {
   "cell_type": "code",
   "execution_count": 20,
   "id": "21ef8fc5",
   "metadata": {},
   "outputs": [
    {
     "data": {
      "text/html": [
       "<style>#sk-container-id-3 {color: black;background-color: white;}#sk-container-id-3 pre{padding: 0;}#sk-container-id-3 div.sk-toggleable {background-color: white;}#sk-container-id-3 label.sk-toggleable__label {cursor: pointer;display: block;width: 100%;margin-bottom: 0;padding: 0.3em;box-sizing: border-box;text-align: center;}#sk-container-id-3 label.sk-toggleable__label-arrow:before {content: \"▸\";float: left;margin-right: 0.25em;color: #696969;}#sk-container-id-3 label.sk-toggleable__label-arrow:hover:before {color: black;}#sk-container-id-3 div.sk-estimator:hover label.sk-toggleable__label-arrow:before {color: black;}#sk-container-id-3 div.sk-toggleable__content {max-height: 0;max-width: 0;overflow: hidden;text-align: left;background-color: #f0f8ff;}#sk-container-id-3 div.sk-toggleable__content pre {margin: 0.2em;color: black;border-radius: 0.25em;background-color: #f0f8ff;}#sk-container-id-3 input.sk-toggleable__control:checked~div.sk-toggleable__content {max-height: 200px;max-width: 100%;overflow: auto;}#sk-container-id-3 input.sk-toggleable__control:checked~label.sk-toggleable__label-arrow:before {content: \"▾\";}#sk-container-id-3 div.sk-estimator input.sk-toggleable__control:checked~label.sk-toggleable__label {background-color: #d4ebff;}#sk-container-id-3 div.sk-label input.sk-toggleable__control:checked~label.sk-toggleable__label {background-color: #d4ebff;}#sk-container-id-3 input.sk-hidden--visually {border: 0;clip: rect(1px 1px 1px 1px);clip: rect(1px, 1px, 1px, 1px);height: 1px;margin: -1px;overflow: hidden;padding: 0;position: absolute;width: 1px;}#sk-container-id-3 div.sk-estimator {font-family: monospace;background-color: #f0f8ff;border: 1px dotted black;border-radius: 0.25em;box-sizing: border-box;margin-bottom: 0.5em;}#sk-container-id-3 div.sk-estimator:hover {background-color: #d4ebff;}#sk-container-id-3 div.sk-parallel-item::after {content: \"\";width: 100%;border-bottom: 1px solid gray;flex-grow: 1;}#sk-container-id-3 div.sk-label:hover label.sk-toggleable__label {background-color: #d4ebff;}#sk-container-id-3 div.sk-serial::before {content: \"\";position: absolute;border-left: 1px solid gray;box-sizing: border-box;top: 0;bottom: 0;left: 50%;z-index: 0;}#sk-container-id-3 div.sk-serial {display: flex;flex-direction: column;align-items: center;background-color: white;padding-right: 0.2em;padding-left: 0.2em;position: relative;}#sk-container-id-3 div.sk-item {position: relative;z-index: 1;}#sk-container-id-3 div.sk-parallel {display: flex;align-items: stretch;justify-content: center;background-color: white;position: relative;}#sk-container-id-3 div.sk-item::before, #sk-container-id-3 div.sk-parallel-item::before {content: \"\";position: absolute;border-left: 1px solid gray;box-sizing: border-box;top: 0;bottom: 0;left: 50%;z-index: -1;}#sk-container-id-3 div.sk-parallel-item {display: flex;flex-direction: column;z-index: 1;position: relative;background-color: white;}#sk-container-id-3 div.sk-parallel-item:first-child::after {align-self: flex-end;width: 50%;}#sk-container-id-3 div.sk-parallel-item:last-child::after {align-self: flex-start;width: 50%;}#sk-container-id-3 div.sk-parallel-item:only-child::after {width: 0;}#sk-container-id-3 div.sk-dashed-wrapped {border: 1px dashed gray;margin: 0 0.4em 0.5em 0.4em;box-sizing: border-box;padding-bottom: 0.4em;background-color: white;}#sk-container-id-3 div.sk-label label {font-family: monospace;font-weight: bold;display: inline-block;line-height: 1.2em;}#sk-container-id-3 div.sk-label-container {text-align: center;}#sk-container-id-3 div.sk-container {/* jupyter's `normalize.less` sets `[hidden] { display: none; }` but bootstrap.min.css set `[hidden] { display: none !important; }` so we also need the `!important` here to be able to override the default hidden behavior on the sphinx rendered scikit-learn.org. See: https://github.com/scikit-learn/scikit-learn/issues/21755 */display: inline-block !important;position: relative;}#sk-container-id-3 div.sk-text-repr-fallback {display: none;}</style><div id=\"sk-container-id-3\" class=\"sk-top-container\"><div class=\"sk-text-repr-fallback\"><pre>RandomForestClassifier(n_estimators=2)</pre><b>In a Jupyter environment, please rerun this cell to show the HTML representation or trust the notebook. <br />On GitHub, the HTML representation is unable to render, please try loading this page with nbviewer.org.</b></div><div class=\"sk-container\" hidden><div class=\"sk-item\"><div class=\"sk-estimator sk-toggleable\"><input class=\"sk-toggleable__control sk-hidden--visually\" id=\"sk-estimator-id-3\" type=\"checkbox\" checked><label for=\"sk-estimator-id-3\" class=\"sk-toggleable__label sk-toggleable__label-arrow\">RandomForestClassifier</label><div class=\"sk-toggleable__content\"><pre>RandomForestClassifier(n_estimators=2)</pre></div></div></div></div></div>"
      ],
      "text/plain": [
       "RandomForestClassifier(n_estimators=2)"
      ]
     },
     "execution_count": 20,
     "metadata": {},
     "output_type": "execute_result"
    }
   ],
   "source": [
    "from sklearn.ensemble import RandomForestClassifier\n",
    "rf = RandomForestClassifier(n_estimators=2)\n",
    "rf.fit(X,y)"
   ]
  },
  {
   "cell_type": "code",
   "execution_count": 21,
   "id": "cd5390eb",
   "metadata": {},
   "outputs": [
    {
     "data": {
      "text/plain": [
       "array([1., 0.])"
      ]
     },
     "execution_count": 21,
     "metadata": {},
     "output_type": "execute_result"
    }
   ],
   "source": [
    "rf.feature_importances_"
   ]
  },
  {
   "cell_type": "code",
   "execution_count": 22,
   "id": "2f79cca0",
   "metadata": {},
   "outputs": [
    {
     "data": {
      "text/plain": [
       "[DecisionTreeClassifier(max_features='sqrt', random_state=1861935847),\n",
       " DecisionTreeClassifier(max_features='sqrt', random_state=1661237206)]"
      ]
     },
     "execution_count": 22,
     "metadata": {},
     "output_type": "execute_result"
    }
   ],
   "source": [
    "rf.estimators_"
   ]
  },
  {
   "cell_type": "code",
   "execution_count": 23,
   "id": "837fe94b",
   "metadata": {},
   "outputs": [
    {
     "name": "stdout",
     "output_type": "stream",
     "text": [
      "[1. 0.]\n",
      "[1. 0.]\n"
     ]
    }
   ],
   "source": [
    "print(rf.estimators_[0].feature_importances_)\n",
    "print(rf.estimators_[1].feature_importances_)"
   ]
  },
  {
   "cell_type": "code",
   "execution_count": null,
   "id": "02bbca45",
   "metadata": {},
   "outputs": [],
   "source": []
  },
  {
   "cell_type": "code",
   "execution_count": null,
   "id": "d7ca5712",
   "metadata": {},
   "outputs": [],
   "source": []
  },
  {
   "cell_type": "code",
   "execution_count": 22,
   "id": "3cca9ffd",
   "metadata": {},
   "outputs": [],
   "source": [
    "X,y = make_classification(n_samples=15, n_classes=2,\n",
    "                         n_features=2, n_informative=2, n_redundant=0,\n",
    "                         random_state=0)"
   ]
  },
  {
   "cell_type": "code",
   "execution_count": 23,
   "id": "b042ac67",
   "metadata": {},
   "outputs": [],
   "source": [
    "clf = DecisionTreeClassifier()"
   ]
  },
  {
   "cell_type": "code",
   "execution_count": 24,
   "id": "b6b68a6d",
   "metadata": {},
   "outputs": [
    {
     "data": {
      "text/html": [
       "<style>#sk-container-id-3 {color: black;background-color: white;}#sk-container-id-3 pre{padding: 0;}#sk-container-id-3 div.sk-toggleable {background-color: white;}#sk-container-id-3 label.sk-toggleable__label {cursor: pointer;display: block;width: 100%;margin-bottom: 0;padding: 0.3em;box-sizing: border-box;text-align: center;}#sk-container-id-3 label.sk-toggleable__label-arrow:before {content: \"▸\";float: left;margin-right: 0.25em;color: #696969;}#sk-container-id-3 label.sk-toggleable__label-arrow:hover:before {color: black;}#sk-container-id-3 div.sk-estimator:hover label.sk-toggleable__label-arrow:before {color: black;}#sk-container-id-3 div.sk-toggleable__content {max-height: 0;max-width: 0;overflow: hidden;text-align: left;background-color: #f0f8ff;}#sk-container-id-3 div.sk-toggleable__content pre {margin: 0.2em;color: black;border-radius: 0.25em;background-color: #f0f8ff;}#sk-container-id-3 input.sk-toggleable__control:checked~div.sk-toggleable__content {max-height: 200px;max-width: 100%;overflow: auto;}#sk-container-id-3 input.sk-toggleable__control:checked~label.sk-toggleable__label-arrow:before {content: \"▾\";}#sk-container-id-3 div.sk-estimator input.sk-toggleable__control:checked~label.sk-toggleable__label {background-color: #d4ebff;}#sk-container-id-3 div.sk-label input.sk-toggleable__control:checked~label.sk-toggleable__label {background-color: #d4ebff;}#sk-container-id-3 input.sk-hidden--visually {border: 0;clip: rect(1px 1px 1px 1px);clip: rect(1px, 1px, 1px, 1px);height: 1px;margin: -1px;overflow: hidden;padding: 0;position: absolute;width: 1px;}#sk-container-id-3 div.sk-estimator {font-family: monospace;background-color: #f0f8ff;border: 1px dotted black;border-radius: 0.25em;box-sizing: border-box;margin-bottom: 0.5em;}#sk-container-id-3 div.sk-estimator:hover {background-color: #d4ebff;}#sk-container-id-3 div.sk-parallel-item::after {content: \"\";width: 100%;border-bottom: 1px solid gray;flex-grow: 1;}#sk-container-id-3 div.sk-label:hover label.sk-toggleable__label {background-color: #d4ebff;}#sk-container-id-3 div.sk-serial::before {content: \"\";position: absolute;border-left: 1px solid gray;box-sizing: border-box;top: 0;bottom: 0;left: 50%;z-index: 0;}#sk-container-id-3 div.sk-serial {display: flex;flex-direction: column;align-items: center;background-color: white;padding-right: 0.2em;padding-left: 0.2em;position: relative;}#sk-container-id-3 div.sk-item {position: relative;z-index: 1;}#sk-container-id-3 div.sk-parallel {display: flex;align-items: stretch;justify-content: center;background-color: white;position: relative;}#sk-container-id-3 div.sk-item::before, #sk-container-id-3 div.sk-parallel-item::before {content: \"\";position: absolute;border-left: 1px solid gray;box-sizing: border-box;top: 0;bottom: 0;left: 50%;z-index: -1;}#sk-container-id-3 div.sk-parallel-item {display: flex;flex-direction: column;z-index: 1;position: relative;background-color: white;}#sk-container-id-3 div.sk-parallel-item:first-child::after {align-self: flex-end;width: 50%;}#sk-container-id-3 div.sk-parallel-item:last-child::after {align-self: flex-start;width: 50%;}#sk-container-id-3 div.sk-parallel-item:only-child::after {width: 0;}#sk-container-id-3 div.sk-dashed-wrapped {border: 1px dashed gray;margin: 0 0.4em 0.5em 0.4em;box-sizing: border-box;padding-bottom: 0.4em;background-color: white;}#sk-container-id-3 div.sk-label label {font-family: monospace;font-weight: bold;display: inline-block;line-height: 1.2em;}#sk-container-id-3 div.sk-label-container {text-align: center;}#sk-container-id-3 div.sk-container {/* jupyter's `normalize.less` sets `[hidden] { display: none; }` but bootstrap.min.css set `[hidden] { display: none !important; }` so we also need the `!important` here to be able to override the default hidden behavior on the sphinx rendered scikit-learn.org. See: https://github.com/scikit-learn/scikit-learn/issues/21755 */display: inline-block !important;position: relative;}#sk-container-id-3 div.sk-text-repr-fallback {display: none;}</style><div id=\"sk-container-id-3\" class=\"sk-top-container\"><div class=\"sk-text-repr-fallback\"><pre>DecisionTreeClassifier()</pre><b>In a Jupyter environment, please rerun this cell to show the HTML representation or trust the notebook. <br />On GitHub, the HTML representation is unable to render, please try loading this page with nbviewer.org.</b></div><div class=\"sk-container\" hidden><div class=\"sk-item\"><div class=\"sk-estimator sk-toggleable\"><input class=\"sk-toggleable__control sk-hidden--visually\" id=\"sk-estimator-id-3\" type=\"checkbox\" checked><label for=\"sk-estimator-id-3\" class=\"sk-toggleable__label sk-toggleable__label-arrow\">DecisionTreeClassifier</label><div class=\"sk-toggleable__content\"><pre>DecisionTreeClassifier()</pre></div></div></div></div></div>"
      ],
      "text/plain": [
       "DecisionTreeClassifier()"
      ]
     },
     "execution_count": 24,
     "metadata": {},
     "output_type": "execute_result"
    }
   ],
   "source": [
    "clf.fit(X,y)"
   ]
  },
  {
   "cell_type": "code",
   "execution_count": 25,
   "id": "1b2520a6",
   "metadata": {},
   "outputs": [
    {
     "data": {
      "text/plain": [
       "[Text(0.3333333333333333, 0.875, 'X[1] <= -0.383\\ngini = 0.498\\nsamples = 15\\nvalue = [8, 7]'),\n",
       " Text(0.16666666666666666, 0.625, 'gini = 0.0\\nsamples = 6\\nvalue = [6, 0]'),\n",
       " Text(0.5, 0.625, 'X[0] <= 0.878\\ngini = 0.346\\nsamples = 9\\nvalue = [2, 7]'),\n",
       " Text(0.3333333333333333, 0.375, 'gini = 0.0\\nsamples = 6\\nvalue = [0, 6]'),\n",
       " Text(0.6666666666666666, 0.375, 'X[1] <= -0.278\\ngini = 0.444\\nsamples = 3\\nvalue = [2, 1]'),\n",
       " Text(0.5, 0.125, 'gini = 0.0\\nsamples = 1\\nvalue = [0, 1]'),\n",
       " Text(0.8333333333333334, 0.125, 'gini = 0.0\\nsamples = 2\\nvalue = [2, 0]')]"
      ]
     },
     "execution_count": 25,
     "metadata": {},
     "output_type": "execute_result"
    },
    {
     "data": {
      "image/png": "[encoded data removed]",
      "text/plain": [
       "<Figure size 432x288 with 1 Axes>"
      ]
     },
     "metadata": {
      "needs_background": "light"
     },
     "output_type": "display_data"
    }
   ],
   "source": [
    "from sklearn.tree import plot_tree\n",
    "plot_tree(clf)"
   ]
  },
  {
   "cell_type": "code",
   "execution_count": 26,
   "id": "6fbc8ae5",
   "metadata": {},
   "outputs": [
    {
     "data": {
      "text/plain": [
       "array([0.23809524, 0.76190476])"
      ]
     },
     "execution_count": 26,
     "metadata": {},
     "output_type": "execute_result"
    }
   ],
   "source": [
    "clf.feature_importances_"
   ]
  },
  {
   "cell_type": "code",
   "execution_count": null,
   "id": "eae87166",
   "metadata": {},
   "outputs": [],
   "source": []
  },
  {
   "cell_type": "code",
   "execution_count": null,
   "id": "2669f5fd",
   "metadata": {},
   "outputs": [],
   "source": []
  }
 ],
 "metadata": {
  "kernelspec": {
   "display_name": "Python 3 (ipykernel)",
   "language": "python",
   "name": "python3"
  },
  "language_info": {
   "codemirror_mode": {
    "name": "ipython",
    "version": 3
   },
   "file_extension": ".py",
   "mimetype": "text/x-python",
   "name": "python",
   "nbconvert_exporter": "python",
   "pygments_lexer": "ipython3",
   "version": "3.9.7"
  }
 },
 "nbformat": 4,
 "nbformat_minor": 5
}
