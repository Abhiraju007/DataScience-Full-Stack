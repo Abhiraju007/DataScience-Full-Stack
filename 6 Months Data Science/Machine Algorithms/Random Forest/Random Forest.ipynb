{
 "cells": [
  {
   "cell_type": "code",
   "execution_count": 2,
   "id": "761a7471",
   "metadata": {},
   "outputs": [],
   "source": [
    "import pandas as pd\n",
    "import numpy as np\n",
    "from sklearn.datasets import make_classification"
   ]
  },
  {
   "cell_type": "code",
   "execution_count": 3,
   "id": "3f90ff7f",
   "metadata": {},
   "outputs": [],
   "source": [
    "X,y = make_classification(n_features=5, n_redundant=0, n_informative=5, n_clusters_per_class=1)"
   ]
  },
  {
   "cell_type": "code",
   "execution_count": 5,
   "id": "d45bacba",
   "metadata": {},
   "outputs": [
    {
     "name": "stdout",
     "output_type": "stream",
     "text": [
      "(100, 6)\n"
     ]
    },
    {
     "data": {
      "text/html": [
       "<div>\n",
       "<style scoped>\n",
       "    .dataframe tbody tr th:only-of-type {\n",
       "        vertical-align: middle;\n",
       "    }\n",
       "\n",
       "    .dataframe tbody tr th {\n",
       "        vertical-align: top;\n",
       "    }\n",
       "\n",
       "    .dataframe thead th {\n",
       "        text-align: right;\n",
       "    }\n",
       "</style>\n",
       "<table border=\"1\" class=\"dataframe\">\n",
       "  <thead>\n",
       "    <tr style=\"text-align: right;\">\n",
       "      <th></th>\n",
       "      <th>col1</th>\n",
       "      <th>col2</th>\n",
       "      <th>col3</th>\n",
       "      <th>col4</th>\n",
       "      <th>col5</th>\n",
       "      <th>target</th>\n",
       "    </tr>\n",
       "  </thead>\n",
       "  <tbody>\n",
       "    <tr>\n",
       "      <th>0</th>\n",
       "      <td>0.417852</td>\n",
       "      <td>1.131200</td>\n",
       "      <td>0.459365</td>\n",
       "      <td>0.414725</td>\n",
       "      <td>0.925747</td>\n",
       "      <td>1</td>\n",
       "    </tr>\n",
       "    <tr>\n",
       "      <th>1</th>\n",
       "      <td>2.452993</td>\n",
       "      <td>3.006003</td>\n",
       "      <td>1.611269</td>\n",
       "      <td>0.345542</td>\n",
       "      <td>-1.643093</td>\n",
       "      <td>1</td>\n",
       "    </tr>\n",
       "    <tr>\n",
       "      <th>2</th>\n",
       "      <td>2.177399</td>\n",
       "      <td>3.119891</td>\n",
       "      <td>2.015698</td>\n",
       "      <td>1.491738</td>\n",
       "      <td>-0.380048</td>\n",
       "      <td>1</td>\n",
       "    </tr>\n",
       "    <tr>\n",
       "      <th>3</th>\n",
       "      <td>1.073646</td>\n",
       "      <td>2.369256</td>\n",
       "      <td>-2.186990</td>\n",
       "      <td>-0.361019</td>\n",
       "      <td>1.454578</td>\n",
       "      <td>0</td>\n",
       "    </tr>\n",
       "    <tr>\n",
       "      <th>4</th>\n",
       "      <td>0.891598</td>\n",
       "      <td>1.094880</td>\n",
       "      <td>0.830297</td>\n",
       "      <td>-0.758977</td>\n",
       "      <td>0.363237</td>\n",
       "      <td>0</td>\n",
       "    </tr>\n",
       "  </tbody>\n",
       "</table>\n",
       "</div>"
      ],
      "text/plain": [
       "       col1      col2      col3      col4      col5  target\n",
       "0  0.417852  1.131200  0.459365  0.414725  0.925747       1\n",
       "1  2.452993  3.006003  1.611269  0.345542 -1.643093       1\n",
       "2  2.177399  3.119891  2.015698  1.491738 -0.380048       1\n",
       "3  1.073646  2.369256 -2.186990 -0.361019  1.454578       0\n",
       "4  0.891598  1.094880  0.830297 -0.758977  0.363237       0"
      ]
     },
     "execution_count": 5,
     "metadata": {},
     "output_type": "execute_result"
    }
   ],
   "source": [
    "df = pd.DataFrame(X,columns=['col1', 'col2', 'col3', 'col4', 'col5'])\n",
    "df['target'] = y\n",
    "print(df.shape)\n",
    "df.head()"
   ]
  },
  {
   "cell_type": "markdown",
   "id": "41fed6ca",
   "metadata": {},
   "source": [
    "### function for row sampling"
   ]
  },
  {
   "cell_type": "code",
   "execution_count": 6,
   "id": "b5176d09",
   "metadata": {},
   "outputs": [],
   "source": [
    "def sample_rows(df,percent):\n",
    "    return df.sample(int(percent*df.shape[0]), replace= True)"
   ]
  },
  {
   "cell_type": "markdown",
   "id": "c09dd726",
   "metadata": {},
   "source": [
    "### Function for feature sampling"
   ]
  },
  {
   "cell_type": "code",
   "execution_count": 8,
   "id": "eed6c48f",
   "metadata": {},
   "outputs": [],
   "source": [
    "def sample_feature(df,percent):\n",
    "    cols = random.sample(df.colums.tolist()[:-1],int(percent*df.shape[1]))"
   ]
  },
  {
   "cell_type": "markdown",
   "id": "de31151e",
   "metadata": {},
   "source": [
    "### fUNCTION For Combined Sampling"
   ]
  },
  {
   "cell_type": "code",
   "execution_count": 9,
   "id": "8b5dea14",
   "metadata": {},
   "outputs": [],
   "source": [
    "def combined_sampling(df,row_percent,col_percent):\n",
    "    new_df = sampl_rows(df,row_percent)\n",
    "    return sample_feature(new_df,col_percent)"
   ]
  },
  {
   "cell_type": "code",
   "execution_count": 11,
   "id": "0be89c26",
   "metadata": {},
   "outputs": [
    {
     "data": {
      "text/html": [
       "<div>\n",
       "<style scoped>\n",
       "    .dataframe tbody tr th:only-of-type {\n",
       "        vertical-align: middle;\n",
       "    }\n",
       "\n",
       "    .dataframe tbody tr th {\n",
       "        vertical-align: top;\n",
       "    }\n",
       "\n",
       "    .dataframe thead th {\n",
       "        text-align: right;\n",
       "    }\n",
       "</style>\n",
       "<table border=\"1\" class=\"dataframe\">\n",
       "  <thead>\n",
       "    <tr style=\"text-align: right;\">\n",
       "      <th></th>\n",
       "      <th>col1</th>\n",
       "      <th>col2</th>\n",
       "      <th>col3</th>\n",
       "      <th>col4</th>\n",
       "      <th>col5</th>\n",
       "      <th>target</th>\n",
       "    </tr>\n",
       "  </thead>\n",
       "  <tbody>\n",
       "    <tr>\n",
       "      <th>76</th>\n",
       "      <td>-1.093497</td>\n",
       "      <td>0.985900</td>\n",
       "      <td>1.353040</td>\n",
       "      <td>1.170938</td>\n",
       "      <td>2.234680</td>\n",
       "      <td>0</td>\n",
       "    </tr>\n",
       "    <tr>\n",
       "      <th>35</th>\n",
       "      <td>-3.469025</td>\n",
       "      <td>-0.677464</td>\n",
       "      <td>0.127731</td>\n",
       "      <td>2.570163</td>\n",
       "      <td>0.257122</td>\n",
       "      <td>0</td>\n",
       "    </tr>\n",
       "    <tr>\n",
       "      <th>40</th>\n",
       "      <td>-2.258091</td>\n",
       "      <td>-1.547276</td>\n",
       "      <td>-2.146370</td>\n",
       "      <td>0.130148</td>\n",
       "      <td>0.480909</td>\n",
       "      <td>1</td>\n",
       "    </tr>\n",
       "    <tr>\n",
       "      <th>91</th>\n",
       "      <td>-1.213328</td>\n",
       "      <td>2.394094</td>\n",
       "      <td>-3.089592</td>\n",
       "      <td>0.202419</td>\n",
       "      <td>1.423847</td>\n",
       "      <td>0</td>\n",
       "    </tr>\n",
       "    <tr>\n",
       "      <th>90</th>\n",
       "      <td>1.435049</td>\n",
       "      <td>1.523389</td>\n",
       "      <td>1.197845</td>\n",
       "      <td>0.841340</td>\n",
       "      <td>0.808871</td>\n",
       "      <td>1</td>\n",
       "    </tr>\n",
       "    <tr>\n",
       "      <th>55</th>\n",
       "      <td>-0.596457</td>\n",
       "      <td>2.294253</td>\n",
       "      <td>-2.611718</td>\n",
       "      <td>0.261863</td>\n",
       "      <td>1.706559</td>\n",
       "      <td>0</td>\n",
       "    </tr>\n",
       "    <tr>\n",
       "      <th>63</th>\n",
       "      <td>-0.274913</td>\n",
       "      <td>1.958722</td>\n",
       "      <td>0.506159</td>\n",
       "      <td>0.554707</td>\n",
       "      <td>2.548411</td>\n",
       "      <td>1</td>\n",
       "    </tr>\n",
       "    <tr>\n",
       "      <th>73</th>\n",
       "      <td>0.858240</td>\n",
       "      <td>0.021995</td>\n",
       "      <td>1.446051</td>\n",
       "      <td>1.961451</td>\n",
       "      <td>1.256468</td>\n",
       "      <td>0</td>\n",
       "    </tr>\n",
       "    <tr>\n",
       "      <th>51</th>\n",
       "      <td>-3.558826</td>\n",
       "      <td>0.103115</td>\n",
       "      <td>-2.529376</td>\n",
       "      <td>2.790290</td>\n",
       "      <td>0.786308</td>\n",
       "      <td>0</td>\n",
       "    </tr>\n",
       "    <tr>\n",
       "      <th>33</th>\n",
       "      <td>-1.494078</td>\n",
       "      <td>0.318994</td>\n",
       "      <td>-0.631800</td>\n",
       "      <td>0.810274</td>\n",
       "      <td>2.286794</td>\n",
       "      <td>1</td>\n",
       "    </tr>\n",
       "  </tbody>\n",
       "</table>\n",
       "</div>"
      ],
      "text/plain": [
       "        col1      col2      col3      col4      col5  target\n",
       "76 -1.093497  0.985900  1.353040  1.170938  2.234680       0\n",
       "35 -3.469025 -0.677464  0.127731  2.570163  0.257122       0\n",
       "40 -2.258091 -1.547276 -2.146370  0.130148  0.480909       1\n",
       "91 -1.213328  2.394094 -3.089592  0.202419  1.423847       0\n",
       "90  1.435049  1.523389  1.197845  0.841340  0.808871       1\n",
       "55 -0.596457  2.294253 -2.611718  0.261863  1.706559       0\n",
       "63 -0.274913  1.958722  0.506159  0.554707  2.548411       1\n",
       "73  0.858240  0.021995  1.446051  1.961451  1.256468       0\n",
       "51 -3.558826  0.103115 -2.529376  2.790290  0.786308       0\n",
       "33 -1.494078  0.318994 -0.631800  0.810274  2.286794       1"
      ]
     },
     "execution_count": 11,
     "metadata": {},
     "output_type": "execute_result"
    }
   ],
   "source": [
    "df1 = sample_rows(df,0.1)\n",
    "df1"
   ]
  },
  {
   "cell_type": "code",
   "execution_count": 12,
   "id": "9387ba1e",
   "metadata": {},
   "outputs": [
    {
     "data": {
      "text/html": [
       "<div>\n",
       "<style scoped>\n",
       "    .dataframe tbody tr th:only-of-type {\n",
       "        vertical-align: middle;\n",
       "    }\n",
       "\n",
       "    .dataframe tbody tr th {\n",
       "        vertical-align: top;\n",
       "    }\n",
       "\n",
       "    .dataframe thead th {\n",
       "        text-align: right;\n",
       "    }\n",
       "</style>\n",
       "<table border=\"1\" class=\"dataframe\">\n",
       "  <thead>\n",
       "    <tr style=\"text-align: right;\">\n",
       "      <th></th>\n",
       "      <th>col1</th>\n",
       "      <th>col2</th>\n",
       "      <th>col3</th>\n",
       "      <th>col4</th>\n",
       "      <th>col5</th>\n",
       "      <th>target</th>\n",
       "    </tr>\n",
       "  </thead>\n",
       "  <tbody>\n",
       "    <tr>\n",
       "      <th>9</th>\n",
       "      <td>-0.097108</td>\n",
       "      <td>1.378619</td>\n",
       "      <td>-1.799921</td>\n",
       "      <td>1.406692</td>\n",
       "      <td>2.006218</td>\n",
       "      <td>0</td>\n",
       "    </tr>\n",
       "    <tr>\n",
       "      <th>29</th>\n",
       "      <td>-2.112113</td>\n",
       "      <td>-0.187125</td>\n",
       "      <td>-0.274533</td>\n",
       "      <td>1.638943</td>\n",
       "      <td>-0.064316</td>\n",
       "      <td>0</td>\n",
       "    </tr>\n",
       "    <tr>\n",
       "      <th>4</th>\n",
       "      <td>0.891598</td>\n",
       "      <td>1.094880</td>\n",
       "      <td>0.830297</td>\n",
       "      <td>-0.758977</td>\n",
       "      <td>0.363237</td>\n",
       "      <td>0</td>\n",
       "    </tr>\n",
       "    <tr>\n",
       "      <th>67</th>\n",
       "      <td>0.775747</td>\n",
       "      <td>0.583914</td>\n",
       "      <td>1.565013</td>\n",
       "      <td>1.433500</td>\n",
       "      <td>1.904338</td>\n",
       "      <td>0</td>\n",
       "    </tr>\n",
       "    <tr>\n",
       "      <th>12</th>\n",
       "      <td>-0.023787</td>\n",
       "      <td>1.737764</td>\n",
       "      <td>-3.451649</td>\n",
       "      <td>1.638181</td>\n",
       "      <td>1.506730</td>\n",
       "      <td>1</td>\n",
       "    </tr>\n",
       "    <tr>\n",
       "      <th>95</th>\n",
       "      <td>1.017433</td>\n",
       "      <td>0.696742</td>\n",
       "      <td>1.157007</td>\n",
       "      <td>1.542073</td>\n",
       "      <td>1.218801</td>\n",
       "      <td>1</td>\n",
       "    </tr>\n",
       "    <tr>\n",
       "      <th>26</th>\n",
       "      <td>-1.105620</td>\n",
       "      <td>0.433294</td>\n",
       "      <td>0.173904</td>\n",
       "      <td>0.217028</td>\n",
       "      <td>-0.122156</td>\n",
       "      <td>0</td>\n",
       "    </tr>\n",
       "    <tr>\n",
       "      <th>31</th>\n",
       "      <td>1.079933</td>\n",
       "      <td>3.030569</td>\n",
       "      <td>1.492664</td>\n",
       "      <td>1.005797</td>\n",
       "      <td>1.105708</td>\n",
       "      <td>1</td>\n",
       "    </tr>\n",
       "    <tr>\n",
       "      <th>9</th>\n",
       "      <td>-0.097108</td>\n",
       "      <td>1.378619</td>\n",
       "      <td>-1.799921</td>\n",
       "      <td>1.406692</td>\n",
       "      <td>2.006218</td>\n",
       "      <td>0</td>\n",
       "    </tr>\n",
       "    <tr>\n",
       "      <th>4</th>\n",
       "      <td>0.891598</td>\n",
       "      <td>1.094880</td>\n",
       "      <td>0.830297</td>\n",
       "      <td>-0.758977</td>\n",
       "      <td>0.363237</td>\n",
       "      <td>0</td>\n",
       "    </tr>\n",
       "  </tbody>\n",
       "</table>\n",
       "</div>"
      ],
      "text/plain": [
       "        col1      col2      col3      col4      col5  target\n",
       "9  -0.097108  1.378619 -1.799921  1.406692  2.006218       0\n",
       "29 -2.112113 -0.187125 -0.274533  1.638943 -0.064316       0\n",
       "4   0.891598  1.094880  0.830297 -0.758977  0.363237       0\n",
       "67  0.775747  0.583914  1.565013  1.433500  1.904338       0\n",
       "12 -0.023787  1.737764 -3.451649  1.638181  1.506730       1\n",
       "95  1.017433  0.696742  1.157007  1.542073  1.218801       1\n",
       "26 -1.105620  0.433294  0.173904  0.217028 -0.122156       0\n",
       "31  1.079933  3.030569  1.492664  1.005797  1.105708       1\n",
       "9  -0.097108  1.378619 -1.799921  1.406692  2.006218       0\n",
       "4   0.891598  1.094880  0.830297 -0.758977  0.363237       0"
      ]
     },
     "execution_count": 12,
     "metadata": {},
     "output_type": "execute_result"
    }
   ],
   "source": [
    "df2 = sample_rows(df,0.1)\n",
    "df2"
   ]
  },
  {
   "cell_type": "code",
   "execution_count": 13,
   "id": "b88c817f",
   "metadata": {},
   "outputs": [
    {
     "data": {
      "text/html": [
       "<div>\n",
       "<style scoped>\n",
       "    .dataframe tbody tr th:only-of-type {\n",
       "        vertical-align: middle;\n",
       "    }\n",
       "\n",
       "    .dataframe tbody tr th {\n",
       "        vertical-align: top;\n",
       "    }\n",
       "\n",
       "    .dataframe thead th {\n",
       "        text-align: right;\n",
       "    }\n",
       "</style>\n",
       "<table border=\"1\" class=\"dataframe\">\n",
       "  <thead>\n",
       "    <tr style=\"text-align: right;\">\n",
       "      <th></th>\n",
       "      <th>col1</th>\n",
       "      <th>col2</th>\n",
       "      <th>col3</th>\n",
       "      <th>col4</th>\n",
       "      <th>col5</th>\n",
       "      <th>target</th>\n",
       "    </tr>\n",
       "  </thead>\n",
       "  <tbody>\n",
       "    <tr>\n",
       "      <th>82</th>\n",
       "      <td>1.964023</td>\n",
       "      <td>1.133527</td>\n",
       "      <td>1.686086</td>\n",
       "      <td>1.854317</td>\n",
       "      <td>-0.262899</td>\n",
       "      <td>1</td>\n",
       "    </tr>\n",
       "    <tr>\n",
       "      <th>81</th>\n",
       "      <td>-1.137297</td>\n",
       "      <td>-0.540620</td>\n",
       "      <td>1.356883</td>\n",
       "      <td>4.191036</td>\n",
       "      <td>2.926720</td>\n",
       "      <td>0</td>\n",
       "    </tr>\n",
       "    <tr>\n",
       "      <th>77</th>\n",
       "      <td>1.215275</td>\n",
       "      <td>2.259401</td>\n",
       "      <td>0.337471</td>\n",
       "      <td>-0.245785</td>\n",
       "      <td>2.398531</td>\n",
       "      <td>0</td>\n",
       "    </tr>\n",
       "    <tr>\n",
       "      <th>74</th>\n",
       "      <td>1.218374</td>\n",
       "      <td>3.184636</td>\n",
       "      <td>-1.715991</td>\n",
       "      <td>-1.721230</td>\n",
       "      <td>1.500281</td>\n",
       "      <td>0</td>\n",
       "    </tr>\n",
       "    <tr>\n",
       "      <th>52</th>\n",
       "      <td>1.550750</td>\n",
       "      <td>1.551660</td>\n",
       "      <td>1.373419</td>\n",
       "      <td>1.410409</td>\n",
       "      <td>-0.407926</td>\n",
       "      <td>1</td>\n",
       "    </tr>\n",
       "    <tr>\n",
       "      <th>88</th>\n",
       "      <td>1.010201</td>\n",
       "      <td>1.279337</td>\n",
       "      <td>1.073015</td>\n",
       "      <td>0.680760</td>\n",
       "      <td>1.546357</td>\n",
       "      <td>1</td>\n",
       "    </tr>\n",
       "    <tr>\n",
       "      <th>35</th>\n",
       "      <td>-3.469025</td>\n",
       "      <td>-0.677464</td>\n",
       "      <td>0.127731</td>\n",
       "      <td>2.570163</td>\n",
       "      <td>0.257122</td>\n",
       "      <td>0</td>\n",
       "    </tr>\n",
       "    <tr>\n",
       "      <th>84</th>\n",
       "      <td>0.190691</td>\n",
       "      <td>3.303425</td>\n",
       "      <td>0.775679</td>\n",
       "      <td>0.028907</td>\n",
       "      <td>1.662435</td>\n",
       "      <td>1</td>\n",
       "    </tr>\n",
       "    <tr>\n",
       "      <th>33</th>\n",
       "      <td>-1.494078</td>\n",
       "      <td>0.318994</td>\n",
       "      <td>-0.631800</td>\n",
       "      <td>0.810274</td>\n",
       "      <td>2.286794</td>\n",
       "      <td>1</td>\n",
       "    </tr>\n",
       "    <tr>\n",
       "      <th>2</th>\n",
       "      <td>2.177399</td>\n",
       "      <td>3.119891</td>\n",
       "      <td>2.015698</td>\n",
       "      <td>1.491738</td>\n",
       "      <td>-0.380048</td>\n",
       "      <td>1</td>\n",
       "    </tr>\n",
       "  </tbody>\n",
       "</table>\n",
       "</div>"
      ],
      "text/plain": [
       "        col1      col2      col3      col4      col5  target\n",
       "82  1.964023  1.133527  1.686086  1.854317 -0.262899       1\n",
       "81 -1.137297 -0.540620  1.356883  4.191036  2.926720       0\n",
       "77  1.215275  2.259401  0.337471 -0.245785  2.398531       0\n",
       "74  1.218374  3.184636 -1.715991 -1.721230  1.500281       0\n",
       "52  1.550750  1.551660  1.373419  1.410409 -0.407926       1\n",
       "88  1.010201  1.279337  1.073015  0.680760  1.546357       1\n",
       "35 -3.469025 -0.677464  0.127731  2.570163  0.257122       0\n",
       "84  0.190691  3.303425  0.775679  0.028907  1.662435       1\n",
       "33 -1.494078  0.318994 -0.631800  0.810274  2.286794       1\n",
       "2   2.177399  3.119891  2.015698  1.491738 -0.380048       1"
      ]
     },
     "execution_count": 13,
     "metadata": {},
     "output_type": "execute_result"
    }
   ],
   "source": [
    "df3 = sample_rows(df,0.1)\n",
    "df3"
   ]
  },
  {
   "cell_type": "code",
   "execution_count": 14,
   "id": "535629f2",
   "metadata": {},
   "outputs": [],
   "source": [
    "from sklearn.tree import DecisionTreeClassifier\n",
    "clf1 = DecisionTreeClassifier()\n",
    "clf2 = DecisionTreeClassifier()\n",
    "clf3 = DecisionTreeClassifier()"
   ]
  },
  {
   "cell_type": "code",
   "execution_count": 26,
   "id": "c68239f1",
   "metadata": {},
   "outputs": [
    {
     "data": {
      "text/html": [
       "<style>#sk-container-id-4 {color: black;background-color: white;}#sk-container-id-4 pre{padding: 0;}#sk-container-id-4 div.sk-toggleable {background-color: white;}#sk-container-id-4 label.sk-toggleable__label {cursor: pointer;display: block;width: 100%;margin-bottom: 0;padding: 0.3em;box-sizing: border-box;text-align: center;}#sk-container-id-4 label.sk-toggleable__label-arrow:before {content: \"▸\";float: left;margin-right: 0.25em;color: #696969;}#sk-container-id-4 label.sk-toggleable__label-arrow:hover:before {color: black;}#sk-container-id-4 div.sk-estimator:hover label.sk-toggleable__label-arrow:before {color: black;}#sk-container-id-4 div.sk-toggleable__content {max-height: 0;max-width: 0;overflow: hidden;text-align: left;background-color: #f0f8ff;}#sk-container-id-4 div.sk-toggleable__content pre {margin: 0.2em;color: black;border-radius: 0.25em;background-color: #f0f8ff;}#sk-container-id-4 input.sk-toggleable__control:checked~div.sk-toggleable__content {max-height: 200px;max-width: 100%;overflow: auto;}#sk-container-id-4 input.sk-toggleable__control:checked~label.sk-toggleable__label-arrow:before {content: \"▾\";}#sk-container-id-4 div.sk-estimator input.sk-toggleable__control:checked~label.sk-toggleable__label {background-color: #d4ebff;}#sk-container-id-4 div.sk-label input.sk-toggleable__control:checked~label.sk-toggleable__label {background-color: #d4ebff;}#sk-container-id-4 input.sk-hidden--visually {border: 0;clip: rect(1px 1px 1px 1px);clip: rect(1px, 1px, 1px, 1px);height: 1px;margin: -1px;overflow: hidden;padding: 0;position: absolute;width: 1px;}#sk-container-id-4 div.sk-estimator {font-family: monospace;background-color: #f0f8ff;border: 1px dotted black;border-radius: 0.25em;box-sizing: border-box;margin-bottom: 0.5em;}#sk-container-id-4 div.sk-estimator:hover {background-color: #d4ebff;}#sk-container-id-4 div.sk-parallel-item::after {content: \"\";width: 100%;border-bottom: 1px solid gray;flex-grow: 1;}#sk-container-id-4 div.sk-label:hover label.sk-toggleable__label {background-color: #d4ebff;}#sk-container-id-4 div.sk-serial::before {content: \"\";position: absolute;border-left: 1px solid gray;box-sizing: border-box;top: 0;bottom: 0;left: 50%;z-index: 0;}#sk-container-id-4 div.sk-serial {display: flex;flex-direction: column;align-items: center;background-color: white;padding-right: 0.2em;padding-left: 0.2em;position: relative;}#sk-container-id-4 div.sk-item {position: relative;z-index: 1;}#sk-container-id-4 div.sk-parallel {display: flex;align-items: stretch;justify-content: center;background-color: white;position: relative;}#sk-container-id-4 div.sk-item::before, #sk-container-id-4 div.sk-parallel-item::before {content: \"\";position: absolute;border-left: 1px solid gray;box-sizing: border-box;top: 0;bottom: 0;left: 50%;z-index: -1;}#sk-container-id-4 div.sk-parallel-item {display: flex;flex-direction: column;z-index: 1;position: relative;background-color: white;}#sk-container-id-4 div.sk-parallel-item:first-child::after {align-self: flex-end;width: 50%;}#sk-container-id-4 div.sk-parallel-item:last-child::after {align-self: flex-start;width: 50%;}#sk-container-id-4 div.sk-parallel-item:only-child::after {width: 0;}#sk-container-id-4 div.sk-dashed-wrapped {border: 1px dashed gray;margin: 0 0.4em 0.5em 0.4em;box-sizing: border-box;padding-bottom: 0.4em;background-color: white;}#sk-container-id-4 div.sk-label label {font-family: monospace;font-weight: bold;display: inline-block;line-height: 1.2em;}#sk-container-id-4 div.sk-label-container {text-align: center;}#sk-container-id-4 div.sk-container {/* jupyter's `normalize.less` sets `[hidden] { display: none; }` but bootstrap.min.css set `[hidden] { display: none !important; }` so we also need the `!important` here to be able to override the default hidden behavior on the sphinx rendered scikit-learn.org. See: https://github.com/scikit-learn/scikit-learn/issues/21755 */display: inline-block !important;position: relative;}#sk-container-id-4 div.sk-text-repr-fallback {display: none;}</style><div id=\"sk-container-id-4\" class=\"sk-top-container\"><div class=\"sk-text-repr-fallback\"><pre>DecisionTreeClassifier()</pre><b>In a Jupyter environment, please rerun this cell to show the HTML representation or trust the notebook. <br />On GitHub, the HTML representation is unable to render, please try loading this page with nbviewer.org.</b></div><div class=\"sk-container\" hidden><div class=\"sk-item\"><div class=\"sk-estimator sk-toggleable\"><input class=\"sk-toggleable__control sk-hidden--visually\" id=\"sk-estimator-id-4\" type=\"checkbox\" checked><label for=\"sk-estimator-id-4\" class=\"sk-toggleable__label sk-toggleable__label-arrow\">DecisionTreeClassifier</label><div class=\"sk-toggleable__content\"><pre>DecisionTreeClassifier()</pre></div></div></div></div></div>"
      ],
      "text/plain": [
       "DecisionTreeClassifier()"
      ]
     },
     "execution_count": 26,
     "metadata": {},
     "output_type": "execute_result"
    }
   ],
   "source": [
    "clf1.fit(df1.iloc[:,0:5], df1.iloc[:,-1])\n",
    "clf2.fit(df2.iloc[:,0:5], df2.iloc[:,-1])\n",
    "clf3.fit(df3.iloc[:,0:5], df3.iloc[:,-1])"
   ]
  },
  {
   "cell_type": "code",
   "execution_count": 27,
   "id": "ba07ee54",
   "metadata": {},
   "outputs": [],
   "source": [
    "from sklearn.tree import plot_tree"
   ]
  },
  {
   "cell_type": "code",
   "execution_count": 28,
   "id": "54f01d7e",
   "metadata": {},
   "outputs": [
    {
     "data": {
      "text/plain": [
       "[Text(0.6, 0.8333333333333334, 'X[3] <= 1.006\\ngini = 0.48\\nsamples = 10\\nvalue = [6, 4]'),\n",
       " Text(0.4, 0.5, 'X[1] <= 2.126\\ngini = 0.444\\nsamples = 6\\nvalue = [2, 4]'),\n",
       " Text(0.2, 0.16666666666666666, 'gini = 0.0\\nsamples = 4\\nvalue = [0, 4]'),\n",
       " Text(0.6, 0.16666666666666666, 'gini = 0.0\\nsamples = 2\\nvalue = [2, 0]'),\n",
       " Text(0.8, 0.5, 'gini = 0.0\\nsamples = 4\\nvalue = [4, 0]')]"
      ]
     },
     "execution_count": 28,
     "metadata": {},
     "output_type": "execute_result"
    },
    {
     "data": {
      "image/png": "[encoded data removed]",
      "text/plain": [
       "<Figure size 432x288 with 1 Axes>"
      ]
     },
     "metadata": {
      "needs_background": "light"
     },
     "output_type": "display_data"
    }
   ],
   "source": [
    "plot_tree(clf1)"
   ]
  },
  {
   "cell_type": "code",
   "execution_count": 29,
   "id": "cf6b0be3",
   "metadata": {},
   "outputs": [
    {
     "data": {
      "text/plain": [
       "[Text(0.6, 0.8333333333333334, 'X[0] <= 0.955\\ngini = 0.42\\nsamples = 10\\nvalue = [7, 3]'),\n",
       " Text(0.4, 0.5, 'X[1] <= 1.558\\ngini = 0.219\\nsamples = 8\\nvalue = [7, 1]'),\n",
       " Text(0.2, 0.16666666666666666, 'gini = 0.0\\nsamples = 7\\nvalue = [7, 0]'),\n",
       " Text(0.6, 0.16666666666666666, 'gini = 0.0\\nsamples = 1\\nvalue = [0, 1]'),\n",
       " Text(0.8, 0.5, 'gini = 0.0\\nsamples = 2\\nvalue = [0, 2]')]"
      ]
     },
     "execution_count": 29,
     "metadata": {},
     "output_type": "execute_result"
    },
    {
     "data": {
      "image/png": "[encoded data removed]",
      "text/plain": [
       "<Figure size 432x288 with 1 Axes>"
      ]
     },
     "metadata": {
      "needs_background": "light"
     },
     "output_type": "display_data"
    }
   ],
   "source": [
    "plot_tree(clf2)"
   ]
  },
  {
   "cell_type": "code",
   "execution_count": 30,
   "id": "66f2d6e9",
   "metadata": {},
   "outputs": [
    {
     "data": {
      "text/plain": [
       "[Text(0.6666666666666666, 0.875, 'X[4] <= 2.343\\ngini = 0.48\\nsamples = 10\\nvalue = [4, 6]'),\n",
       " Text(0.5, 0.625, 'X[2] <= 0.452\\ngini = 0.375\\nsamples = 8\\nvalue = [2, 6]'),\n",
       " Text(0.3333333333333333, 0.375, 'X[4] <= 1.894\\ngini = 0.444\\nsamples = 3\\nvalue = [2, 1]'),\n",
       " Text(0.16666666666666666, 0.125, 'gini = 0.0\\nsamples = 2\\nvalue = [2, 0]'),\n",
       " Text(0.5, 0.125, 'gini = 0.0\\nsamples = 1\\nvalue = [0, 1]'),\n",
       " Text(0.6666666666666666, 0.375, 'gini = 0.0\\nsamples = 5\\nvalue = [0, 5]'),\n",
       " Text(0.8333333333333334, 0.625, 'gini = 0.0\\nsamples = 2\\nvalue = [2, 0]')]"
      ]
     },
     "execution_count": 30,
     "metadata": {},
     "output_type": "execute_result"
    },
    {
     "data": {
      "image/png": "[encoded data removed]",
      "text/plain": [
       "<Figure size 432x288 with 1 Axes>"
      ]
     },
     "metadata": {
      "needs_background": "light"
     },
     "output_type": "display_data"
    }
   ],
   "source": [
    "plot_tree(clf3)"
   ]
  },
  {
   "cell_type": "code",
   "execution_count": 34,
   "id": "dd82ef27",
   "metadata": {},
   "outputs": [
    {
     "name": "stderr",
     "output_type": "stream",
     "text": [
      "C:\\Users\\hd\\anaconda3\\lib\\site-packages\\sklearn\\base.py:450: UserWarning: X does not have valid feature names, but DecisionTreeClassifier was fitted with feature names\n",
      "  warnings.warn(\n"
     ]
    },
    {
     "data": {
      "text/plain": [
       "array([1])"
      ]
     },
     "execution_count": 34,
     "metadata": {},
     "output_type": "execute_result"
    }
   ],
   "source": [
    "clf1.predict(np.array([0.551380,-1.876815,-1.807618,-1.557932, -0.039809]).reshape(1,5))"
   ]
  },
  {
   "cell_type": "code",
   "execution_count": 36,
   "id": "f760877c",
   "metadata": {},
   "outputs": [
    {
     "name": "stderr",
     "output_type": "stream",
     "text": [
      "C:\\Users\\hd\\anaconda3\\lib\\site-packages\\sklearn\\base.py:450: UserWarning: X does not have valid feature names, but DecisionTreeClassifier was fitted with feature names\n",
      "  warnings.warn(\n"
     ]
    },
    {
     "data": {
      "text/plain": [
       "array([0])"
      ]
     },
     "execution_count": 36,
     "metadata": {},
     "output_type": "execute_result"
    }
   ],
   "source": [
    "clf2.predict(np.array([0.551380,-1.876815,-1.807618,-1.557932, -0.039809]).reshape(1,5))"
   ]
  },
  {
   "cell_type": "code",
   "execution_count": 37,
   "id": "da5df02a",
   "metadata": {},
   "outputs": [
    {
     "data": {
      "text/html": [
       "<div>\n",
       "<style scoped>\n",
       "    .dataframe tbody tr th:only-of-type {\n",
       "        vertical-align: middle;\n",
       "    }\n",
       "\n",
       "    .dataframe tbody tr th {\n",
       "        vertical-align: top;\n",
       "    }\n",
       "\n",
       "    .dataframe thead th {\n",
       "        text-align: right;\n",
       "    }\n",
       "</style>\n",
       "<table border=\"1\" class=\"dataframe\">\n",
       "  <thead>\n",
       "    <tr style=\"text-align: right;\">\n",
       "      <th></th>\n",
       "      <th>col1</th>\n",
       "      <th>col2</th>\n",
       "      <th>col3</th>\n",
       "      <th>col4</th>\n",
       "      <th>col5</th>\n",
       "      <th>target</th>\n",
       "    </tr>\n",
       "  </thead>\n",
       "  <tbody>\n",
       "    <tr>\n",
       "      <th>79</th>\n",
       "      <td>3.325601</td>\n",
       "      <td>1.398354</td>\n",
       "      <td>3.156563</td>\n",
       "      <td>2.335418</td>\n",
       "      <td>0.945827</td>\n",
       "      <td>1</td>\n",
       "    </tr>\n",
       "    <tr>\n",
       "      <th>89</th>\n",
       "      <td>-0.110325</td>\n",
       "      <td>2.337542</td>\n",
       "      <td>-3.494985</td>\n",
       "      <td>0.408176</td>\n",
       "      <td>1.413734</td>\n",
       "      <td>0</td>\n",
       "    </tr>\n",
       "    <tr>\n",
       "      <th>16</th>\n",
       "      <td>1.044896</td>\n",
       "      <td>2.005104</td>\n",
       "      <td>0.489247</td>\n",
       "      <td>-2.575979</td>\n",
       "      <td>0.374483</td>\n",
       "      <td>0</td>\n",
       "    </tr>\n",
       "    <tr>\n",
       "      <th>76</th>\n",
       "      <td>-1.093497</td>\n",
       "      <td>0.985900</td>\n",
       "      <td>1.353040</td>\n",
       "      <td>1.170938</td>\n",
       "      <td>2.234680</td>\n",
       "      <td>0</td>\n",
       "    </tr>\n",
       "    <tr>\n",
       "      <th>94</th>\n",
       "      <td>-1.972347</td>\n",
       "      <td>1.666480</td>\n",
       "      <td>-2.765145</td>\n",
       "      <td>1.284082</td>\n",
       "      <td>1.086468</td>\n",
       "      <td>0</td>\n",
       "    </tr>\n",
       "    <tr>\n",
       "      <th>90</th>\n",
       "      <td>1.435049</td>\n",
       "      <td>1.523389</td>\n",
       "      <td>1.197845</td>\n",
       "      <td>0.841340</td>\n",
       "      <td>0.808871</td>\n",
       "      <td>1</td>\n",
       "    </tr>\n",
       "    <tr>\n",
       "      <th>70</th>\n",
       "      <td>-1.904024</td>\n",
       "      <td>1.291308</td>\n",
       "      <td>-2.446960</td>\n",
       "      <td>0.471580</td>\n",
       "      <td>-0.289659</td>\n",
       "      <td>0</td>\n",
       "    </tr>\n",
       "    <tr>\n",
       "      <th>63</th>\n",
       "      <td>-0.274913</td>\n",
       "      <td>1.958722</td>\n",
       "      <td>0.506159</td>\n",
       "      <td>0.554707</td>\n",
       "      <td>2.548411</td>\n",
       "      <td>1</td>\n",
       "    </tr>\n",
       "    <tr>\n",
       "      <th>70</th>\n",
       "      <td>-1.904024</td>\n",
       "      <td>1.291308</td>\n",
       "      <td>-2.446960</td>\n",
       "      <td>0.471580</td>\n",
       "      <td>-0.289659</td>\n",
       "      <td>0</td>\n",
       "    </tr>\n",
       "    <tr>\n",
       "      <th>77</th>\n",
       "      <td>1.215275</td>\n",
       "      <td>2.259401</td>\n",
       "      <td>0.337471</td>\n",
       "      <td>-0.245785</td>\n",
       "      <td>2.398531</td>\n",
       "      <td>0</td>\n",
       "    </tr>\n",
       "    <tr>\n",
       "      <th>15</th>\n",
       "      <td>1.539197</td>\n",
       "      <td>2.950439</td>\n",
       "      <td>-2.890667</td>\n",
       "      <td>1.034619</td>\n",
       "      <td>2.839944</td>\n",
       "      <td>0</td>\n",
       "    </tr>\n",
       "    <tr>\n",
       "      <th>12</th>\n",
       "      <td>-0.023787</td>\n",
       "      <td>1.737764</td>\n",
       "      <td>-3.451649</td>\n",
       "      <td>1.638181</td>\n",
       "      <td>1.506730</td>\n",
       "      <td>1</td>\n",
       "    </tr>\n",
       "    <tr>\n",
       "      <th>30</th>\n",
       "      <td>-0.461675</td>\n",
       "      <td>-1.118149</td>\n",
       "      <td>-1.008992</td>\n",
       "      <td>0.489955</td>\n",
       "      <td>-0.753119</td>\n",
       "      <td>1</td>\n",
       "    </tr>\n",
       "    <tr>\n",
       "      <th>77</th>\n",
       "      <td>1.215275</td>\n",
       "      <td>2.259401</td>\n",
       "      <td>0.337471</td>\n",
       "      <td>-0.245785</td>\n",
       "      <td>2.398531</td>\n",
       "      <td>0</td>\n",
       "    </tr>\n",
       "  </tbody>\n",
       "</table>\n",
       "</div>"
      ],
      "text/plain": [
       "        col1      col2      col3      col4      col5  target\n",
       "79  3.325601  1.398354  3.156563  2.335418  0.945827       1\n",
       "89 -0.110325  2.337542 -3.494985  0.408176  1.413734       0\n",
       "16  1.044896  2.005104  0.489247 -2.575979  0.374483       0\n",
       "76 -1.093497  0.985900  1.353040  1.170938  2.234680       0\n",
       "94 -1.972347  1.666480 -2.765145  1.284082  1.086468       0\n",
       "90  1.435049  1.523389  1.197845  0.841340  0.808871       1\n",
       "70 -1.904024  1.291308 -2.446960  0.471580 -0.289659       0\n",
       "63 -0.274913  1.958722  0.506159  0.554707  2.548411       1\n",
       "70 -1.904024  1.291308 -2.446960  0.471580 -0.289659       0\n",
       "77  1.215275  2.259401  0.337471 -0.245785  2.398531       0\n",
       "15  1.539197  2.950439 -2.890667  1.034619  2.839944       0\n",
       "12 -0.023787  1.737764 -3.451649  1.638181  1.506730       1\n",
       "30 -0.461675 -1.118149 -1.008992  0.489955 -0.753119       1\n",
       "77  1.215275  2.259401  0.337471 -0.245785  2.398531       0"
      ]
     },
     "execution_count": 37,
     "metadata": {},
     "output_type": "execute_result"
    }
   ],
   "source": [
    "df.sample(14, replace=True)"
   ]
  },
  {
   "cell_type": "code",
   "execution_count": null,
   "id": "fba2fa29",
   "metadata": {},
   "outputs": [],
   "source": []
  },
  {
   "cell_type": "code",
   "execution_count": null,
   "id": "21f11714",
   "metadata": {},
   "outputs": [],
   "source": []
  }
 ],
 "metadata": {
  "kernelspec": {
   "display_name": "Python 3 (ipykernel)",
   "language": "python",
   "name": "python3"
  },
  "language_info": {
   "codemirror_mode": {
    "name": "ipython",
    "version": 3
   },
   "file_extension": ".py",
   "mimetype": "text/x-python",
   "name": "python",
   "nbconvert_exporter": "python",
   "pygments_lexer": "ipython3",
   "version": "3.9.7"
  }
 },
 "nbformat": 4,
 "nbformat_minor": 5
}
