{
 "cells": [
  {
   "cell_type": "code",
   "execution_count": 7,
   "id": "a3a62382",
   "metadata": {},
   "outputs": [
    {
     "ename": "ModuleNotFoundError",
     "evalue": "No module named 'streamlit'",
     "output_type": "error",
     "traceback": [
      "\u001b[1;31m---------------------------------------------------------------------------\u001b[0m",
      "\u001b[1;31mModuleNotFoundError\u001b[0m                       Traceback (most recent call last)",
      "\u001b[1;32m~\\AppData\\Local\\Temp/ipykernel_14656/341171622.py\u001b[0m in \u001b[0;36m<module>\u001b[1;34m\u001b[0m\n\u001b[0;32m      1\u001b[0m \u001b[1;32mimport\u001b[0m \u001b[0mmatplotlib\u001b[0m\u001b[1;33m.\u001b[0m\u001b[0mpyplot\u001b[0m \u001b[1;32mas\u001b[0m \u001b[0mplt\u001b[0m\u001b[1;33m\u001b[0m\u001b[1;33m\u001b[0m\u001b[0m\n\u001b[1;32m----> 2\u001b[1;33m \u001b[1;32mimport\u001b[0m \u001b[0mstreamlit\u001b[0m \u001b[1;32mas\u001b[0m \u001b[0mst\u001b[0m\u001b[1;33m\u001b[0m\u001b[1;33m\u001b[0m\u001b[0m\n\u001b[0m\u001b[0;32m      3\u001b[0m \u001b[1;32mimport\u001b[0m \u001b[0mnumpy\u001b[0m \u001b[1;32mas\u001b[0m \u001b[0mnp\u001b[0m\u001b[1;33m\u001b[0m\u001b[1;33m\u001b[0m\u001b[0m\n\u001b[0;32m      4\u001b[0m \u001b[1;32mfrom\u001b[0m \u001b[0msklearn\u001b[0m\u001b[1;33m.\u001b[0m\u001b[0mmodel_selection\u001b[0m \u001b[1;32mimport\u001b[0m \u001b[0mtrain_test_split\u001b[0m\u001b[1;33m\u001b[0m\u001b[1;33m\u001b[0m\u001b[0m\n\u001b[0;32m      5\u001b[0m \u001b[1;32mfrom\u001b[0m \u001b[0msklearn\u001b[0m\u001b[1;33m.\u001b[0m\u001b[0mdatasets\u001b[0m \u001b[1;32mimport\u001b[0m \u001b[0mmake_classification\u001b[0m\u001b[1;33m,\u001b[0m\u001b[0mmake_blobs\u001b[0m\u001b[1;33m\u001b[0m\u001b[1;33m\u001b[0m\u001b[0m\n",
      "\u001b[1;31mModuleNotFoundError\u001b[0m: No module named 'streamlit'"
     ]
    }
   ],
   "source": [
    "import matplotlib.pyplot as plt\n",
    "import streamlit as st\n",
    "import numpy as np\n",
    "from sklearn.model_selection import train_test_split\n",
    "from sklearn.datasets import make_classification,make_blobs\n",
    "from sklearn.linear_model import LogisticRegression\n",
    "from sklearn.metrics import accuracy_score\n",
    "\n",
    "def load_initial_graph(dataset,ax):\n",
    "    if dataset == \"Binary\":\n",
    "        X, y = make_blobs(n_features=2, centers=2,random_state=6)\n",
    "        ax.scatter(X.T[0], X.T[1], c=y, cmap='rainbow')\n",
    "        return X,y\n",
    "    elif dataset == \"Multiclass\":\n",
    "        X,y = make_blobs(n_features=2, centers=3,random_state=2)\n",
    "        ax.scatter(X.T[0], X.T[1], c=y, cmap='rainbow')\n",
    "        return X,y\n",
    "\n",
    "def draw_meshgrid():\n",
    "    a = np.arange(start=X[:, 0].min() - 1, stop=X[:, 0].max() + 1, step=0.01)\n",
    "    b = np.arange(start=X[:, 1].min() - 1, stop=X[:, 1].max() + 1, step=0.01)\n",
    "\n",
    "    XX, YY = np.meshgrid(a, b)\n",
    "\n",
    "    input_array = np.array([XX.ravel(), YY.ravel()]).T\n",
    "\n",
    "    return XX, YY, input_array\n",
    "\n",
    "\n",
    "plt.style.use('fivethirtyeight')\n",
    "\n",
    "st.sidebar.markdown(\"# Logistic Regression Classifier\")\n",
    "\n",
    "dataset = st.sidebar.selectbox(\n",
    "    'Select Dataset',\n",
    "    ('Binary','Multiclass')\n",
    ")\n",
    "\n",
    "penalty = st.sidebar.selectbox(\n",
    "    'Regularization',\n",
    "    ('l2', 'l1','elasticnet','none')\n",
    ")\n",
    "\n",
    "c_input = float(st.sidebar.number_input('C',value=1.0))\n",
    "\n",
    "solver = st.sidebar.selectbox(\n",
    "    'Solver',\n",
    "    ('newton-cg', 'lbfgs', 'liblinear', 'sag', 'saga')\n",
    ")\n",
    "\n",
    "max_iter = int(st.sidebar.number_input('Max Iterations',value=100))\n",
    "\n",
    "multi_class = st.sidebar.selectbox(\n",
    "    'Multi Class',\n",
    "    ('auto', 'ovr', 'multinomial')\n",
    ")\n",
    "\n",
    "l1_ratio = int(st.sidebar.number_input('l1 Ratio'))\n",
    "\n",
    "# Load initial graph\n",
    "fig, ax = plt.subplots()\n",
    "\n",
    "# Plot initial graph\n",
    "X,y = load_initial_graph(dataset,ax)\n",
    "X_train, X_test, y_train, y_test = train_test_split(X, y, random_state=42)\n",
    "orig = st.pyplot(fig)\n",
    "\n",
    "if st.sidebar.button('Run Algorithm'):\n",
    "    orig.empty()\n",
    "\n",
    "    clf = LogisticRegression(penalty=penalty,C=c_input,solver=solver,max_iter=max_iter,multi_class=multi_class,l1_ratio=l1_ratio)\n",
    "    clf.fit(X_train,y_train)\n",
    "\n",
    "    y_pred = clf.predict(X_test)\n",
    "\n",
    "    XX, YY, input_array = draw_meshgrid()\n",
    "    labels = clf.predict(input_array)\n",
    "\n",
    "    ax.contourf(XX, YY, labels.reshape(XX.shape), alpha=0.5, cmap='rainbow')\n",
    "    plt.xlabel(\"Col1\")\n",
    "    plt.ylabel(\"Col2\")\n",
    "    orig = st.pyplot(fig)\n",
    "    st.subheader(\"Accuracy for Decision Tree  \" + str(round(accuracy_score(y_test, y_pred), 2)))\n",
    "Footer"
   ]
  },
  {
   "cell_type": "code",
   "execution_count": 3,
   "id": "7ab9fe40",
   "metadata": {},
   "outputs": [
    {
     "name": "stdout",
     "output_type": "stream",
     "text": [
      "Collecting pipenv\n",
      "  Downloading pipenv-2022.11.25-py3-none-any.whl (2.9 MB)\n",
      "Requirement already satisfied: setuptools>=36.2.1 in c:\\users\\hd\\anaconda3\\lib\\site-packages (from pipenv) (58.0.4)\n",
      "Collecting virtualenv\n",
      "  Downloading virtualenv-20.17.0-py3-none-any.whl (8.8 MB)\n",
      "Collecting virtualenv-clone>=0.2.5\n",
      "  Downloading virtualenv_clone-0.5.7-py3-none-any.whl (6.6 kB)\n",
      "Requirement already satisfied: certifi in c:\\users\\hd\\anaconda3\\lib\\site-packages (from pipenv) (2021.10.8)\n",
      "Collecting filelock<4,>=3.4.1\n",
      "  Downloading filelock-3.8.0-py3-none-any.whl (10 kB)\n",
      "Collecting platformdirs<3,>=2.4\n",
      "  Downloading platformdirs-2.5.4-py3-none-any.whl (14 kB)\n",
      "Collecting distlib<1,>=0.3.6\n",
      "  Downloading distlib-0.3.6-py2.py3-none-any.whl (468 kB)\n",
      "Installing collected packages: platformdirs, filelock, distlib, virtualenv-clone, virtualenv, pipenv\n",
      "  Attempting uninstall: filelock\n",
      "    Found existing installation: filelock 3.3.1\n",
      "    Uninstalling filelock-3.3.1:\n",
      "      Successfully uninstalled filelock-3.3.1\n",
      "Successfully installed distlib-0.3.6 filelock-3.8.0 pipenv-2022.11.25 platformdirs-2.5.4 virtualenv-20.17.0 virtualenv-clone-0.5.7\n"
     ]
    }
   ],
   "source": [
    "!pip3 install pipenv"
   ]
  },
  {
   "cell_type": "code",
   "execution_count": 4,
   "id": "893abceb",
   "metadata": {},
   "outputs": [
    {
     "name": "stdout",
     "output_type": "stream",
     "text": [
      "Successfully created virtual environment!\n",
      "Installing streamlit...\n",
      "\n",
      "Installing dependencies from Pipfile.lock (4b6216)...\n",
      "\n",
      "To activate this project's virtualenv, run pipenv shell.\n",
      "\n",
      "Alternatively, run a command inside the virtualenv with pipenv run.\n",
      "\n"
     ]
    },
    {
     "name": "stderr",
     "output_type": "stream",
     "text": [
      "Creating a virtualenv for this project...\n",
      "\n",
      "Pipfile: C:\\Users\\hd\\6 Months Data Science\\Machine Algorithms\\Logistic Regression\\Pipfile\n",
      "\n",
      "Using C:/Users/hd/AppData/Local/Programs/Python/Python39/python.exe (3.9.7) to create virtualenv...\n",
      "\n",
      "created virtual environment CPython3.9.7.final.0-64 in 11676ms\n",
      "\n",
      "  creator Venv(dest=C:\\Users\\hd\\.virtualenvs\\Logistic_Regression-GhT3bAO1, clear=False, no_vcs_ignore=False, global=False, describe=CPython3Windows)\n",
      "\n",
      "  seeder FromAppData(download=False, pip=bundle, setuptools=bundle, wheel=bundle, via=copy, app_data_dir=C:\\Users\\hd\\AppData\\Local\\pypa\\virtualenv)\n",
      "\n",
      "    added seed packages: pip==22.3.1, setuptools==65.6.3, wheel==0.38.4\n",
      "\n",
      "  activators BashActivator,BatchActivator,FishActivator,NushellActivator,PowerShellActivator,PythonActivator\n",
      "\n",
      "\n",
      "\n",
      "Virtualenv location: C:\\Users\\hd\\.virtualenvs\\Logistic_Regression-GhT3bAO1\n",
      "\n",
      "Creating a Pipfile for this project...\n",
      "\n",
      "Pipfile.lock not found, creating...\n",
      "\n",
      "Locking [packages] dependencies...\n",
      "\n",
      "Locking [dev-packages] dependencies...\n",
      "\n",
      "Updated Pipfile.lock (683c66f25c8d872bcbdaa4fce4a46d55f26161fa9b12dfc370f4c1d3184b6216)!\n",
      "\n"
     ]
    }
   ],
   "source": [
    "!pipenv install streamlit"
   ]
  }
 ],
 "metadata": {
  "kernelspec": {
   "display_name": "Python 3 (ipykernel)",
   "language": "python",
   "name": "python3"
  },
  "language_info": {
   "codemirror_mode": {
    "name": "ipython",
    "version": 3
   },
   "file_extension": ".py",
   "mimetype": "text/x-python",
   "name": "python",
   "nbconvert_exporter": "python",
   "pygments_lexer": "ipython3",
   "version": "3.9.7"
  }
 },
 "nbformat": 4,
 "nbformat_minor": 5
}
