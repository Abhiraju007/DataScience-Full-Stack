{
 "cells": [
  {
   "cell_type": "code",
   "execution_count": 10,
   "id": "6eed32dc",
   "metadata": {},
   "outputs": [
    {
     "name": "stderr",
     "output_type": "stream",
     "text": [
      "C:\\Users\\hd\\anaconda3\\lib\\site-packages\\sklearn\\cluster\\_kmeans.py:1334: UserWarning: KMeans is known to have a memory leak on Windows with MKL, when there are less chunks than available threads. You can avoid it by setting the environment variable OMP_NUM_THREADS=1.\n",
      "  warnings.warn(\n"
     ]
    },
    {
     "data": {
      "text/plain": [
       "array([0, 2, 0, 2, 3, 0, 0, 1, 2, 3, 3, 3, 0, 3, 3, 3, 1, 2, 2, 2, 2, 2,\n",
       "       3, 0, 3, 0, 3, 0, 2, 1, 3, 1, 0, 2, 0, 0, 3, 1, 3, 1, 0, 2, 1, 1,\n",
       "       2, 1, 3, 0, 3, 3, 0, 2, 1, 1, 1, 2, 1, 2, 1, 0, 1, 0, 2, 1, 3, 0,\n",
       "       1, 1, 1, 2, 1, 0, 0, 2, 1, 2, 2, 1, 1, 2, 3, 3, 3, 0, 3, 2, 0, 1,\n",
       "       2, 0, 3, 2, 0, 1, 3, 2, 3, 0, 0, 3])"
      ]
     },
     "execution_count": 10,
     "metadata": {},
     "output_type": "execute_result"
    },
    {
     "data": {
      "image/png": "[encoded data removed]",
      "text/plain": [
       "<Figure size 432x288 with 1 Axes>"
      ]
     },
     "metadata": {
      "needs_background": "light"
     },
     "output_type": "display_data"
    }
   ],
   "source": [
    "from sklearn.datasets import make_blobs\n",
    "import matplotlib.pyplot as plt\n",
    "from sklearn.cluster import KMeans\n",
    "import pandas as pd\n",
    "\n",
    "centroids = [(-5,-5),(5,5),(-2.5,2.5),(2.5,-2.5)]\n",
    "cluster_std = [1,1,1,1]\n",
    "\n",
    "X,y = make_blobs(n_samples=100,cluster_std=cluster_std,centers=centroids,n_features=2,random_state=2)\n",
    "\n",
    "plt.scatter(X[:,0],X[:,1])\n",
    "\n",
    "#df = pd.read_csv('student_clustering.csv')\n",
    "\n",
    "#X = df.iloc[:,:].values\n",
    "\n",
    "km = KMeans(n_clusters=4,max_iter=500)\n",
    "km.fit_predict(X)\n",
    "\n",
    "# plt.scatter(X[y_means == 0,0],X[y_means == 0,1],color='red')\n",
    "# plt.scatter(X[y_means == 1,0],X[y_means == 1,1],color='blue')\n",
    "# plt.scatter(X[y_means == 2,0],X[y_means == 2,1],color='green')\n",
    "# plt.scatter(X[y_means == 3,0],X[y_means == 3,1],color='yellow')\n",
    "# plt.show()"
   ]
  },
  {
   "cell_type": "code",
   "execution_count": 3,
   "id": "fc2686ec",
   "metadata": {},
   "outputs": [
    {
     "name": "stdout",
     "output_type": "stream",
     "text": [
      "Note: you may need to restart the kernel to use updated packages.\n"
     ]
    },
    {
     "name": "stderr",
     "output_type": "stream",
     "text": [
      "  ERROR: Command errored out with exit status 1:\n",
      "   command: 'C:\\Users\\hd\\anaconda3\\python.exe' -u -c 'import io, os, sys, setuptools, tokenize; sys.argv[0] = '\"'\"'C:\\\\Users\\\\hd\\\\AppData\\\\Local\\\\Temp\\\\pip-install-gk8gwjlk\\\\kmeans_53cb92b148ad4361991f11cbec5759c0\\\\setup.py'\"'\"'; __file__='\"'\"'C:\\\\Users\\\\hd\\\\AppData\\\\Local\\\\Temp\\\\pip-install-gk8gwjlk\\\\kmeans_53cb92b148ad4361991f11cbec5759c0\\\\setup.py'\"'\"';f = getattr(tokenize, '\"'\"'open'\"'\"', open)(__file__) if os.path.exists(__file__) else io.StringIO('\"'\"'from setuptools import setup; setup()'\"'\"');code = f.read().replace('\"'\"'\\r\\n'\"'\"', '\"'\"'\\n'\"'\"');f.close();exec(compile(code, __file__, '\"'\"'exec'\"'\"'))' bdist_wheel -d 'C:\\Users\\hd\\AppData\\Local\\Temp\\pip-wheel-clkt5u7o'\n",
      "       cwd: C:\\Users\\hd\\AppData\\Local\\Temp\\pip-install-gk8gwjlk\\kmeans_53cb92b148ad4361991f11cbec5759c0\\\n",
      "  Complete output (19 lines):\n",
      "  running bdist_wheel\n",
      "  running build\n",
      "  running build_py\n",
      "  creating build"
     ]
    },
    {
     "name": "stdout",
     "output_type": "stream",
     "text": [
      "Collecting kmeans\n",
      "  Downloading kmeans-1.0.2.tar.gz (5.9 kB)\n",
      "Building wheels for collected packages: kmeans\n",
      "  Building wheel for kmeans (setup.py): started\n",
      "  Building wheel for kmeans (setup.py): finished with status 'error'\n",
      "  Running setup.py clean for kmeans\n",
      "Failed to build kmeans\n",
      "Installing collected packages: kmeans\n",
      "    Running setup.py install for kmeans: started\n",
      "    Running setup.py install for kmeans: finished with status 'error'\n"
     ]
    },
    {
     "name": "stderr",
     "output_type": "stream",
     "text": [
      "\n",
      "  creating build\\lib.win-amd64-3.9\n",
      "  creating build\\lib.win-amd64-3.9\\kmeans\n",
      "  copying kmeans\\performance.py -> build\\lib.win-amd64-3.9\\kmeans\n",
      "  copying kmeans\\tests.py -> build\\lib.win-amd64-3.9\\kmeans\n",
      "  copying kmeans\\__init__.py -> build\\lib.win-amd64-3.9\\kmeans\n",
      "  running egg_info\n",
      "  writing kmeans.egg-info\\PKG-INFO\n",
      "  writing dependency_links to kmeans.egg-info\\dependency_links.txt\n",
      "  writing top-level names to kmeans.egg-info\\top_level.txt\n",
      "  reading manifest file 'kmeans.egg-info\\SOURCES.txt'\n",
      "  writing manifest file 'kmeans.egg-info\\SOURCES.txt'\n",
      "  copying kmeans\\lib.c -> build\\lib.win-amd64-3.9\\kmeans\n",
      "  running build_ext\n",
      "  building 'kmeans/lib' extension\n",
      "  error: Microsoft Visual C++ 14.0 or greater is required. Get it with \"Microsoft C++ Build Tools\": https://visualstudio.microsoft.com/visual-cpp-build-tools/\n",
      "  ----------------------------------------\n",
      "  ERROR: Failed building wheel for kmeans\n",
      "    ERROR: Command errored out with exit status 1:\n",
      "     command: 'C:\\Users\\hd\\anaconda3\\python.exe' -u -c 'import io, os, sys, setuptools, tokenize; sys.argv[0] = '\"'\"'C:\\\\Users\\\\hd\\\\AppData\\\\Local\\\\Temp\\\\pip-install-gk8gwjlk\\\\kmeans_53cb92b148ad4361991f11cbec5759c0\\\\setup.py'\"'\"'; __file__='\"'\"'C:\\\\Users\\\\hd\\\\AppData\\\\Local\\\\Temp\\\\pip-install-gk8gwjlk\\\\kmeans_53cb92b148ad4361991f11cbec5759c0\\\\setup.py'\"'\"';f = getattr(tokenize, '\"'\"'open'\"'\"', open)(__file__) if os.path.exists(__file__) else io.StringIO('\"'\"'from setuptools import setup; setup()'\"'\"');code = f.read().replace('\"'\"'\\r\\n'\"'\"', '\"'\"'\\n'\"'\"');f.close();exec(compile(code, __file__, '\"'\"'exec'\"'\"'))' install --record 'C:\\Users\\hd\\AppData\\Local\\Temp\\pip-record-idsn_tou\\install-record.txt' --single-version-externally-managed --compile --install-headers 'C:\\Users\\hd\\anaconda3\\Include\\kmeans'\n",
      "         cwd: C:\\Users\\hd\\AppData\\Local\\Temp\\pip-install-gk8gwjlk\\kmeans_53cb92b148ad4361991f11cbec5759c0\\\n",
      "    Complete output (19 lines):\n",
      "    running install\n",
      "    running build\n",
      "    running build_py\n",
      "    creating build\n",
      "    creating build\\lib.win-amd64-3.9\n",
      "    creating build\\lib.win-amd64-3.9\\kmeans\n",
      "    copying kmeans\\performance.py -> build\\lib.win-amd64-3.9\\kmeans\n",
      "    copying kmeans\\tests.py -> build\\lib.win-amd64-3.9\\kmeans\n",
      "    copying kmeans\\__init__.py -> build\\lib.win-amd64-3.9\\kmeans\n",
      "    running egg_info\n",
      "    writing kmeans.egg-info\\PKG-INFO\n",
      "    writing dependency_links to kmeans.egg-info\\dependency_links.txt\n",
      "    writing top-level names to kmeans.egg-info\\top_level.txt\n",
      "    reading manifest file 'kmeans.egg-info\\SOURCES.txt'\n",
      "    writing manifest file 'kmeans.egg-info\\SOURCES.txt'\n",
      "    copying kmeans\\lib.c -> build\\lib.win-amd64-3.9\\kmeans\n",
      "    running build_ext\n",
      "    building 'kmeans/lib' extension\n",
      "    error: Microsoft Visual C++ 14.0 or greater is required. Get it with \"Microsoft C++ Build Tools\": https://visualstudio.microsoft.com/visual-cpp-build-tools/\n",
      "    ----------------------------------------\n",
      "ERROR: Command errored out with exit status 1: 'C:\\Users\\hd\\anaconda3\\python.exe' -u -c 'import io, os, sys, setuptools, tokenize; sys.argv[0] = '\"'\"'C:\\\\Users\\\\hd\\\\AppData\\\\Local\\\\Temp\\\\pip-install-gk8gwjlk\\\\kmeans_53cb92b148ad4361991f11cbec5759c0\\\\setup.py'\"'\"'; __file__='\"'\"'C:\\\\Users\\\\hd\\\\AppData\\\\Local\\\\Temp\\\\pip-install-gk8gwjlk\\\\kmeans_53cb92b148ad4361991f11cbec5759c0\\\\setup.py'\"'\"';f = getattr(tokenize, '\"'\"'open'\"'\"', open)(__file__) if os.path.exists(__file__) else io.StringIO('\"'\"'from setuptools import setup; setup()'\"'\"');code = f.read().replace('\"'\"'\\r\\n'\"'\"', '\"'\"'\\n'\"'\"');f.close();exec(compile(code, __file__, '\"'\"'exec'\"'\"'))' install --record 'C:\\Users\\hd\\AppData\\Local\\Temp\\pip-record-idsn_tou\\install-record.txt' --single-version-externally-managed --compile --install-headers 'C:\\Users\\hd\\anaconda3\\Include\\kmeans' Check the logs for full command output.\n"
     ]
    }
   ],
   "source": [
    "pip install kmeans\n"
   ]
  },
  {
   "cell_type": "code",
   "execution_count": 9,
   "id": "ed2d8ac1",
   "metadata": {},
   "outputs": [],
   "source": [
    "import random\n",
    "import numpy as np\n",
    "\n",
    "class KMeans:\n",
    "    def __init__(self,n_clusters=2,max_iter=100):\n",
    "        self.n_clusters = n_clusters\n",
    "        self.max_iter = max_iter\n",
    "        self.centroids = None\n",
    "\n",
    "    def fit_predict(self,X):\n",
    "\n",
    "        random_index = random.sample(range(0,X.shape[0]),self.n_clusters)\n",
    "        self.centroids = X[random_index]\n",
    "\n",
    "        for i in range(self.max_iter):\n",
    "            # assign clusters\n",
    "            cluster_group = self.assign_clusters(X)\n",
    "            old_centroids = self.centroids\n",
    "            # move centroids\n",
    "            self.centroids = self.move_centroids(X,cluster_group)\n",
    "            # check finish\n",
    "            if (old_centroids == self.centroids).all():\n",
    "                break\n",
    "\n",
    "        return cluster_group\n",
    "\n",
    "    def assign_clusters(self,X):\n",
    "        cluster_group = []\n",
    "        distances = []\n",
    "\n",
    "        for row in X:\n",
    "            for centroid in self.centroids:\n",
    "                distances.append(np.sqrt(np.dot(row-centroid,row-centroid)))\n",
    "            min_distance = min(distances)\n",
    "            index_pos = distances.index(min_distance)\n",
    "            cluster_group.append(index_pos)\n",
    "            distances.clear()\n",
    "\n",
    "        return np.array(cluster_group)\n",
    "\n",
    "    def move_centroids(self,X,cluster_group):\n",
    "        new_centroids = []\n",
    "\n",
    "        cluster_type = np.unique(cluster_group)\n",
    "\n",
    "        for type in cluster_type:\n",
    "            new_centroids.append(X[cluster_group == type].mean(axis=0))\n",
    "\n",
    "        return np.array(new_centroids)"
   ]
  },
  {
   "cell_type": "code",
   "execution_count": null,
   "id": "9f6f009c",
   "metadata": {},
   "outputs": [],
   "source": []
  },
  {
   "cell_type": "code",
   "execution_count": null,
   "id": "86d57056",
   "metadata": {},
   "outputs": [],
   "source": []
  },
  {
   "cell_type": "code",
   "execution_count": null,
   "id": "61689a30",
   "metadata": {},
   "outputs": [],
   "source": []
  },
  {
   "cell_type": "code",
   "execution_count": null,
   "id": "61495dcd",
   "metadata": {},
   "outputs": [],
   "source": []
  },
  {
   "cell_type": "code",
   "execution_count": null,
   "id": "86ed1d7d",
   "metadata": {},
   "outputs": [],
   "source": []
  }
 ],
 "metadata": {
  "kernelspec": {
   "display_name": "Python 3 (ipykernel)",
   "language": "python",
   "name": "python3"
  },
  "language_info": {
   "codemirror_mode": {
    "name": "ipython",
    "version": 3
   },
   "file_extension": ".py",
   "mimetype": "text/x-python",
   "name": "python",
   "nbconvert_exporter": "python",
   "pygments_lexer": "ipython3",
   "version": "3.9.7"
  }
 },
 "nbformat": 4,
 "nbformat_minor": 5
}
