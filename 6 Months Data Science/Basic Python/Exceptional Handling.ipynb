{
 "cells": [
  {
   "cell_type": "code",
   "execution_count": 2,
   "id": "96569950",
   "metadata": {},
   "outputs": [
    {
     "name": "stdout",
     "output_type": "stream",
     "text": [
      "Sorry. This file does not exist\n"
     ]
    }
   ],
   "source": [
    "try:\n",
    "    f = open('testfile.txt')\n",
    "except Exception:\n",
    "    print(\"Sorry. This file does not exist\")"
   ]
  },
  {
   "cell_type": "code",
   "execution_count": 19,
   "id": "8cc27465",
   "metadata": {},
   "outputs": [
    {
     "ename": "NameError",
     "evalue": "name 'bad_var' is not defined",
     "output_type": "error",
     "traceback": [
      "\u001b[1;31m---------------------------------------------------------------------------\u001b[0m",
      "\u001b[1;31mNameError\u001b[0m                                 Traceback (most recent call last)",
      "\u001b[1;32m~\\AppData\\Local\\Temp/ipykernel_9912/4134874618.py\u001b[0m in \u001b[0;36m<module>\u001b[1;34m\u001b[0m\n\u001b[0;32m      1\u001b[0m \u001b[1;32mtry\u001b[0m\u001b[1;33m:\u001b[0m\u001b[1;33m\u001b[0m\u001b[1;33m\u001b[0m\u001b[0m\n\u001b[0;32m      2\u001b[0m     \u001b[0mf\u001b[0m \u001b[1;33m=\u001b[0m \u001b[0mopen\u001b[0m\u001b[1;33m(\u001b[0m\u001b[1;34m'testfile.txt'\u001b[0m\u001b[1;33m)\u001b[0m\u001b[1;33m\u001b[0m\u001b[1;33m\u001b[0m\u001b[0m\n\u001b[1;32m----> 3\u001b[1;33m     \u001b[0mvar\u001b[0m \u001b[1;33m=\u001b[0m \u001b[0mbad_var\u001b[0m\u001b[1;33m\u001b[0m\u001b[1;33m\u001b[0m\u001b[0m\n\u001b[0m\u001b[0;32m      4\u001b[0m \u001b[1;32mexcept\u001b[0m \u001b[0mFileNotFoundError\u001b[0m\u001b[1;33m:\u001b[0m\u001b[1;33m\u001b[0m\u001b[1;33m\u001b[0m\u001b[0m\n\u001b[0;32m      5\u001b[0m     \u001b[0mprint\u001b[0m\u001b[1;33m(\u001b[0m\u001b[1;34m\"Sorry. This file does not exist\"\u001b[0m\u001b[1;33m)\u001b[0m\u001b[1;33m\u001b[0m\u001b[1;33m\u001b[0m\u001b[0m\n",
      "\u001b[1;31mNameError\u001b[0m: name 'bad_var' is not defined"
     ]
    }
   ],
   "source": [
    "try:\n",
    "    f = open('testfile.txt')\n",
    "    var = bad_var\n",
    "except FileNotFoundError:\n",
    "    print(\"Sorry. This file does not exist\")"
   ]
  },
  {
   "cell_type": "code",
   "execution_count": 15,
   "id": "2244ffb9",
   "metadata": {},
   "outputs": [
    {
     "name": "stdout",
     "output_type": "stream",
     "text": [
      "Sorry. something went wrong\n"
     ]
    }
   ],
   "source": [
    "try:\n",
    "    f = open('testfile.txt')\n",
    "    var = bad_var\n",
    "except FileNotFoundError:\n",
    "    print(\"Sorry. This file does not exist\")\n",
    "except Exception:\n",
    "    print(\"Sorry. something went wrong\")"
   ]
  },
  {
   "cell_type": "code",
   "execution_count": 21,
   "id": "cd413f75",
   "metadata": {},
   "outputs": [
    {
     "name": "stdout",
     "output_type": "stream",
     "text": [
      "name 'bad_var' is not defined\n"
     ]
    }
   ],
   "source": [
    "try:\n",
    "    f = open('testfile.txt')\n",
    "    var = bad_var\n",
    "except FileNotFoundError as e:\n",
    "    print(e)\n",
    "except Exception as e:\n",
    "    print(e)"
   ]
  },
  {
   "cell_type": "code",
   "execution_count": 22,
   "id": "23b4bb1c",
   "metadata": {},
   "outputs": [
    {
     "name": "stdout",
     "output_type": "stream",
     "text": [
      "Test File Contents\n"
     ]
    }
   ],
   "source": [
    "try:\n",
    "    f = open('testfile.txt')\n",
    "    #var = bad_var\n",
    "except FileNotFoundError as e:\n",
    "    print(e)\n",
    "except Exception as e:\n",
    "    print(e)\n",
    "else:\n",
    "    print(f.read())\n",
    "    f.close()"
   ]
  },
  {
   "cell_type": "code",
   "execution_count": 23,
   "id": "ee2a4223",
   "metadata": {},
   "outputs": [
    {
     "name": "stdout",
     "output_type": "stream",
     "text": [
      "Test File Contents\n",
      "Executing Finally!!\n"
     ]
    }
   ],
   "source": [
    "try:\n",
    "    f = open('testfile.txt')\n",
    "    #var = bad_var\n",
    "except FileNotFoundError as e:\n",
    "    print(e)\n",
    "except Exception as e:\n",
    "    print(e)\n",
    "else:\n",
    "    print(f.read())\n",
    "    f.close()\n",
    "finally:\n",
    "    print(\"Executing Finally!!\")"
   ]
  },
  {
   "cell_type": "code",
   "execution_count": 24,
   "id": "18ee760b",
   "metadata": {},
   "outputs": [
    {
     "name": "stdout",
     "output_type": "stream",
     "text": [
      "[Errno 2] No such file or directory: 'test_file.txt'\n",
      "Executing Finally!!\n"
     ]
    }
   ],
   "source": [
    "try:\n",
    "    f = open('test_file.txt')\n",
    "    #var = bad_var\n",
    "except FileNotFoundError as e:\n",
    "    print(e)\n",
    "except Exception as e:\n",
    "    print(e)\n",
    "else:\n",
    "    print(f.read())\n",
    "    f.close()\n",
    "finally:\n",
    "    print(\"Executing Finally!!\")"
   ]
  },
  {
   "cell_type": "code",
   "execution_count": 26,
   "id": "a8c8b0d2",
   "metadata": {},
   "outputs": [
    {
     "name": "stdout",
     "output_type": "stream",
     "text": [
      "Error!\n",
      "Executing Finally!!\n"
     ]
    }
   ],
   "source": [
    "try:\n",
    "    f = open('currupt_file.txt')\n",
    "    if f.name == 'currupt_file.txt':\n",
    "        raise Exception\n",
    "except FileNotFoundError as e:\n",
    "    print(e)\n",
    "except Exception as e:\n",
    "    print('Error!')\n",
    "else:\n",
    "    print(f.read())\n",
    "    f.close()\n",
    "finally:\n",
    "    print(\"Executing Finally!!\")"
   ]
  },
  {
   "cell_type": "code",
   "execution_count": null,
   "id": "335e54be",
   "metadata": {},
   "outputs": [],
   "source": [
    "try:\n",
    "    f = open('currupt_file.txt')\n",
    "#     if f.name == 'currupt_file.txt':\n",
    "#         raise Exception\n",
    "except FileNotFoundError as e:\n",
    "    print(e)\n",
    "except Exception as e:\n",
    "    print('Error!')\n",
    "else:\n",
    "    print(f.read())\n",
    "    f.close()\n",
    "finally:\n",
    "    print(\"Executing Finally!!\")"
   ]
  }
 ],
 "metadata": {
  "kernelspec": {
   "display_name": "Python 3 (ipykernel)",
   "language": "python",
   "name": "python3"
  },
  "language_info": {
   "codemirror_mode": {
    "name": "ipython",
    "version": 3
   },
   "file_extension": ".py",
   "mimetype": "text/x-python",
   "name": "python",
   "nbconvert_exporter": "python",
   "pygments_lexer": "ipython3",
   "version": "3.9.7"
  }
 },
 "nbformat": 4,
 "nbformat_minor": 5
}
