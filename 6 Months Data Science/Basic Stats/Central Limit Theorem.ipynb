{
 "cells": [
  {
   "cell_type": "markdown",
   "id": "06126bef",
   "metadata": {},
   "source": [
    "# 1. Central Limit Theorem"
   ]
  },
  {
   "cell_type": "code",
   "execution_count": 17,
   "id": "2d87b30b",
   "metadata": {},
   "outputs": [],
   "source": [
    "import numpy as np\n",
    "import pandas as pd\n",
    "import seaborn as sns\n",
    "import matplotlib.pyplot as plt"
   ]
  },
  {
   "cell_type": "code",
   "execution_count": 2,
   "id": "49e84e4a",
   "metadata": {},
   "outputs": [
    {
     "data": {
      "text/html": [
       "<div>\n",
       "<style scoped>\n",
       "    .dataframe tbody tr th:only-of-type {\n",
       "        vertical-align: middle;\n",
       "    }\n",
       "\n",
       "    .dataframe tbody tr th {\n",
       "        vertical-align: top;\n",
       "    }\n",
       "\n",
       "    .dataframe thead th {\n",
       "        text-align: right;\n",
       "    }\n",
       "</style>\n",
       "<table border=\"1\" class=\"dataframe\">\n",
       "  <thead>\n",
       "    <tr style=\"text-align: right;\">\n",
       "      <th></th>\n",
       "      <th>match_id</th>\n",
       "      <th>inning</th>\n",
       "      <th>batting_team</th>\n",
       "      <th>bowling_team</th>\n",
       "      <th>over</th>\n",
       "      <th>ball</th>\n",
       "      <th>batsman</th>\n",
       "      <th>non_striker</th>\n",
       "      <th>bowler</th>\n",
       "      <th>is_super_over</th>\n",
       "      <th>...</th>\n",
       "      <th>bye_runs</th>\n",
       "      <th>legbye_runs</th>\n",
       "      <th>noball_runs</th>\n",
       "      <th>penalty_runs</th>\n",
       "      <th>batsman_runs</th>\n",
       "      <th>extra_runs</th>\n",
       "      <th>total_runs</th>\n",
       "      <th>player_dismissed</th>\n",
       "      <th>dismissal_kind</th>\n",
       "      <th>fielder</th>\n",
       "    </tr>\n",
       "  </thead>\n",
       "  <tbody>\n",
       "    <tr>\n",
       "      <th>0</th>\n",
       "      <td>1</td>\n",
       "      <td>1</td>\n",
       "      <td>Sunrisers Hyderabad</td>\n",
       "      <td>Royal Challengers Bangalore</td>\n",
       "      <td>1</td>\n",
       "      <td>1</td>\n",
       "      <td>DA Warner</td>\n",
       "      <td>S Dhawan</td>\n",
       "      <td>TS Mills</td>\n",
       "      <td>0</td>\n",
       "      <td>...</td>\n",
       "      <td>0</td>\n",
       "      <td>0</td>\n",
       "      <td>0</td>\n",
       "      <td>0</td>\n",
       "      <td>0</td>\n",
       "      <td>0</td>\n",
       "      <td>0</td>\n",
       "      <td>NaN</td>\n",
       "      <td>NaN</td>\n",
       "      <td>NaN</td>\n",
       "    </tr>\n",
       "    <tr>\n",
       "      <th>1</th>\n",
       "      <td>1</td>\n",
       "      <td>1</td>\n",
       "      <td>Sunrisers Hyderabad</td>\n",
       "      <td>Royal Challengers Bangalore</td>\n",
       "      <td>1</td>\n",
       "      <td>2</td>\n",
       "      <td>DA Warner</td>\n",
       "      <td>S Dhawan</td>\n",
       "      <td>TS Mills</td>\n",
       "      <td>0</td>\n",
       "      <td>...</td>\n",
       "      <td>0</td>\n",
       "      <td>0</td>\n",
       "      <td>0</td>\n",
       "      <td>0</td>\n",
       "      <td>0</td>\n",
       "      <td>0</td>\n",
       "      <td>0</td>\n",
       "      <td>NaN</td>\n",
       "      <td>NaN</td>\n",
       "      <td>NaN</td>\n",
       "    </tr>\n",
       "    <tr>\n",
       "      <th>2</th>\n",
       "      <td>1</td>\n",
       "      <td>1</td>\n",
       "      <td>Sunrisers Hyderabad</td>\n",
       "      <td>Royal Challengers Bangalore</td>\n",
       "      <td>1</td>\n",
       "      <td>3</td>\n",
       "      <td>DA Warner</td>\n",
       "      <td>S Dhawan</td>\n",
       "      <td>TS Mills</td>\n",
       "      <td>0</td>\n",
       "      <td>...</td>\n",
       "      <td>0</td>\n",
       "      <td>0</td>\n",
       "      <td>0</td>\n",
       "      <td>0</td>\n",
       "      <td>4</td>\n",
       "      <td>0</td>\n",
       "      <td>4</td>\n",
       "      <td>NaN</td>\n",
       "      <td>NaN</td>\n",
       "      <td>NaN</td>\n",
       "    </tr>\n",
       "    <tr>\n",
       "      <th>3</th>\n",
       "      <td>1</td>\n",
       "      <td>1</td>\n",
       "      <td>Sunrisers Hyderabad</td>\n",
       "      <td>Royal Challengers Bangalore</td>\n",
       "      <td>1</td>\n",
       "      <td>4</td>\n",
       "      <td>DA Warner</td>\n",
       "      <td>S Dhawan</td>\n",
       "      <td>TS Mills</td>\n",
       "      <td>0</td>\n",
       "      <td>...</td>\n",
       "      <td>0</td>\n",
       "      <td>0</td>\n",
       "      <td>0</td>\n",
       "      <td>0</td>\n",
       "      <td>0</td>\n",
       "      <td>0</td>\n",
       "      <td>0</td>\n",
       "      <td>NaN</td>\n",
       "      <td>NaN</td>\n",
       "      <td>NaN</td>\n",
       "    </tr>\n",
       "    <tr>\n",
       "      <th>4</th>\n",
       "      <td>1</td>\n",
       "      <td>1</td>\n",
       "      <td>Sunrisers Hyderabad</td>\n",
       "      <td>Royal Challengers Bangalore</td>\n",
       "      <td>1</td>\n",
       "      <td>5</td>\n",
       "      <td>DA Warner</td>\n",
       "      <td>S Dhawan</td>\n",
       "      <td>TS Mills</td>\n",
       "      <td>0</td>\n",
       "      <td>...</td>\n",
       "      <td>0</td>\n",
       "      <td>0</td>\n",
       "      <td>0</td>\n",
       "      <td>0</td>\n",
       "      <td>0</td>\n",
       "      <td>2</td>\n",
       "      <td>2</td>\n",
       "      <td>NaN</td>\n",
       "      <td>NaN</td>\n",
       "      <td>NaN</td>\n",
       "    </tr>\n",
       "    <tr>\n",
       "      <th>...</th>\n",
       "      <td>...</td>\n",
       "      <td>...</td>\n",
       "      <td>...</td>\n",
       "      <td>...</td>\n",
       "      <td>...</td>\n",
       "      <td>...</td>\n",
       "      <td>...</td>\n",
       "      <td>...</td>\n",
       "      <td>...</td>\n",
       "      <td>...</td>\n",
       "      <td>...</td>\n",
       "      <td>...</td>\n",
       "      <td>...</td>\n",
       "      <td>...</td>\n",
       "      <td>...</td>\n",
       "      <td>...</td>\n",
       "      <td>...</td>\n",
       "      <td>...</td>\n",
       "      <td>...</td>\n",
       "      <td>...</td>\n",
       "      <td>...</td>\n",
       "    </tr>\n",
       "    <tr>\n",
       "      <th>150455</th>\n",
       "      <td>636</td>\n",
       "      <td>2</td>\n",
       "      <td>Royal Challengers Bangalore</td>\n",
       "      <td>Sunrisers Hyderabad</td>\n",
       "      <td>20</td>\n",
       "      <td>2</td>\n",
       "      <td>Sachin Baby</td>\n",
       "      <td>CJ Jordan</td>\n",
       "      <td>B Kumar</td>\n",
       "      <td>0</td>\n",
       "      <td>...</td>\n",
       "      <td>0</td>\n",
       "      <td>0</td>\n",
       "      <td>0</td>\n",
       "      <td>0</td>\n",
       "      <td>2</td>\n",
       "      <td>0</td>\n",
       "      <td>2</td>\n",
       "      <td>NaN</td>\n",
       "      <td>NaN</td>\n",
       "      <td>NaN</td>\n",
       "    </tr>\n",
       "    <tr>\n",
       "      <th>150456</th>\n",
       "      <td>636</td>\n",
       "      <td>2</td>\n",
       "      <td>Royal Challengers Bangalore</td>\n",
       "      <td>Sunrisers Hyderabad</td>\n",
       "      <td>20</td>\n",
       "      <td>3</td>\n",
       "      <td>Sachin Baby</td>\n",
       "      <td>CJ Jordan</td>\n",
       "      <td>B Kumar</td>\n",
       "      <td>0</td>\n",
       "      <td>...</td>\n",
       "      <td>0</td>\n",
       "      <td>0</td>\n",
       "      <td>0</td>\n",
       "      <td>0</td>\n",
       "      <td>0</td>\n",
       "      <td>0</td>\n",
       "      <td>0</td>\n",
       "      <td>CJ Jordan</td>\n",
       "      <td>run out</td>\n",
       "      <td>NV Ojha</td>\n",
       "    </tr>\n",
       "    <tr>\n",
       "      <th>150457</th>\n",
       "      <td>636</td>\n",
       "      <td>2</td>\n",
       "      <td>Royal Challengers Bangalore</td>\n",
       "      <td>Sunrisers Hyderabad</td>\n",
       "      <td>20</td>\n",
       "      <td>4</td>\n",
       "      <td>Iqbal Abdulla</td>\n",
       "      <td>Sachin Baby</td>\n",
       "      <td>B Kumar</td>\n",
       "      <td>0</td>\n",
       "      <td>...</td>\n",
       "      <td>0</td>\n",
       "      <td>1</td>\n",
       "      <td>0</td>\n",
       "      <td>0</td>\n",
       "      <td>0</td>\n",
       "      <td>1</td>\n",
       "      <td>1</td>\n",
       "      <td>NaN</td>\n",
       "      <td>NaN</td>\n",
       "      <td>NaN</td>\n",
       "    </tr>\n",
       "    <tr>\n",
       "      <th>150458</th>\n",
       "      <td>636</td>\n",
       "      <td>2</td>\n",
       "      <td>Royal Challengers Bangalore</td>\n",
       "      <td>Sunrisers Hyderabad</td>\n",
       "      <td>20</td>\n",
       "      <td>5</td>\n",
       "      <td>Sachin Baby</td>\n",
       "      <td>Iqbal Abdulla</td>\n",
       "      <td>B Kumar</td>\n",
       "      <td>0</td>\n",
       "      <td>...</td>\n",
       "      <td>0</td>\n",
       "      <td>0</td>\n",
       "      <td>0</td>\n",
       "      <td>0</td>\n",
       "      <td>1</td>\n",
       "      <td>0</td>\n",
       "      <td>1</td>\n",
       "      <td>NaN</td>\n",
       "      <td>NaN</td>\n",
       "      <td>NaN</td>\n",
       "    </tr>\n",
       "    <tr>\n",
       "      <th>150459</th>\n",
       "      <td>636</td>\n",
       "      <td>2</td>\n",
       "      <td>Royal Challengers Bangalore</td>\n",
       "      <td>Sunrisers Hyderabad</td>\n",
       "      <td>20</td>\n",
       "      <td>6</td>\n",
       "      <td>Iqbal Abdulla</td>\n",
       "      <td>Sachin Baby</td>\n",
       "      <td>B Kumar</td>\n",
       "      <td>0</td>\n",
       "      <td>...</td>\n",
       "      <td>0</td>\n",
       "      <td>0</td>\n",
       "      <td>0</td>\n",
       "      <td>0</td>\n",
       "      <td>4</td>\n",
       "      <td>0</td>\n",
       "      <td>4</td>\n",
       "      <td>NaN</td>\n",
       "      <td>NaN</td>\n",
       "      <td>NaN</td>\n",
       "    </tr>\n",
       "  </tbody>\n",
       "</table>\n",
       "<p>150460 rows × 21 columns</p>\n",
       "</div>"
      ],
      "text/plain": [
       "        match_id  inning                 batting_team  \\\n",
       "0              1       1          Sunrisers Hyderabad   \n",
       "1              1       1          Sunrisers Hyderabad   \n",
       "2              1       1          Sunrisers Hyderabad   \n",
       "3              1       1          Sunrisers Hyderabad   \n",
       "4              1       1          Sunrisers Hyderabad   \n",
       "...          ...     ...                          ...   \n",
       "150455       636       2  Royal Challengers Bangalore   \n",
       "150456       636       2  Royal Challengers Bangalore   \n",
       "150457       636       2  Royal Challengers Bangalore   \n",
       "150458       636       2  Royal Challengers Bangalore   \n",
       "150459       636       2  Royal Challengers Bangalore   \n",
       "\n",
       "                       bowling_team  over  ball        batsman    non_striker  \\\n",
       "0       Royal Challengers Bangalore     1     1      DA Warner       S Dhawan   \n",
       "1       Royal Challengers Bangalore     1     2      DA Warner       S Dhawan   \n",
       "2       Royal Challengers Bangalore     1     3      DA Warner       S Dhawan   \n",
       "3       Royal Challengers Bangalore     1     4      DA Warner       S Dhawan   \n",
       "4       Royal Challengers Bangalore     1     5      DA Warner       S Dhawan   \n",
       "...                             ...   ...   ...            ...            ...   \n",
       "150455          Sunrisers Hyderabad    20     2    Sachin Baby      CJ Jordan   \n",
       "150456          Sunrisers Hyderabad    20     3    Sachin Baby      CJ Jordan   \n",
       "150457          Sunrisers Hyderabad    20     4  Iqbal Abdulla    Sachin Baby   \n",
       "150458          Sunrisers Hyderabad    20     5    Sachin Baby  Iqbal Abdulla   \n",
       "150459          Sunrisers Hyderabad    20     6  Iqbal Abdulla    Sachin Baby   \n",
       "\n",
       "          bowler  is_super_over  ...  bye_runs  legbye_runs  noball_runs  \\\n",
       "0       TS Mills              0  ...         0            0            0   \n",
       "1       TS Mills              0  ...         0            0            0   \n",
       "2       TS Mills              0  ...         0            0            0   \n",
       "3       TS Mills              0  ...         0            0            0   \n",
       "4       TS Mills              0  ...         0            0            0   \n",
       "...          ...            ...  ...       ...          ...          ...   \n",
       "150455   B Kumar              0  ...         0            0            0   \n",
       "150456   B Kumar              0  ...         0            0            0   \n",
       "150457   B Kumar              0  ...         0            1            0   \n",
       "150458   B Kumar              0  ...         0            0            0   \n",
       "150459   B Kumar              0  ...         0            0            0   \n",
       "\n",
       "        penalty_runs  batsman_runs  extra_runs  total_runs  player_dismissed  \\\n",
       "0                  0             0           0           0               NaN   \n",
       "1                  0             0           0           0               NaN   \n",
       "2                  0             4           0           4               NaN   \n",
       "3                  0             0           0           0               NaN   \n",
       "4                  0             0           2           2               NaN   \n",
       "...              ...           ...         ...         ...               ...   \n",
       "150455             0             2           0           2               NaN   \n",
       "150456             0             0           0           0         CJ Jordan   \n",
       "150457             0             0           1           1               NaN   \n",
       "150458             0             1           0           1               NaN   \n",
       "150459             0             4           0           4               NaN   \n",
       "\n",
       "       dismissal_kind  fielder  \n",
       "0                 NaN      NaN  \n",
       "1                 NaN      NaN  \n",
       "2                 NaN      NaN  \n",
       "3                 NaN      NaN  \n",
       "4                 NaN      NaN  \n",
       "...               ...      ...  \n",
       "150455            NaN      NaN  \n",
       "150456        run out  NV Ojha  \n",
       "150457            NaN      NaN  \n",
       "150458            NaN      NaN  \n",
       "150459            NaN      NaN  \n",
       "\n",
       "[150460 rows x 21 columns]"
      ]
     },
     "execution_count": 2,
     "metadata": {},
     "output_type": "execute_result"
    }
   ],
   "source": [
    "delivery = pd.read_csv('deliveries.csv')\n",
    "delivery"
   ]
  },
  {
   "cell_type": "code",
   "execution_count": 7,
   "id": "3d22c3b1",
   "metadata": {},
   "outputs": [],
   "source": [
    "#All batsmen who have palyed in IPL\n",
    "runs = delivery.groupby('batsman').sum()['batsman_runs']"
   ]
  },
  {
   "cell_type": "code",
   "execution_count": 4,
   "id": "9263fc79",
   "metadata": {},
   "outputs": [
    {
     "data": {
      "text/plain": [
       "batsman\n",
       "A Ashish Reddy     280\n",
       "A Chandila           4\n",
       "A Chopra            53\n",
       "A Choudhary         25\n",
       "A Flintoff          62\n",
       "                  ... \n",
       "YV Takawale        192\n",
       "Yashpal Singh       47\n",
       "Younis Khan          3\n",
       "Yuvraj Singh      2591\n",
       "Z Khan             117\n",
       "Name: batsman_runs, Length: 461, dtype: int64"
      ]
     },
     "execution_count": 4,
     "metadata": {},
     "output_type": "execute_result"
    }
   ],
   "source": [
    "runs"
   ]
  },
  {
   "cell_type": "code",
   "execution_count": 5,
   "id": "0a1ca999",
   "metadata": {},
   "outputs": [],
   "source": [
    "runs = runs.values"
   ]
  },
  {
   "cell_type": "code",
   "execution_count": 6,
   "id": "e09c7e27",
   "metadata": {},
   "outputs": [
    {
     "name": "stderr",
     "output_type": "stream",
     "text": [
      "C:\\Users\\hd\\anaconda3\\lib\\site-packages\\seaborn\\distributions.py:2619: FutureWarning: `distplot` is a deprecated function and will be removed in a future version. Please adapt your code to use either `displot` (a figure-level function with similar flexibility) or `histplot` (an axes-level function for histograms).\n",
      "  warnings.warn(msg, FutureWarning)\n"
     ]
    },
    {
     "data": {
      "text/plain": [
       "<AxesSubplot:ylabel='Density'>"
      ]
     },
     "execution_count": 6,
     "metadata": {},
     "output_type": "execute_result"
    },
    {
     "data": {
      "image/png": "[encoded data removed]",
      "text/plain": [
       "<Figure size 432x288 with 1 Axes>"
      ]
     },
     "metadata": {
      "needs_background": "light"
     },
     "output_type": "display_data"
    }
   ],
   "source": [
    "sns.distplot(runs)"
   ]
  },
  {
   "cell_type": "code",
   "execution_count": 8,
   "id": "8c202cb7",
   "metadata": {},
   "outputs": [],
   "source": [
    "# n=50, batsmen taken per sample\n",
    "# m=1000, number of times sampling done"
   ]
  },
  {
   "cell_type": "code",
   "execution_count": 9,
   "id": "3e1e2b45",
   "metadata": {},
   "outputs": [
    {
     "data": {
      "text/plain": [
       "array([ 32,  15, 137, 187, 798], dtype=int64)"
      ]
     },
     "execution_count": 9,
     "metadata": {},
     "output_type": "execute_result"
    }
   ],
   "source": [
    "np.random.choice(runs, size=5)"
   ]
  },
  {
   "cell_type": "code",
   "execution_count": 10,
   "id": "635bb88e",
   "metadata": {},
   "outputs": [],
   "source": [
    "m=1000\n",
    "n=50\n",
    "\n",
    "new=[]\n",
    "\n",
    "for i in range(m):\n",
    "    x=np.random.choice(runs, size=n)\n",
    "    new.append(x.mean())"
   ]
  },
  {
   "cell_type": "code",
   "execution_count": 13,
   "id": "ca6a9aa4",
   "metadata": {},
   "outputs": [
    {
     "data": {
      "text/plain": [
       "1000"
      ]
     },
     "execution_count": 13,
     "metadata": {},
     "output_type": "execute_result"
    }
   ],
   "source": [
    "len(new)"
   ]
  },
  {
   "cell_type": "code",
   "execution_count": 14,
   "id": "3960d1e8",
   "metadata": {},
   "outputs": [],
   "source": [
    "new = np.array(new)"
   ]
  },
  {
   "cell_type": "code",
   "execution_count": 15,
   "id": "bc3efd6c",
   "metadata": {},
   "outputs": [
    {
     "data": {
      "text/plain": [
       "array([626.9 , 603.06, 417.  , 432.34, 395.26, 192.78, 572.08, 349.82,\n",
       "       366.62, 435.58, 393.86, 360.62, 558.9 , 346.06, 420.38, 304.1 ,\n",
       "       348.3 , 309.74, 252.56, 417.64, 424.9 , 438.14, 360.86, 470.1 ,\n",
       "       378.86, 286.28, 497.14, 426.88, 370.14, 479.96, 294.84, 418.14,\n",
       "       282.4 , 272.32, 485.46, 315.26, 385.66, 441.2 , 549.56, 507.6 ,\n",
       "       381.18, 313.5 , 263.08, 406.58, 335.12, 336.26, 357.18, 305.72,\n",
       "       353.18, 319.32, 351.68, 356.16, 453.46, 444.92, 447.74, 772.54,\n",
       "       614.92, 334.1 , 637.96, 507.98, 399.88, 241.24, 332.46, 508.1 ,\n",
       "       391.2 , 458.94, 424.58, 276.58, 599.76, 385.  , 409.  , 363.74,\n",
       "       431.78, 308.44, 280.98, 206.92, 472.8 , 371.22, 262.82, 518.26,\n",
       "       250.06, 419.82, 478.62, 371.48, 397.06, 421.68, 392.16, 502.8 ,\n",
       "       483.9 , 161.14, 482.64, 713.62, 344.88, 743.22, 522.26, 495.04,\n",
       "       443.8 , 316.76, 442.04, 402.62, 422.22, 489.92, 422.42, 311.6 ,\n",
       "       372.82, 370.88, 455.54, 407.18, 640.3 , 354.96, 320.12, 394.46,\n",
       "       486.96, 426.12, 368.18, 408.56, 510.  , 260.44, 337.36, 192.58,\n",
       "       626.9 , 438.84, 457.82, 564.68, 360.42, 552.56, 305.26, 432.22,\n",
       "       213.  , 491.18, 382.88, 513.3 , 354.62, 476.62, 327.52, 343.96,\n",
       "       318.46, 531.9 , 446.2 , 365.08, 459.78, 269.56, 498.8 , 332.62,\n",
       "       305.36, 317.34, 532.26, 287.  , 578.32, 417.98, 455.22, 292.66,\n",
       "       343.92, 430.1 , 558.96, 329.94, 503.2 , 440.44, 404.58, 557.02,\n",
       "       285.9 , 287.78, 363.58, 385.  , 454.9 , 501.72, 165.62, 280.38,\n",
       "       375.7 , 471.24, 446.64, 422.02, 358.04, 382.34, 575.46, 590.94,\n",
       "       368.44, 476.28, 401.62, 449.74, 313.1 , 355.68, 416.68, 185.94,\n",
       "       146.08, 404.62, 236.44, 250.7 , 340.9 , 201.36, 353.22, 354.  ,\n",
       "       466.3 , 396.54, 367.66, 600.42, 216.6 , 222.78, 293.08, 406.02,\n",
       "       779.46, 574.26, 414.2 , 297.6 , 304.76, 212.12, 320.58, 457.88,\n",
       "       484.54, 511.92, 372.24, 454.24, 341.22, 533.94, 391.42, 563.62,\n",
       "       317.72, 388.84, 286.02, 356.02, 396.88, 206.58, 229.38, 414.4 ,\n",
       "       345.7 , 505.74, 270.1 , 427.38, 245.78, 259.7 , 434.9 , 415.64,\n",
       "       293.98, 359.18, 456.36, 504.52, 309.46, 357.58, 307.42, 371.84,\n",
       "       430.24, 216.78, 507.66, 292.52, 350.98, 449.18, 437.28, 256.92,\n",
       "       220.98, 426.84, 328.34, 422.26, 311.48, 512.28, 353.96, 368.16,\n",
       "       422.94, 468.38, 321.24, 355.14, 382.04, 496.28, 220.68, 602.42,\n",
       "       379.98, 203.5 , 385.18, 561.52, 247.2 , 293.24, 361.64, 446.04,\n",
       "       459.26, 310.7 , 236.48, 439.42, 485.46, 240.5 , 490.9 , 375.78,\n",
       "       580.3 , 245.9 , 280.4 , 433.34, 465.84, 649.04, 454.6 , 253.38,\n",
       "       445.  , 264.58, 455.6 , 463.9 , 475.48, 526.4 , 344.98, 205.42,\n",
       "       492.86, 369.78, 316.54, 440.6 , 334.06, 524.68, 523.32, 266.92,\n",
       "       497.94, 331.08, 339.7 , 379.62, 392.94, 507.72, 508.24, 481.84,\n",
       "       420.36, 389.14, 395.44, 499.54, 221.88, 438.22, 333.54, 456.82,\n",
       "       486.88, 410.36, 369.54, 396.1 , 258.62, 231.96, 359.84, 368.58,\n",
       "       395.32, 382.22, 460.7 , 438.52, 327.06, 401.62, 425.7 , 369.74,\n",
       "       284.98, 300.68, 201.24, 472.74, 243.28, 332.1 , 583.24, 419.94,\n",
       "       416.74, 315.04, 180.7 , 478.88, 548.22, 631.24, 468.4 , 379.12,\n",
       "       433.62, 332.5 , 389.26, 435.6 , 485.  , 461.2 , 487.58, 287.44,\n",
       "       428.58, 405.  , 353.  , 545.2 , 393.54, 419.46, 529.92, 485.  ,\n",
       "       456.42, 483.36, 562.96, 263.8 , 328.74, 193.24, 280.06, 326.8 ,\n",
       "       518.54, 368.46, 408.92, 277.42, 290.7 , 374.26, 474.18, 209.2 ,\n",
       "       394.28, 488.64, 285.74, 347.12, 417.54, 367.2 , 430.96, 207.98,\n",
       "       421.92, 159.42, 489.06, 447.52, 673.52, 398.1 , 472.48, 420.  ,\n",
       "       410.66, 495.84, 310.92, 406.64, 476.14, 279.24, 272.18, 537.46,\n",
       "       441.1 , 288.58, 506.7 , 544.26, 311.9 , 567.98, 348.7 , 196.84,\n",
       "       344.26, 382.86, 419.2 , 289.6 , 268.76, 285.78, 376.58, 348.68,\n",
       "       432.64, 388.78, 308.  , 494.18, 617.36, 340.44, 425.36, 220.94,\n",
       "       293.52, 324.96, 452.92, 462.76, 561.4 , 481.66, 659.7 , 374.54,\n",
       "       308.66, 375.96, 367.6 , 327.62, 175.6 , 426.08, 435.46, 558.34,\n",
       "       425.28, 347.58, 468.14, 218.48, 414.2 , 290.02, 312.38, 560.82,\n",
       "       492.14, 416.02, 262.96, 536.46, 349.18, 340.14, 488.68, 350.88,\n",
       "       424.72, 465.58, 574.66, 230.06, 369.74, 451.22, 409.16, 354.56,\n",
       "       337.38, 617.62, 347.62, 482.64, 494.72, 370.16, 375.32, 436.8 ,\n",
       "       199.88, 367.04, 529.08, 475.76, 284.94, 387.7 , 210.76, 181.02,\n",
       "       476.92, 515.06, 367.98, 399.26, 369.32, 437.66, 447.32, 321.06,\n",
       "       253.52, 294.46, 362.74, 475.76, 488.06, 361.9 , 506.36, 379.92,\n",
       "       496.16, 212.28, 342.38, 242.04, 356.12, 448.34, 301.78, 514.48,\n",
       "       382.84, 385.22, 507.58, 440.86, 455.86, 607.1 , 470.02, 528.24,\n",
       "       262.76, 291.36, 359.18, 325.68, 533.86, 490.7 , 302.52, 461.3 ,\n",
       "       570.6 , 468.2 , 571.56, 376.82, 308.34, 446.9 , 291.14, 268.74,\n",
       "       365.54, 457.56, 158.96, 279.26, 485.24, 388.96, 517.22, 283.28,\n",
       "       281.24, 377.12, 106.9 , 299.98, 482.18, 326.72, 425.72, 483.72,\n",
       "       474.16, 235.42, 295.52, 314.66, 310.16, 687.8 , 423.44, 466.14,\n",
       "       302.2 , 377.36, 409.24, 300.12, 295.76, 397.14, 476.18, 408.3 ,\n",
       "       395.96, 446.22, 309.32, 247.92, 345.42, 464.36, 374.76, 458.62,\n",
       "       322.64, 432.02, 373.7 , 599.5 , 500.76, 359.96, 385.5 , 308.42,\n",
       "       318.52, 271.86, 294.76, 572.3 , 406.86, 441.88, 375.44, 312.06,\n",
       "       307.26, 310.1 , 420.28, 574.42, 503.02, 400.76, 182.  , 526.3 ,\n",
       "       281.7 , 292.6 , 429.3 , 434.4 , 551.28, 267.34, 178.98, 356.9 ,\n",
       "       289.66, 354.34, 307.9 , 352.94, 208.88, 387.62, 348.42, 576.64,\n",
       "       523.4 , 458.82, 388.74, 502.44, 390.2 , 367.14, 465.36, 346.94,\n",
       "       496.9 , 288.54, 388.54, 557.84, 483.4 , 396.16, 317.24, 547.64,\n",
       "       284.2 , 209.18, 497.6 , 283.14, 485.64, 557.22, 403.  , 543.9 ,\n",
       "       422.04, 390.02, 486.92, 366.08, 321.22, 427.32, 212.54, 531.54,\n",
       "       251.14, 181.76, 471.76, 460.78, 429.84, 433.68, 471.78, 431.76,\n",
       "       448.42, 380.18, 560.44, 486.24, 404.1 , 461.42, 448.68, 281.2 ,\n",
       "       233.28, 335.08, 396.82, 397.84, 374.52, 338.34, 440.36, 503.06,\n",
       "       559.4 , 318.8 , 434.06, 340.22, 361.3 , 518.36, 483.38, 630.78,\n",
       "       499.  , 472.32, 228.34, 283.9 , 374.74, 321.08, 378.46, 502.62,\n",
       "       478.34, 252.26, 449.1 , 321.06, 548.54, 480.88, 309.66, 432.74,\n",
       "       333.7 , 430.86, 428.36, 497.04, 904.42, 496.42, 326.9 , 452.38,\n",
       "       456.7 , 329.96, 478.7 , 545.16, 343.8 , 333.6 , 210.5 , 429.2 ,\n",
       "       394.98, 456.96, 706.48, 319.78, 464.44, 361.66, 441.78, 569.5 ,\n",
       "       441.52, 331.42, 361.3 , 329.04, 327.64, 263.66, 371.14, 409.96,\n",
       "       383.3 , 324.36, 392.4 , 278.78, 389.68, 461.84, 312.38, 471.08,\n",
       "       231.48, 568.86, 274.06, 417.82, 612.2 , 652.32, 526.38, 286.78,\n",
       "       318.26, 367.92, 488.74, 412.86, 449.54, 313.98, 297.64, 381.3 ,\n",
       "       363.04, 420.78, 362.16, 453.18, 384.38, 362.22, 147.46, 178.12,\n",
       "       610.5 , 246.64, 497.18, 314.34, 349.66, 506.38, 402.58, 384.9 ,\n",
       "       238.36, 575.72, 438.9 , 607.16, 459.26, 309.1 , 488.38, 402.48,\n",
       "       329.1 , 426.4 , 478.72, 393.74, 631.92, 396.98, 369.62, 305.12,\n",
       "       358.8 , 399.64, 732.3 , 386.54, 444.96, 542.96, 559.94, 374.62,\n",
       "       302.3 , 451.38, 411.58, 318.84, 281.86, 470.88, 149.12, 495.9 ,\n",
       "       425.38, 280.14, 346.5 , 145.14, 551.72, 325.86, 331.  , 419.94,\n",
       "       382.38, 397.9 , 377.84, 684.28, 297.9 , 297.9 , 558.96, 422.92,\n",
       "       649.9 , 255.38, 382.04, 419.56, 653.92, 554.02, 240.02, 293.94,\n",
       "       346.32, 498.5 , 224.92, 475.34, 301.42, 628.46, 313.1 , 402.9 ,\n",
       "       329.84, 359.56, 331.32, 316.56, 344.78, 528.54, 422.44, 408.38,\n",
       "       325.6 , 220.74, 505.18, 354.78, 587.84, 425.02, 520.36, 334.54,\n",
       "       439.02, 596.3 , 436.82, 349.36, 234.78, 342.4 , 280.26, 261.84,\n",
       "       558.78, 264.7 , 301.32, 387.22, 427.46, 452.5 , 321.18, 511.06,\n",
       "       598.64, 370.72, 486.9 , 348.14, 539.9 , 259.54, 336.8 , 549.94,\n",
       "       368.58, 461.98, 320.6 , 444.7 , 473.3 , 248.38, 417.74, 185.5 ,\n",
       "       370.32, 444.22, 322.34, 354.04, 296.18, 321.22, 625.72, 354.24,\n",
       "       310.26, 614.52, 539.92, 757.44, 324.7 , 242.14, 514.1 , 406.92,\n",
       "       385.4 , 265.78, 433.02, 359.7 , 438.32, 391.38, 637.22, 248.72,\n",
       "       530.3 , 449.64, 431.94, 547.86, 294.88, 245.26, 365.88, 374.22,\n",
       "       362.44, 319.56, 284.56, 294.7 , 376.94, 331.86, 445.66, 203.82,\n",
       "       297.28, 443.82, 268.92, 413.8 , 390.5 , 559.18, 310.16, 383.54,\n",
       "       508.24, 310.58, 467.52, 307.94, 169.12, 489.22, 578.7 , 488.58,\n",
       "       576.04, 639.62, 324.04, 355.16, 396.94, 582.52, 283.86, 423.  ,\n",
       "       361.34, 473.98, 253.66, 317.88, 502.54, 353.3 , 589.6 , 496.6 ,\n",
       "       420.  , 300.7 , 429.02, 294.46, 294.44, 314.92, 553.86, 418.1 ,\n",
       "       253.48, 493.28, 416.06, 302.02, 427.9 , 350.22, 500.78, 435.72,\n",
       "       385.3 , 347.88, 384.98, 461.92, 452.14, 371.14, 268.04, 308.28,\n",
       "       308.56, 587.52, 285.12, 336.08, 349.02, 417.36, 119.28, 475.12,\n",
       "       270.8 , 424.86, 345.26, 470.56, 335.26, 313.14, 314.26, 575.68,\n",
       "       265.04, 432.76, 339.42, 432.8 , 386.8 , 272.62, 574.26, 583.22])"
      ]
     },
     "execution_count": 15,
     "metadata": {},
     "output_type": "execute_result"
    }
   ],
   "source": [
    "new"
   ]
  },
  {
   "cell_type": "code",
   "execution_count": 20,
   "id": "9d9c41ee",
   "metadata": {},
   "outputs": [
    {
     "name": "stderr",
     "output_type": "stream",
     "text": [
      "C:\\Users\\hd\\anaconda3\\lib\\site-packages\\seaborn\\distributions.py:2619: FutureWarning: `distplot` is a deprecated function and will be removed in a future version. Please adapt your code to use either `displot` (a figure-level function with similar flexibility) or `histplot` (an axes-level function for histograms).\n",
      "  warnings.warn(msg, FutureWarning)\n"
     ]
    },
    {
     "data": {
      "text/plain": [
       "<AxesSubplot:ylabel='Density'>"
      ]
     },
     "execution_count": 20,
     "metadata": {},
     "output_type": "execute_result"
    },
    {
     "data": {
      "image/png": "[encoded data removed]",
      "text/plain": [
       "<Figure size 432x288 with 1 Axes>"
      ]
     },
     "metadata": {
      "needs_background": "light"
     },
     "output_type": "display_data"
    }
   ],
   "source": [
    "sns.distplot(new)"
   ]
  },
  {
   "cell_type": "code",
   "execution_count": 21,
   "id": "bb2ad7bb",
   "metadata": {},
   "outputs": [
    {
     "data": {
      "text/plain": [
       "398.9783080260304"
      ]
     },
     "execution_count": 21,
     "metadata": {},
     "output_type": "execute_result"
    }
   ],
   "source": [
    "runs.mean()"
   ]
  },
  {
   "cell_type": "code",
   "execution_count": 22,
   "id": "db79b4f4",
   "metadata": {},
   "outputs": [
    {
     "data": {
      "text/plain": [
       "397.70042"
      ]
     },
     "execution_count": 22,
     "metadata": {},
     "output_type": "execute_result"
    }
   ],
   "source": [
    "new.mean()"
   ]
  },
  {
   "cell_type": "code",
   "execution_count": 23,
   "id": "ac0bb2c7",
   "metadata": {},
   "outputs": [
    {
     "data": {
      "text/plain": [
       "12338.425381873067"
      ]
     },
     "execution_count": 23,
     "metadata": {},
     "output_type": "execute_result"
    }
   ],
   "source": [
    "runs.var()/50"
   ]
  },
  {
   "cell_type": "code",
   "execution_count": 25,
   "id": "2032deb8",
   "metadata": {},
   "outputs": [
    {
     "data": {
      "text/plain": [
       "11926.7697946236"
      ]
     },
     "execution_count": 25,
     "metadata": {},
     "output_type": "execute_result"
    }
   ],
   "source": [
    "new.var()"
   ]
  },
  {
   "cell_type": "code",
   "execution_count": 28,
   "id": "8c92350d",
   "metadata": {},
   "outputs": [
    {
     "data": {
      "text/plain": [
       "109.08935531909707"
      ]
     },
     "execution_count": 28,
     "metadata": {},
     "output_type": "execute_result"
    }
   ],
   "source": [
    "runs.std()/7.2"
   ]
  },
  {
   "cell_type": "code",
   "execution_count": 26,
   "id": "0189f66b",
   "metadata": {},
   "outputs": [
    {
     "data": {
      "text/plain": [
       "109.20975137149429"
      ]
     },
     "execution_count": 26,
     "metadata": {},
     "output_type": "execute_result"
    }
   ],
   "source": [
    "new.std()"
   ]
  }
 ],
 "metadata": {
  "kernelspec": {
   "display_name": "Python 3 (ipykernel)",
   "language": "python",
   "name": "python3"
  },
  "language_info": {
   "codemirror_mode": {
    "name": "ipython",
    "version": 3
   },
   "file_extension": ".py",
   "mimetype": "text/x-python",
   "name": "python",
   "nbconvert_exporter": "python",
   "pygments_lexer": "ipython3",
   "version": "3.9.7"
  }
 },
 "nbformat": 4,
 "nbformat_minor": 5
}
