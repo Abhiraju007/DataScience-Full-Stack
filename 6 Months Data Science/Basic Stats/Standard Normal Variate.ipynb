{
 "cells": [
  {
   "cell_type": "markdown",
   "id": "1e7a65e4",
   "metadata": {},
   "source": [
    "   #  1. Standardization"
   ]
  },
  {
   "cell_type": "code",
   "execution_count": 8,
   "id": "58316758",
   "metadata": {},
   "outputs": [],
   "source": [
    "import numpy as np\n",
    "import pandas as pd\n",
    "import seaborn as sns"
   ]
  },
  {
   "cell_type": "code",
   "execution_count": 9,
   "id": "5de80f02",
   "metadata": {},
   "outputs": [
    {
     "name": "stderr",
     "output_type": "stream",
     "text": [
      "C:\\Users\\hd\\anaconda3\\lib\\site-packages\\seaborn\\distributions.py:2619: FutureWarning: `distplot` is a deprecated function and will be removed in a future version. Please adapt your code to use either `displot` (a figure-level function with similar flexibility) or `histplot` (an axes-level function for histograms).\n",
      "  warnings.warn(msg, FutureWarning)\n"
     ]
    },
    {
     "data": {
      "text/plain": [
       "<AxesSubplot:ylabel='Density'>"
      ]
     },
     "execution_count": 9,
     "metadata": {},
     "output_type": "execute_result"
    },
    {
     "data": {
      "image/png": "[encoded data removed]",
      "text/plain": [
       "<Figure size 432x288 with 1 Axes>"
      ]
     },
     "metadata": {
      "needs_background": "light"
     },
     "output_type": "display_data"
    }
   ],
   "source": [
    "from scipy.stats import norm\n",
    "import matplotlib.pyplot as plt\n",
    "#General 1000 normal random integers with specified mean and std\n",
    "\n",
    "draw = norm.ppf(np.random.random(100000), loc=1000, scale=200).astype(int)\n",
    "sns.distplot(draw)"
   ]
  },
  {
   "cell_type": "code",
   "execution_count": 10,
   "id": "08de0e99",
   "metadata": {},
   "outputs": [],
   "source": [
    "z = []\n",
    "for i in draw:\n",
    "    z.append(i-1000/200)"
   ]
  },
  {
   "cell_type": "code",
   "execution_count": 11,
   "id": "bf8e2953",
   "metadata": {},
   "outputs": [],
   "source": [
    "a = np.array(z)"
   ]
  },
  {
   "cell_type": "code",
   "execution_count": 13,
   "id": "b1605476",
   "metadata": {},
   "outputs": [
    {
     "name": "stdout",
     "output_type": "stream",
     "text": [
      "995.28794\n",
      "995.0\n"
     ]
    }
   ],
   "source": [
    "print(a.mean())\n",
    "print(np.round(a.mean()))"
   ]
  },
  {
   "cell_type": "code",
   "execution_count": 15,
   "id": "3b0a29ec",
   "metadata": {},
   "outputs": [
    {
     "name": "stdout",
     "output_type": "stream",
     "text": [
      "199.52604464218803\n",
      "200.0\n"
     ]
    }
   ],
   "source": [
    "print(a.std())\n",
    "print(np.round(a.std()))"
   ]
  },
  {
   "cell_type": "markdown",
   "id": "ecea4eee",
   "metadata": {},
   "source": [
    "# 2. Calculating Z- Score"
   ]
  },
  {
   "cell_type": "markdown",
   "id": "1f805a52",
   "metadata": {},
   "source": [
    "- Problem1: Imagine a group of 300 students took a test: Rohit scored 700 out of 1000. The average score was 500 and the standard deviation was 120. Assuming that the test scores followed normal distribution find out how well Rohit performed in \n",
    "comparision to his peers"
   ]
  },
  {
   "cell_type": "code",
   "execution_count": 17,
   "id": "64d4357c",
   "metadata": {},
   "outputs": [
    {
     "name": "stdout",
     "output_type": "stream",
     "text": [
      "1.6666666666666667\n"
     ]
    }
   ],
   "source": [
    "# Step 1 - Calculate the Z Score\n",
    "\n",
    "# Formaulae for Z-Score\n",
    "#z = x-mean/standard Deviation\n",
    "\n",
    "z = (700 - 500)/120\n",
    "print(z)"
   ]
  },
  {
   "cell_type": "code",
   "execution_count": 19,
   "id": "ff459219",
   "metadata": {},
   "outputs": [],
   "source": [
    "# Step 2- Lookup the Z Table\n",
    "\n",
    "a = 0.9515"
   ]
  },
  {
   "cell_type": "code",
   "execution_count": 20,
   "id": "deef1e76",
   "metadata": {},
   "outputs": [
    {
     "data": {
      "text/plain": [
       "95.15"
      ]
     },
     "execution_count": 20,
     "metadata": {},
     "output_type": "execute_result"
    }
   ],
   "source": [
    "# Step3 - Multiply by 100\n",
    "a*100"
   ]
  },
  {
   "cell_type": "code",
   "execution_count": null,
   "id": "5719615f",
   "metadata": {},
   "outputs": [],
   "source": [
    "# Rohit performed better than 95% of his peers"
   ]
  },
  {
   "cell_type": "code",
   "execution_count": null,
   "id": "3e87d52c",
   "metadata": {},
   "outputs": [],
   "source": []
  },
  {
   "cell_type": "code",
   "execution_count": null,
   "id": "68c3123c",
   "metadata": {},
   "outputs": [],
   "source": []
  }
 ],
 "metadata": {
  "kernelspec": {
   "display_name": "Python 3 (ipykernel)",
   "language": "python",
   "name": "python3"
  },
  "language_info": {
   "codemirror_mode": {
    "name": "ipython",
    "version": 3
   },
   "file_extension": ".py",
   "mimetype": "text/x-python",
   "name": "python",
   "nbconvert_exporter": "python",
   "pygments_lexer": "ipython3",
   "version": "3.9.7"
  }
 },
 "nbformat": 4,
 "nbformat_minor": 5
}
