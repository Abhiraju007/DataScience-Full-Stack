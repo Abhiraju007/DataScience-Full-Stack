{
 "cells": [
  {
   "cell_type": "code",
   "execution_count": 1,
   "id": "e040dd79",
   "metadata": {},
   "outputs": [],
   "source": [
    "import pandas as pd\n",
    "import numpy as np\n",
    "import matplotlib.pyplot as plt\n",
    "import seaborn as sns"
   ]
  },
  {
   "cell_type": "code",
   "execution_count": 2,
   "id": "4ae15ff0",
   "metadata": {},
   "outputs": [
    {
     "data": {
      "text/html": [
       "<div>\n",
       "<style scoped>\n",
       "    .dataframe tbody tr th:only-of-type {\n",
       "        vertical-align: middle;\n",
       "    }\n",
       "\n",
       "    .dataframe tbody tr th {\n",
       "        vertical-align: top;\n",
       "    }\n",
       "\n",
       "    .dataframe thead th {\n",
       "        text-align: right;\n",
       "    }\n",
       "</style>\n",
       "<table border=\"1\" class=\"dataframe\">\n",
       "  <thead>\n",
       "    <tr style=\"text-align: right;\">\n",
       "      <th></th>\n",
       "      <th>sepal_length</th>\n",
       "      <th>sepal_width</th>\n",
       "      <th>petal_length</th>\n",
       "      <th>petal_width</th>\n",
       "      <th>species</th>\n",
       "    </tr>\n",
       "  </thead>\n",
       "  <tbody>\n",
       "    <tr>\n",
       "      <th>0</th>\n",
       "      <td>5.1</td>\n",
       "      <td>3.5</td>\n",
       "      <td>1.4</td>\n",
       "      <td>0.2</td>\n",
       "      <td>setosa</td>\n",
       "    </tr>\n",
       "    <tr>\n",
       "      <th>1</th>\n",
       "      <td>4.9</td>\n",
       "      <td>3.0</td>\n",
       "      <td>1.4</td>\n",
       "      <td>0.2</td>\n",
       "      <td>setosa</td>\n",
       "    </tr>\n",
       "    <tr>\n",
       "      <th>2</th>\n",
       "      <td>4.7</td>\n",
       "      <td>3.2</td>\n",
       "      <td>1.3</td>\n",
       "      <td>0.2</td>\n",
       "      <td>setosa</td>\n",
       "    </tr>\n",
       "    <tr>\n",
       "      <th>3</th>\n",
       "      <td>4.6</td>\n",
       "      <td>3.1</td>\n",
       "      <td>1.5</td>\n",
       "      <td>0.2</td>\n",
       "      <td>setosa</td>\n",
       "    </tr>\n",
       "    <tr>\n",
       "      <th>4</th>\n",
       "      <td>5.0</td>\n",
       "      <td>3.6</td>\n",
       "      <td>1.4</td>\n",
       "      <td>0.2</td>\n",
       "      <td>setosa</td>\n",
       "    </tr>\n",
       "  </tbody>\n",
       "</table>\n",
       "</div>"
      ],
      "text/plain": [
       "   sepal_length  sepal_width  petal_length  petal_width species\n",
       "0           5.1          3.5           1.4          0.2  setosa\n",
       "1           4.9          3.0           1.4          0.2  setosa\n",
       "2           4.7          3.2           1.3          0.2  setosa\n",
       "3           4.6          3.1           1.5          0.2  setosa\n",
       "4           5.0          3.6           1.4          0.2  setosa"
      ]
     },
     "execution_count": 2,
     "metadata": {},
     "output_type": "execute_result"
    }
   ],
   "source": [
    "data = pd.read_csv('iris.csv')\n",
    "data.head()"
   ]
  },
  {
   "cell_type": "code",
   "execution_count": 9,
   "id": "f6d51f57",
   "metadata": {},
   "outputs": [],
   "source": [
    "data.rename(columns={'sepal_length':'SL','sepal_width':'SW','petal_length':'PL', 'petal_width':'PW'}, inplace = True)"
   ]
  },
  {
   "cell_type": "code",
   "execution_count": 10,
   "id": "1cab6e87",
   "metadata": {},
   "outputs": [],
   "source": [
    "iris_setosa=data[data['species']=='setosa']\n",
    "iris_versicolor=data[data['species']=='versicolor']\n",
    "iris_virginica=data[data['species']=='virginica']"
   ]
  },
  {
   "cell_type": "code",
   "execution_count": 11,
   "id": "057dcadc",
   "metadata": {},
   "outputs": [
    {
     "data": {
      "text/html": [
       "<div>\n",
       "<style scoped>\n",
       "    .dataframe tbody tr th:only-of-type {\n",
       "        vertical-align: middle;\n",
       "    }\n",
       "\n",
       "    .dataframe tbody tr th {\n",
       "        vertical-align: top;\n",
       "    }\n",
       "\n",
       "    .dataframe thead th {\n",
       "        text-align: right;\n",
       "    }\n",
       "</style>\n",
       "<table border=\"1\" class=\"dataframe\">\n",
       "  <thead>\n",
       "    <tr style=\"text-align: right;\">\n",
       "      <th></th>\n",
       "      <th>SL</th>\n",
       "      <th>SW</th>\n",
       "      <th>PL</th>\n",
       "      <th>PW</th>\n",
       "      <th>species</th>\n",
       "    </tr>\n",
       "  </thead>\n",
       "  <tbody>\n",
       "    <tr>\n",
       "      <th>0</th>\n",
       "      <td>5.1</td>\n",
       "      <td>3.5</td>\n",
       "      <td>1.4</td>\n",
       "      <td>0.2</td>\n",
       "      <td>setosa</td>\n",
       "    </tr>\n",
       "    <tr>\n",
       "      <th>1</th>\n",
       "      <td>4.9</td>\n",
       "      <td>3.0</td>\n",
       "      <td>1.4</td>\n",
       "      <td>0.2</td>\n",
       "      <td>setosa</td>\n",
       "    </tr>\n",
       "    <tr>\n",
       "      <th>2</th>\n",
       "      <td>4.7</td>\n",
       "      <td>3.2</td>\n",
       "      <td>1.3</td>\n",
       "      <td>0.2</td>\n",
       "      <td>setosa</td>\n",
       "    </tr>\n",
       "    <tr>\n",
       "      <th>3</th>\n",
       "      <td>4.6</td>\n",
       "      <td>3.1</td>\n",
       "      <td>1.5</td>\n",
       "      <td>0.2</td>\n",
       "      <td>setosa</td>\n",
       "    </tr>\n",
       "    <tr>\n",
       "      <th>4</th>\n",
       "      <td>5.0</td>\n",
       "      <td>3.6</td>\n",
       "      <td>1.4</td>\n",
       "      <td>0.2</td>\n",
       "      <td>setosa</td>\n",
       "    </tr>\n",
       "    <tr>\n",
       "      <th>...</th>\n",
       "      <td>...</td>\n",
       "      <td>...</td>\n",
       "      <td>...</td>\n",
       "      <td>...</td>\n",
       "      <td>...</td>\n",
       "    </tr>\n",
       "    <tr>\n",
       "      <th>145</th>\n",
       "      <td>6.7</td>\n",
       "      <td>3.0</td>\n",
       "      <td>5.2</td>\n",
       "      <td>2.3</td>\n",
       "      <td>virginica</td>\n",
       "    </tr>\n",
       "    <tr>\n",
       "      <th>146</th>\n",
       "      <td>6.3</td>\n",
       "      <td>2.5</td>\n",
       "      <td>5.0</td>\n",
       "      <td>1.9</td>\n",
       "      <td>virginica</td>\n",
       "    </tr>\n",
       "    <tr>\n",
       "      <th>147</th>\n",
       "      <td>6.5</td>\n",
       "      <td>3.0</td>\n",
       "      <td>5.2</td>\n",
       "      <td>2.0</td>\n",
       "      <td>virginica</td>\n",
       "    </tr>\n",
       "    <tr>\n",
       "      <th>148</th>\n",
       "      <td>6.2</td>\n",
       "      <td>3.4</td>\n",
       "      <td>5.4</td>\n",
       "      <td>2.3</td>\n",
       "      <td>virginica</td>\n",
       "    </tr>\n",
       "    <tr>\n",
       "      <th>149</th>\n",
       "      <td>5.9</td>\n",
       "      <td>3.0</td>\n",
       "      <td>5.1</td>\n",
       "      <td>1.8</td>\n",
       "      <td>virginica</td>\n",
       "    </tr>\n",
       "  </tbody>\n",
       "</table>\n",
       "<p>150 rows × 5 columns</p>\n",
       "</div>"
      ],
      "text/plain": [
       "      SL   SW   PL   PW    species\n",
       "0    5.1  3.5  1.4  0.2     setosa\n",
       "1    4.9  3.0  1.4  0.2     setosa\n",
       "2    4.7  3.2  1.3  0.2     setosa\n",
       "3    4.6  3.1  1.5  0.2     setosa\n",
       "4    5.0  3.6  1.4  0.2     setosa\n",
       "..   ...  ...  ...  ...        ...\n",
       "145  6.7  3.0  5.2  2.3  virginica\n",
       "146  6.3  2.5  5.0  1.9  virginica\n",
       "147  6.5  3.0  5.2  2.0  virginica\n",
       "148  6.2  3.4  5.4  2.3  virginica\n",
       "149  5.9  3.0  5.1  1.8  virginica\n",
       "\n",
       "[150 rows x 5 columns]"
      ]
     },
     "execution_count": 11,
     "metadata": {},
     "output_type": "execute_result"
    }
   ],
   "source": [
    "data"
   ]
  },
  {
   "cell_type": "markdown",
   "id": "f83b9607",
   "metadata": {},
   "source": [
    "# Measures of Spread"
   ]
  },
  {
   "cell_type": "markdown",
   "id": "0c05db02",
   "metadata": {},
   "source": [
    "- Measured of Spread gives us an idea of how much the data is spread or varying. Some important measures of spread are:-\n",
    "\n",
    "1. Range\n",
    "2. Interquartile Range (IQR)\n",
    "3. Variance\n",
    "4. standard Deviation\n",
    "    "
   ]
  },
  {
   "cell_type": "markdown",
   "id": "5718aa6b",
   "metadata": {},
   "source": [
    "# 1. Range\n",
    "\n",
    "- The Range describes the difference between the largest and smallest point in your data"
   ]
  },
  {
   "cell_type": "code",
   "execution_count": 12,
   "id": "288b37a3",
   "metadata": {},
   "outputs": [
    {
     "name": "stdout",
     "output_type": "stream",
     "text": [
      "The range is 0.8999999999999999\n"
     ]
    }
   ],
   "source": [
    "r = np.max(iris_setosa['PL'] - np.min(iris_setosa['PL']))\n",
    "print('The range is', r)"
   ]
  },
  {
   "cell_type": "markdown",
   "id": "e89d2399",
   "metadata": {},
   "source": [
    "# 2. Percentile\n",
    "\n",
    "- A Percentile is a measure used in statistics indicating the value below which a given percentage of observations in a group of obsersvations fall. For example, the 20th percentile is the value below which 20% of the observations may be found"
   ]
  },
  {
   "cell_type": "code",
   "execution_count": 13,
   "id": "2a8e3ba4",
   "metadata": {},
   "outputs": [
    {
     "name": "stdout",
     "output_type": "stream",
     "text": [
      "1.8\n",
      "8.2\n"
     ]
    }
   ],
   "source": [
    "mylist = [1,2,3,4,5,6,7,8,9]\n",
    "\n",
    "print(np.percentile(mylist, 10))\n",
    "print(np.percentile(mylist, 90))"
   ]
  },
  {
   "cell_type": "code",
   "execution_count": 14,
   "id": "93f3cb5b",
   "metadata": {},
   "outputs": [
    {
     "data": {
      "text/plain": [
       "1.7"
      ]
     },
     "execution_count": 14,
     "metadata": {},
     "output_type": "execute_result"
    }
   ],
   "source": [
    "np.percentile(iris_setosa['PL'], 95)"
   ]
  },
  {
   "cell_type": "markdown",
   "id": "418a31b8",
   "metadata": {},
   "source": [
    "# 3. Quartile"
   ]
  },
  {
   "cell_type": "markdown",
   "id": "bc79db2a",
   "metadata": {},
   "source": [
    "- Quartile are the values that divides a list of numbers into quarters:-\n",
    "    \n",
    " - Put the list of numbers in order\n",
    " - Then cut the list into four equal parts\n",
    " - The Quartiles are at the 'cuts'"
   ]
  },
  {
   "cell_type": "code",
   "execution_count": 15,
   "id": "43ba7b59",
   "metadata": {},
   "outputs": [
    {
     "name": "stdout",
     "output_type": "stream",
     "text": [
      "1.4\n",
      "1.5\n",
      "1.5750000000000002\n",
      "1.9\n"
     ]
    }
   ],
   "source": [
    "print(np.percentile(iris_setosa['PL'],25))\n",
    "print(np.percentile(iris_setosa['PL'],50))\n",
    "print(np.percentile(iris_setosa['PL'],75))\n",
    "print(np.percentile(iris_setosa['PL'],100))"
   ]
  },
  {
   "cell_type": "markdown",
   "id": "57126863",
   "metadata": {},
   "source": [
    "# 4. Interquartile Range"
   ]
  },
  {
   "cell_type": "markdown",
   "id": "64fc86cd",
   "metadata": {},
   "source": [
    "- The interquartile range(IQR) is a measure of statistical dispersion between upper(75th) and lower(25th) quartiles."
   ]
  },
  {
   "cell_type": "code",
   "execution_count": 16,
   "id": "f0f8251b",
   "metadata": {},
   "outputs": [
    {
     "name": "stdout",
     "output_type": "stream",
     "text": [
      "The inter Quartile Range is 0.17500000000000027\n"
     ]
    }
   ],
   "source": [
    " iqr = np.percentile(iris_setosa['PL'],75) - np.percentile(iris_setosa['PL'],25)\n",
    " print('The inter Quartile Range is', iqr)"
   ]
  },
  {
   "cell_type": "markdown",
   "id": "e47c05fb",
   "metadata": {},
   "source": [
    "# 5. Mean Absolute Deviation"
   ]
  },
  {
   "attachments": {
    "MAD.PNG": {
     "image/png": "[encoded data removed]"
    }
   },
   "cell_type": "markdown",
   "id": "aaffe7be",
   "metadata": {},
   "source": [
    "- The Absolute Deviation from mean, also called Mean Absolute Deviation(MAD), describe the variation in the data set, in sense that it tells the average absolute distance of each point in the set.\n",
    "\n",
    "![MAD.PNG](attachment:MAD.PNG)"
   ]
  },
  {
   "cell_type": "markdown",
   "id": "7669203e",
   "metadata": {},
   "source": [
    "Example\n",
    "\n",
    "2,5,1,6,7,3,11\n",
    "\n",
    "The mean is 5\n",
    "\n",
    "(|2-5| + |5-5| + |1-5| + |6-5| + |7-5| + |3-5| + |11-5|)/7\n",
    "\n",
    "3+0+4+1+2+2+6=18/7=2.5"
   ]
  },
  {
   "cell_type": "markdown",
   "id": "b8e6771f",
   "metadata": {},
   "source": [
    "## 6. Variance"
   ]
  },
  {
   "cell_type": "markdown",
   "id": "643d8520",
   "metadata": {},
   "source": [
    "Variance measures how far are data points spread out from the mean.\n",
    "\n",
    "The variance is computed by finding the difference between every data point and the mean, squaring them, summing them up and then taking the average of those numbers.\n",
    "\n",
    "\n",
    "\n",
    "The squares are used during the calculation because they weight outliers more heavily than points that are near to the mean. This prevents that differences above the mean neutralize those below the mean.\n",
    "\n",
    "Example\n",
    "\n",
    "2,5,1,6,7,3,11\n",
    "\n",
    "The mean is 5\n",
    "\n",
    "((2-5)^2 + (5-5)^2 + (1-5)^2 + (6-5)^2 + (7-5)^2 + (3-5)^2 + (11-5)^2)/7\n",
    "\n",
    "9+0+16+1+4+4+36=70/7=10"
   ]
  },
  {
   "attachments": {
    "Variance.PNG": {
     "image/png": "[encoded data removed]"
    }
   },
   "cell_type": "markdown",
   "id": "b2979756",
   "metadata": {},
   "source": [
    "![Variance.PNG](attachment:Variance.PNG)"
   ]
  },
  {
   "cell_type": "code",
   "execution_count": 17,
   "id": "66219c73",
   "metadata": {},
   "outputs": [
    {
     "data": {
      "text/plain": [
       "0.02950400000000001"
      ]
     },
     "execution_count": 17,
     "metadata": {},
     "output_type": "execute_result"
    }
   ],
   "source": [
    "np.var(iris_setosa['PL'])"
   ]
  },
  {
   "cell_type": "markdown",
   "id": "2a86668d",
   "metadata": {},
   "source": [
    "### The problem with Variance\n",
    "The problem with Variance is that because of the squaring, it is not in the same unit of measurement as the original data.\n",
    "\n",
    "Let’s say you are dealing with a dataset that contains centimeter values. Your variance would be in squared centimeters and therefore not the best measurement."
   ]
  },
  {
   "cell_type": "markdown",
   "id": "c5f53c8c",
   "metadata": {},
   "source": [
    "## 7. Variance Vs Median Absolute Deviation"
   ]
  },
  {
   "cell_type": "markdown",
   "id": "83d2dc76",
   "metadata": {},
   "source": [
    "Variance is easy to work with in comparision to MAD as it works on squaring(a smooth function) the deviation in comparison to MAD where we use modulus( a non smooth function).\n",
    "\n",
    "Mathematically speaking smooth functions are easier to work with in comparison to non smooth functions"
   ]
  },
  {
   "cell_type": "markdown",
   "id": "06327d84",
   "metadata": {},
   "source": [
    "\n",
    "## 8. Standard Deviation\n",
    "\n",
    "The square root of Variance is called the Standard Deviation. It is calculated as:\n",
    "\n",
    "\n",
    "\n",
    "Example\n",
    "\n",
    "2,5,1,6,7,3,11\n",
    "\n",
    "The mean is 5\n",
    "\n",
    "((2-5)^2 + (5-5)^2 + (1-5)^2 + (6-5)^2 + (7-5)^2 + (3-5)^2 + (11-5)^2)/7\n",
    "\n",
    "9+0+16+1+4+4+36=70/7=10\n",
    "\n",
    "SD=sqrt(10)=3.16"
   ]
  },
  {
   "attachments": {
    "Standard%20Deviation.PNG": {
     "image/png": "[encoded data removed]"
    }
   },
   "cell_type": "markdown",
   "id": "7fc87d04",
   "metadata": {},
   "source": [
    "![Standard%20Deviation.PNG](attachment:Standard%20Deviation.PNG)"
   ]
  },
  {
   "cell_type": "code",
   "execution_count": 19,
   "id": "59afdb88",
   "metadata": {},
   "outputs": [
    {
     "data": {
      "text/plain": [
       "0.17176728442867115"
      ]
     },
     "execution_count": 19,
     "metadata": {},
     "output_type": "execute_result"
    }
   ],
   "source": [
    "np.std(iris_setosa['PL'])"
   ]
  },
  {
   "cell_type": "markdown",
   "id": "c35e9ebe",
   "metadata": {},
   "source": [
    "## 9. Median Absolute Deviation\n",
    "MAD is the median of all the number obtained from subtracting and calculating the absolute value of every observation with the median.\n",
    "\n",
    "Example:\n",
    "\n",
    "1,3,5,6,7,8,9\n",
    "\n",
    "Median is 6\n",
    "\n",
    "|1-6|,|3-6|,|5-6|,|6-6|,|7-6|,|8-6|,|9-6|\n",
    "\n",
    "5,3,1,0,1,2,3\n",
    "\n",
    "0,1,1,2,3,3,5\n",
    "\n",
    "Median Absolute Deviation is 2"
   ]
  },
  {
   "cell_type": "code",
   "execution_count": 20,
   "id": "7f7422a9",
   "metadata": {},
   "outputs": [
    {
     "data": {
      "text/plain": [
       "2.965204437011204"
      ]
     },
     "execution_count": 20,
     "metadata": {},
     "output_type": "execute_result"
    }
   ],
   "source": [
    "from statsmodels import robust\n",
    "robust.mad(np.array([1,3,5,6,7,8,9]))"
   ]
  },
  {
   "cell_type": "markdown",
   "id": "28b31d14",
   "metadata": {},
   "source": [
    "## 10. Standard Deviation Vs Median Absolute Deviation\n",
    "Just like mean vs median, Median Absolute Deviation is free from the effects of outliers from which Standard Deviation can suffer"
   ]
  },
  {
   "cell_type": "markdown",
   "id": "447790e7",
   "metadata": {},
   "source": [
    "## 11. Boxplot"
   ]
  },
  {
   "attachments": {
    "Boxplot.PNG": {
     "image/png": "[encoded data removed]"
    }
   },
   "cell_type": "markdown",
   "id": "b0531b5e",
   "metadata": {},
   "source": [
    "![Boxplot.PNG](attachment:Boxplot.PNG)"
   ]
  },
  {
   "cell_type": "code",
   "execution_count": 22,
   "id": "254f07d4",
   "metadata": {},
   "outputs": [
    {
     "data": {
      "text/plain": [
       "<AxesSubplot:xlabel='species', ylabel='PL'>"
      ]
     },
     "execution_count": 22,
     "metadata": {},
     "output_type": "execute_result"
    },
    {
     "data": {
      "image/png": "[encoded data removed]",
      "text/plain": [
       "<Figure size 432x288 with 1 Axes>"
      ]
     },
     "metadata": {
      "needs_background": "light"
     },
     "output_type": "display_data"
    }
   ],
   "source": [
    "sns.boxplot(x='species',y='PL',data=data)"
   ]
  }
 ],
 "metadata": {
  "kernelspec": {
   "display_name": "Python 3 (ipykernel)",
   "language": "python",
   "name": "python3"
  },
  "language_info": {
   "codemirror_mode": {
    "name": "ipython",
    "version": 3
   },
   "file_extension": ".py",
   "mimetype": "text/x-python",
   "name": "python",
   "nbconvert_exporter": "python",
   "pygments_lexer": "ipython3",
   "version": "3.9.7"
  }
 },
 "nbformat": 4,
 "nbformat_minor": 5
}
