{
 "cells": [
  {
   "cell_type": "markdown",
   "id": "4a75e9fb",
   "metadata": {},
   "source": [
    "Relational/Statistical Plots\n",
    "\n",
    "Relational Plots are used to perform multivariate analysis\n",
    "\n",
    "1. Scatter Plots\n",
    "2. Line Plots ( Specifically used for time series data)\n",
    "3. FacetGrids ( Plotting multiple graphs side by side)"
   ]
  },
  {
   "cell_type": "code",
   "execution_count": null,
   "id": "7d40730d",
   "metadata": {},
   "outputs": [],
   "source": []
  },
  {
   "cell_type": "code",
   "execution_count": null,
   "id": "8a1dc47d",
   "metadata": {},
   "outputs": [],
   "source": []
  },
  {
   "cell_type": "code",
   "execution_count": null,
   "id": "fc13d297",
   "metadata": {},
   "outputs": [],
   "source": []
  },
  {
   "cell_type": "code",
   "execution_count": null,
   "id": "7096a2aa",
   "metadata": {},
   "outputs": [],
   "source": []
  }
 ],
 "metadata": {
  "kernelspec": {
   "display_name": "Python 3 (ipykernel)",
   "language": "python",
   "name": "python3"
  },
  "language_info": {
   "codemirror_mode": {
    "name": "ipython",
    "version": 3
   },
   "file_extension": ".py",
   "mimetype": "text/x-python",
   "name": "python",
   "nbconvert_exporter": "python",
   "pygments_lexer": "ipython3",
   "version": "3.9.7"
  }
 },
 "nbformat": 4,
 "nbformat_minor": 5
}
