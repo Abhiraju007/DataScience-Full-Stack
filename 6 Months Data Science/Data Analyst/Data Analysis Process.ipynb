{
 "cells": [
  {
   "cell_type": "markdown",
   "id": "de771b32",
   "metadata": {},
   "source": [
    "Assessing Data:-\n",
    "    \n",
    "    1. Finding the numbers of rows/columns(Shape)\n",
    "    2. Data types of various column(info())\n",
    "    3. Checking for missing values(info())\n",
    "    4. Check for duplicate data (is_unique)\n",
    "    5. Memory occupied by the dataset(info)\n",
    "    6. High level mathematcial overview of the data(describe)"
   ]
  },
  {
   "cell_type": "markdown",
   "id": "8f3d2d25",
   "metadata": {},
   "source": [
    "Cleaning Data:-\n",
    "\n",
    "    1. Missing Data(e.g mean)\n",
    "    2. Remove Duplicate data(drop_duplicates)\n",
    "    3. Incorrect data type(astype)"
   ]
  },
  {
   "cell_type": "markdown",
   "id": "d1e4df86",
   "metadata": {},
   "source": [
    "Exploring Data:-\n",
    "\n",
    "    1. Find Correlation and Covariance\n",
    "    2. Doing Univariate and multivariate analysis\n",
    "    3. Plotting graphs( Data Visualization)"
   ]
  },
  {
   "cell_type": "markdown",
   "id": "d9f827d6",
   "metadata": {},
   "source": [
    "Augmenting Data:-\n",
    "    \n",
    "   1. Removing Outliers( Boxplot)\n",
    "   2. Mergning Dataframe\n",
    "   3. Adding new Column\n",
    "\n",
    "These all three steps we include, these operations are collectively called as Feature Engineering"
   ]
  },
  {
   "cell_type": "markdown",
   "id": "3a96a570",
   "metadata": {},
   "source": [
    "Drawing Conclusions:-\n",
    "    \n",
    "    1. Machine Learning\n",
    "    2. Inferential Statistics\n",
    "    3. Descriptive Statistics"
   ]
  },
  {
   "cell_type": "markdown",
   "id": "5a43e4d8",
   "metadata": {},
   "source": [
    "Some Examples conclusions based on Descriptive Statistics:-\n",
    "\n",
    "    1. Is Rohit Sharma a better batsman in 2nd innings(IPL Dataset) ?\n",
    "    2. Does being a female increases your chance of survival (Titanic Dataset) ?\n",
    "    3. Is Delhi the most costly place for eating out(Zomato Dataset) ?"
   ]
  },
  {
   "cell_type": "code",
   "execution_count": null,
   "id": "70f0804f",
   "metadata": {},
   "outputs": [],
   "source": [
    "Communicating Results/ Data Storytelling:-\n",
    "    1. In Person\n",
    "    2. Reports\n",
    "    3. Blog Post\n",
    "    4. PPTS"
   ]
  },
  {
   "cell_type": "code",
   "execution_count": null,
   "id": "f9386632",
   "metadata": {},
   "outputs": [],
   "source": []
  },
  {
   "cell_type": "code",
   "execution_count": null,
   "id": "c37742cc",
   "metadata": {},
   "outputs": [],
   "source": []
  },
  {
   "cell_type": "code",
   "execution_count": null,
   "id": "0d927ee8",
   "metadata": {},
   "outputs": [],
   "source": []
  }
 ],
 "metadata": {
  "kernelspec": {
   "display_name": "Python 3 (ipykernel)",
   "language": "python",
   "name": "python3"
  },
  "language_info": {
   "codemirror_mode": {
    "name": "ipython",
    "version": 3
   },
   "file_extension": ".py",
   "mimetype": "text/x-python",
   "name": "python",
   "nbconvert_exporter": "python",
   "pygments_lexer": "ipython3",
   "version": "3.9.7"
  }
 },
 "nbformat": 4,
 "nbformat_minor": 5
}
